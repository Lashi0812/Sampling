{
 "cells": [
  {
   "metadata": {
    "pycharm": {
     "name": "#%% md\n"
    }
   },
   "outputs": [],
   "source": [
    "# Bias Any Stretch of the Imagination"
   ],
   "execution_count": null,
   "cell_type": "markdown"
  },
  {
   "metadata": {
    "pycharm": {
     "name": "#%% md\n"
    }
   },
   "outputs": [],
   "source": [
    "## Living the sample life"
   ],
   "execution_count": null,
   "cell_type": "markdown"
  },
  {
   "metadata": {
    "pycharm": {
     "name": "#%% md\n"
    }
   },
   "outputs": [],
   "source": [
    "### 2. Estimating the population of France\n",
    "\n",
    "Let's consider the problem of counting how many people live in France. The standard approach is to take a census. This means contacting every household and asking how many people live there."
   ],
   "execution_count": null,
   "cell_type": "markdown"
  },
  {
   "metadata": {
    "pycharm": {
     "name": "#%% md\n"
    }
   },
   "outputs": [],
   "source": [
    "### 3. There are lots of people in France\n",
    "\n",
    "Since there are millions of people in France, this is a really expensive process. Even with modern data collection technology, most countries will only conduct a census every five or ten years due to the cost."
   ],
   "execution_count": null,
   "cell_type": "markdown"
  },
  {
   "metadata": {
    "pycharm": {
     "name": "#%% md\n"
    }
   },
   "outputs": [],
   "source": [
    "### 4. Sampling households\n",
    "\n",
    "In 1786, Pierre-Simon Laplace realized you could estimate the population with less effort. Rather than asking every household who lived there, he asked a small number of households and used statistics to estimate the number of people in the whole population. This technique of working with a subset of the whole population is called sampling."
   ],
   "execution_count": null,
   "cell_type": "markdown"
  },
  {
   "metadata": {
    "pycharm": {
     "name": "#%% md\n"
    }
   },
   "outputs": [],
   "source": [
    "### 5. Population vs. sample\n",
    "\n",
    "Two definitions are important for this course. The population is the complete set of data that we are interested in. The previous example involved the literal population of France, but in statistics, it doesn't have to refer to people. One thing to bear in mind is that there is usually no equivalent of the census, so typically, we won't know what the whole population is like - more on this in a moment. The sample is the subset of data that we are working with."
   ],
   "execution_count": null,
   "cell_type": "markdown"
  },
  {
   "metadata": {
    "pycharm": {
     "name": "#%% md\n"
    }
   },
   "outputs": [],
   "source": [
    "### 6. Coffee rating dataset\n",
    "\n",
    "Here's a dataset of professional ratings of coffees. Each row corresponds to one coffee, and there are thirteen hundred and thirty-eight rows in the dataset. The coffee is given a score from zero to one hundred, which is stored in the total_cup_points column. Other columns contain contextual information like the variety and country of origin and scores between zero and ten for attributes of the coffee such as aroma and body. These scores are averaged across all the reviewers for that particular coffee. It doesn't contain every coffee in the world, so we don't know exactly what the population of coffees is. However, there are enough here that we can think of it as our population of interest."
   ],
   "execution_count": null,
   "cell_type": "markdown"
  },
  {
   "cell_type": "code",
   "execution_count": 1,
   "outputs": [
    {
     "data": {
      "text/plain": "   total_cup_points  species                     owner country_of_origin  \\\n0             90.58  Arabica                 metad plc          Ethiopia   \n1             89.92  Arabica                 metad plc          Ethiopia   \n2             89.75  Arabica  grounds for health admin         Guatemala   \n3             89.00  Arabica       yidnekachew dabessa          Ethiopia   \n4             88.83  Arabica                 metad plc          Ethiopia   \n\n                                  farm_name lot_number       mill ico_number  \\\n0                                 metad plc       None  metad plc  2014/2015   \n1                                 metad plc       None  metad plc  2014/2015   \n2  san marcos barrancas \"san cristobal cuch       None       None       None   \n3     yidnekachew dabessa coffee plantation       None    wolensu       None   \n4                                 metad plc       None  metad plc  2014/2015   \n\n                                 company       altitude  ...  color  \\\n0      metad agricultural developmet plc      1950-2200  ...  Green   \n1      metad agricultural developmet plc      1950-2200  ...  Green   \n2                                   None  1600 - 1800 m  ...   None   \n3  yidnekachew debessa coffee plantation      1800-2200  ...  Green   \n4      metad agricultural developmet plc      1950-2200  ...  Green   \n\n  category_two_defects        expiration                  certification_body  \\\n0                  0.0   April 3rd, 2016  METAD Agricultural Development plc   \n1                  1.0   April 3rd, 2016  METAD Agricultural Development plc   \n2                  0.0    May 31st, 2011        Specialty Coffee Association   \n3                  2.0  March 25th, 2016  METAD Agricultural Development plc   \n4                  2.0   April 3rd, 2016  METAD Agricultural Development plc   \n\n                      certification_address  \\\n0  309fcf77415a3661ae83e027f7e5f05dad786e44   \n1  309fcf77415a3661ae83e027f7e5f05dad786e44   \n2  36d0d00a3724338ba7937c52a378d085f2172daa   \n3  309fcf77415a3661ae83e027f7e5f05dad786e44   \n4  309fcf77415a3661ae83e027f7e5f05dad786e44   \n\n                      certification_contact unit_of_measurement  \\\n0  19fef5a731de2db57d16da10287413f5f99bc2dd                   m   \n1  19fef5a731de2db57d16da10287413f5f99bc2dd                   m   \n2  0878a7d4b9d35ddbf0fe2ce69a2062cceb45a660                   m   \n3  19fef5a731de2db57d16da10287413f5f99bc2dd                   m   \n4  19fef5a731de2db57d16da10287413f5f99bc2dd                   m   \n\n  altitude_low_meters altitude_high_meters altitude_mean_meters  \n0              1950.0               2200.0               2075.0  \n1              1950.0               2200.0               2075.0  \n2              1600.0               1800.0               1700.0  \n3              1800.0               2200.0               2000.0  \n4              1950.0               2200.0               2075.0  \n\n[5 rows x 43 columns]",
      "text/html": "<div>\n<style scoped>\n    .dataframe tbody tr th:only-of-type {\n        vertical-align: middle;\n    }\n\n    .dataframe tbody tr th {\n        vertical-align: top;\n    }\n\n    .dataframe thead th {\n        text-align: right;\n    }\n</style>\n<table border=\"1\" class=\"dataframe\">\n  <thead>\n    <tr style=\"text-align: right;\">\n      <th></th>\n      <th>total_cup_points</th>\n      <th>species</th>\n      <th>owner</th>\n      <th>country_of_origin</th>\n      <th>farm_name</th>\n      <th>lot_number</th>\n      <th>mill</th>\n      <th>ico_number</th>\n      <th>company</th>\n      <th>altitude</th>\n      <th>...</th>\n      <th>color</th>\n      <th>category_two_defects</th>\n      <th>expiration</th>\n      <th>certification_body</th>\n      <th>certification_address</th>\n      <th>certification_contact</th>\n      <th>unit_of_measurement</th>\n      <th>altitude_low_meters</th>\n      <th>altitude_high_meters</th>\n      <th>altitude_mean_meters</th>\n    </tr>\n  </thead>\n  <tbody>\n    <tr>\n      <th>0</th>\n      <td>90.58</td>\n      <td>Arabica</td>\n      <td>metad plc</td>\n      <td>Ethiopia</td>\n      <td>metad plc</td>\n      <td>None</td>\n      <td>metad plc</td>\n      <td>2014/2015</td>\n      <td>metad agricultural developmet plc</td>\n      <td>1950-2200</td>\n      <td>...</td>\n      <td>Green</td>\n      <td>0.0</td>\n      <td>April 3rd, 2016</td>\n      <td>METAD Agricultural Development plc</td>\n      <td>309fcf77415a3661ae83e027f7e5f05dad786e44</td>\n      <td>19fef5a731de2db57d16da10287413f5f99bc2dd</td>\n      <td>m</td>\n      <td>1950.0</td>\n      <td>2200.0</td>\n      <td>2075.0</td>\n    </tr>\n    <tr>\n      <th>1</th>\n      <td>89.92</td>\n      <td>Arabica</td>\n      <td>metad plc</td>\n      <td>Ethiopia</td>\n      <td>metad plc</td>\n      <td>None</td>\n      <td>metad plc</td>\n      <td>2014/2015</td>\n      <td>metad agricultural developmet plc</td>\n      <td>1950-2200</td>\n      <td>...</td>\n      <td>Green</td>\n      <td>1.0</td>\n      <td>April 3rd, 2016</td>\n      <td>METAD Agricultural Development plc</td>\n      <td>309fcf77415a3661ae83e027f7e5f05dad786e44</td>\n      <td>19fef5a731de2db57d16da10287413f5f99bc2dd</td>\n      <td>m</td>\n      <td>1950.0</td>\n      <td>2200.0</td>\n      <td>2075.0</td>\n    </tr>\n    <tr>\n      <th>2</th>\n      <td>89.75</td>\n      <td>Arabica</td>\n      <td>grounds for health admin</td>\n      <td>Guatemala</td>\n      <td>san marcos barrancas \"san cristobal cuch</td>\n      <td>None</td>\n      <td>None</td>\n      <td>None</td>\n      <td>None</td>\n      <td>1600 - 1800 m</td>\n      <td>...</td>\n      <td>None</td>\n      <td>0.0</td>\n      <td>May 31st, 2011</td>\n      <td>Specialty Coffee Association</td>\n      <td>36d0d00a3724338ba7937c52a378d085f2172daa</td>\n      <td>0878a7d4b9d35ddbf0fe2ce69a2062cceb45a660</td>\n      <td>m</td>\n      <td>1600.0</td>\n      <td>1800.0</td>\n      <td>1700.0</td>\n    </tr>\n    <tr>\n      <th>3</th>\n      <td>89.00</td>\n      <td>Arabica</td>\n      <td>yidnekachew dabessa</td>\n      <td>Ethiopia</td>\n      <td>yidnekachew dabessa coffee plantation</td>\n      <td>None</td>\n      <td>wolensu</td>\n      <td>None</td>\n      <td>yidnekachew debessa coffee plantation</td>\n      <td>1800-2200</td>\n      <td>...</td>\n      <td>Green</td>\n      <td>2.0</td>\n      <td>March 25th, 2016</td>\n      <td>METAD Agricultural Development plc</td>\n      <td>309fcf77415a3661ae83e027f7e5f05dad786e44</td>\n      <td>19fef5a731de2db57d16da10287413f5f99bc2dd</td>\n      <td>m</td>\n      <td>1800.0</td>\n      <td>2200.0</td>\n      <td>2000.0</td>\n    </tr>\n    <tr>\n      <th>4</th>\n      <td>88.83</td>\n      <td>Arabica</td>\n      <td>metad plc</td>\n      <td>Ethiopia</td>\n      <td>metad plc</td>\n      <td>None</td>\n      <td>metad plc</td>\n      <td>2014/2015</td>\n      <td>metad agricultural developmet plc</td>\n      <td>1950-2200</td>\n      <td>...</td>\n      <td>Green</td>\n      <td>2.0</td>\n      <td>April 3rd, 2016</td>\n      <td>METAD Agricultural Development plc</td>\n      <td>309fcf77415a3661ae83e027f7e5f05dad786e44</td>\n      <td>19fef5a731de2db57d16da10287413f5f99bc2dd</td>\n      <td>m</td>\n      <td>1950.0</td>\n      <td>2200.0</td>\n      <td>2075.0</td>\n    </tr>\n  </tbody>\n</table>\n<p>5 rows × 43 columns</p>\n</div>"
     },
     "execution_count": 1,
     "metadata": {},
     "output_type": "execute_result"
    }
   ],
   "source": [
    "import itertools\n",
    "\n",
    "import pandas as pd\n",
    "\n",
    "coffee_rating = pd.read_feather(\"data/coffee_ratings_full.feather\")\n",
    "coffee_rating.head()"
   ],
   "metadata": {
    "collapsed": false,
    "pycharm": {
     "name": "#%%\n"
    }
   }
  },
  {
   "cell_type": "code",
   "execution_count": 2,
   "outputs": [
    {
     "data": {
      "text/plain": "(1338, 43)"
     },
     "execution_count": 2,
     "metadata": {},
     "output_type": "execute_result"
    }
   ],
   "source": [
    "coffee_rating.shape"
   ],
   "metadata": {
    "collapsed": false,
    "pycharm": {
     "name": "#%%\n"
    }
   }
  },
  {
   "metadata": {
    "pycharm": {
     "name": "#%% md\n"
    }
   },
   "outputs": [],
   "source": [
    "### 7. Points vs. flavor: population\n",
    "\n",
    "Let's consider the relationship between cup points and flavor by selecting those two columns. This dataset contains all thirteen hundred and thirty-eight rows from the original dataset."
   ],
   "execution_count": null,
   "cell_type": "markdown"
  },
  {
   "cell_type": "code",
   "execution_count": 3,
   "outputs": [
    {
     "data": {
      "text/plain": "   total_cup_points  flavor\n0             90.58    8.83\n1             89.92    8.67\n2             89.75    8.50\n3             89.00    8.58\n4             88.83    8.50",
      "text/html": "<div>\n<style scoped>\n    .dataframe tbody tr th:only-of-type {\n        vertical-align: middle;\n    }\n\n    .dataframe tbody tr th {\n        vertical-align: top;\n    }\n\n    .dataframe thead th {\n        text-align: right;\n    }\n</style>\n<table border=\"1\" class=\"dataframe\">\n  <thead>\n    <tr style=\"text-align: right;\">\n      <th></th>\n      <th>total_cup_points</th>\n      <th>flavor</th>\n    </tr>\n  </thead>\n  <tbody>\n    <tr>\n      <th>0</th>\n      <td>90.58</td>\n      <td>8.83</td>\n    </tr>\n    <tr>\n      <th>1</th>\n      <td>89.92</td>\n      <td>8.67</td>\n    </tr>\n    <tr>\n      <th>2</th>\n      <td>89.75</td>\n      <td>8.50</td>\n    </tr>\n    <tr>\n      <th>3</th>\n      <td>89.00</td>\n      <td>8.58</td>\n    </tr>\n    <tr>\n      <th>4</th>\n      <td>88.83</td>\n      <td>8.50</td>\n    </tr>\n  </tbody>\n</table>\n</div>"
     },
     "execution_count": 3,
     "metadata": {},
     "output_type": "execute_result"
    }
   ],
   "source": [
    "pts_vs_flavor_pop = coffee_rating[[\"total_cup_points\",\"flavor\"]]\n",
    "pts_vs_flavor_pop.head()"
   ],
   "metadata": {
    "collapsed": false,
    "pycharm": {
     "name": "#%%\n"
    }
   }
  },
  {
   "metadata": {
    "pycharm": {
     "name": "#%% md\n"
    }
   },
   "outputs": [],
   "source": [
    "### 8. Points vs. flavor: 10 row sample\n",
    "\n",
    "The pandas dot-sample method returns a random subset of rows. Setting n to ten means ten random rows are returned. By default, rows from the original dataset can't appear in the sample dataset multiple times, so we are guaranteed to have ten unique rows in our sample."
   ],
   "execution_count": null,
   "cell_type": "markdown"
  },
  {
   "cell_type": "code",
   "execution_count": 4,
   "outputs": [
    {
     "data": {
      "text/plain": "      total_cup_points  flavor\n820              81.92    7.58\n1015             80.92    7.58\n898              81.58    7.42\n798              82.00    7.50\n240              84.00    7.75\n1020             80.92    7.33\n296              83.75    7.67\n268              83.92    7.58\n377              83.42    7.67\n11               87.92    8.42",
      "text/html": "<div>\n<style scoped>\n    .dataframe tbody tr th:only-of-type {\n        vertical-align: middle;\n    }\n\n    .dataframe tbody tr th {\n        vertical-align: top;\n    }\n\n    .dataframe thead th {\n        text-align: right;\n    }\n</style>\n<table border=\"1\" class=\"dataframe\">\n  <thead>\n    <tr style=\"text-align: right;\">\n      <th></th>\n      <th>total_cup_points</th>\n      <th>flavor</th>\n    </tr>\n  </thead>\n  <tbody>\n    <tr>\n      <th>820</th>\n      <td>81.92</td>\n      <td>7.58</td>\n    </tr>\n    <tr>\n      <th>1015</th>\n      <td>80.92</td>\n      <td>7.58</td>\n    </tr>\n    <tr>\n      <th>898</th>\n      <td>81.58</td>\n      <td>7.42</td>\n    </tr>\n    <tr>\n      <th>798</th>\n      <td>82.00</td>\n      <td>7.50</td>\n    </tr>\n    <tr>\n      <th>240</th>\n      <td>84.00</td>\n      <td>7.75</td>\n    </tr>\n    <tr>\n      <th>1020</th>\n      <td>80.92</td>\n      <td>7.33</td>\n    </tr>\n    <tr>\n      <th>296</th>\n      <td>83.75</td>\n      <td>7.67</td>\n    </tr>\n    <tr>\n      <th>268</th>\n      <td>83.92</td>\n      <td>7.58</td>\n    </tr>\n    <tr>\n      <th>377</th>\n      <td>83.42</td>\n      <td>7.67</td>\n    </tr>\n    <tr>\n      <th>11</th>\n      <td>87.92</td>\n      <td>8.42</td>\n    </tr>\n  </tbody>\n</table>\n</div>"
     },
     "execution_count": 4,
     "metadata": {},
     "output_type": "execute_result"
    }
   ],
   "source": [
    "pts_vs_flavor_sample = pts_vs_flavor_pop.sample(n=10)\n",
    "pts_vs_flavor_sample"
   ],
   "metadata": {
    "collapsed": false,
    "pycharm": {
     "name": "#%%\n"
    }
   }
  },
  {
   "metadata": {
    "pycharm": {
     "name": "#%% md\n"
    }
   },
   "outputs": [],
   "source": [
    "### 9. Python sampling for Series\n",
    "\n",
    "The dot-sample method also works on pandas Series. Here, using square-bracket subsetting retrieves the total_cup_points column as a Series, and the n argument specifies how many random values to return."
   ],
   "execution_count": null,
   "cell_type": "markdown"
  },
  {
   "cell_type": "code",
   "execution_count": 5,
   "outputs": [
    {
     "data": {
      "text/plain": "1020    80.92\n976     81.17\n1275    75.58\n789     82.08\n495     83.08\n1046    80.75\n1243    77.92\n1130    79.92\n51      86.00\n1186    79.17\nName: total_cup_points, dtype: float64"
     },
     "execution_count": 5,
     "metadata": {},
     "output_type": "execute_result"
    }
   ],
   "source": [
    "cup_points_samp = coffee_rating[\"total_cup_points\"].sample(n=10)\n",
    "cup_points_samp"
   ],
   "metadata": {
    "collapsed": false,
    "pycharm": {
     "name": "#%%\n"
    }
   }
  },
  {
   "metadata": {
    "pycharm": {
     "name": "#%% md\n"
    }
   },
   "outputs": [],
   "source": [
    "### 10. Population parameters & point estimates\n",
    "\n",
    "A population parameter is a calculation made on the population dataset. We aren't limited to counting values either; here, we calculate the mean of the cup points using NumPy. By contrast, a point estimate, or sample statistic, is a calculation based on the sample dataset. Here, the mean of the total cup points is calculated on the sample. Notice that the means are very similar but not identical."
   ],
   "execution_count": null,
   "cell_type": "markdown"
  },
  {
   "cell_type": "code",
   "execution_count": 6,
   "outputs": [
    {
     "data": {
      "text/plain": "82.15120328849018"
     },
     "execution_count": 6,
     "metadata": {},
     "output_type": "execute_result"
    }
   ],
   "source": [
    "import numpy as np\n",
    "np.mean(coffee_rating[\"total_cup_points\"])"
   ],
   "metadata": {
    "collapsed": false,
    "pycharm": {
     "name": "#%%\n"
    }
   }
  },
  {
   "cell_type": "code",
   "execution_count": 7,
   "outputs": [
    {
     "data": {
      "text/plain": "80.65899999999999"
     },
     "execution_count": 7,
     "metadata": {},
     "output_type": "execute_result"
    }
   ],
   "source": [
    "np.mean(cup_points_samp)"
   ],
   "metadata": {
    "collapsed": false,
    "pycharm": {
     "name": "#%%\n"
    }
   }
  },
  {
   "metadata": {
    "pycharm": {
     "name": "#%% md\n"
    }
   },
   "outputs": [],
   "source": [
    "### 11. Point estimates with pandas\n",
    "\n",
    "Working with pandas can be easier than working with NumPy. These mean calculations can be performed using the dot-mean pandas method."
   ],
   "execution_count": null,
   "cell_type": "markdown"
  },
  {
   "cell_type": "code",
   "execution_count": 8,
   "outputs": [
    {
     "data": {
      "text/plain": "7.526046337817636"
     },
     "execution_count": 8,
     "metadata": {},
     "output_type": "execute_result"
    }
   ],
   "source": [
    "pts_vs_flavor_pop[\"flavor\"].mean()\n"
   ],
   "metadata": {
    "collapsed": false,
    "pycharm": {
     "name": "#%%\n"
    }
   }
  },
  {
   "cell_type": "code",
   "execution_count": 9,
   "outputs": [
    {
     "data": {
      "text/plain": "7.65"
     },
     "execution_count": 9,
     "metadata": {},
     "output_type": "execute_result"
    }
   ],
   "source": [
    "pts_vs_flavor_sample[\"flavor\"].mean()"
   ],
   "metadata": {
    "collapsed": false,
    "pycharm": {
     "name": "#%%\n"
    }
   }
  },
  {
   "metadata": {
    "pycharm": {
     "name": "#%% md\n"
    }
   },
   "outputs": [],
   "source": [
    "### 12. Let's practice!\n",
    "\n",
    "Let's start sampling!"
   ],
   "execution_count": null,
   "cell_type": "markdown"
  },
  {
   "metadata": {
    "pycharm": {
     "name": "#%% md\n"
    }
   },
   "outputs": [],
   "source": [
    "## Simple sampling with pandas\n",
    "\n",
    "<p>Throughout this chapter, you'll be exploring song data from Spotify. Each row of this population dataset represents a song, and there are over 40,000 rows. Columns include the song name, the artists who performed it, the release year, and attributes of the song like its duration, tempo, and danceability. You'll start by looking at the durations.</p>\n",
    "<p>Your first task is to sample the Spotify dataset and compare the mean duration of the population with the sample.</p>\n",
    "<p><code>spotify_population</code> is available and <code>pandas</code> is loaded as <code>pd</code>.</p>"
   ],
   "execution_count": null,
   "cell_type": "markdown"
  },
  {
   "cell_type": "code",
   "execution_count": 10,
   "outputs": [
    {
     "data": {
      "text/plain": "(41656, 20)"
     },
     "execution_count": 10,
     "metadata": {},
     "output_type": "execute_result"
    }
   ],
   "source": [
    "spotify_population = pd.read_feather(\"data/spotify_2000_2020.feather\")\n",
    "spotify_population.shape"
   ],
   "metadata": {
    "collapsed": false,
    "pycharm": {
     "name": "#%%\n"
    }
   }
  },
  {
   "cell_type": "markdown",
   "source": [
    "Sample 1000 rows from <code>spotify_population</code>, assigning to <code>spotify_sample</code>."
   ],
   "metadata": {
    "collapsed": false,
    "pycharm": {
     "name": "#%% md\n"
    }
   }
  },
  {
   "cell_type": "code",
   "execution_count": 11,
   "outputs": [
    {
     "data": {
      "text/plain": "       acousticness                                           artists  \\\n8312        0.01420                                   ['The Strokes']   \n20186       0.01030                                 ['Cole Swindell']   \n38652       0.32900                          ['Tedeschi Trucks Band']   \n9440        0.02420                                  ['Dixie Chicks']   \n18994       0.00841  ['...And You Will Know Us by the Trail of Dead']   \n...             ...                                               ...   \n3277        0.01910                                ['Arctic Monkeys']   \n37158       0.01390            ['Bad Bunny', 'Diplo', 'Nitti Gritti']   \n37431       0.11700            ['Famous Dex', 'Rich The Kid', 'Tyga']   \n2303        0.01450                                       ['Blondie']   \n39487       0.34400                                  ['Lil Uzi Vert']   \n\n       danceability  duration_ms  duration_minutes  energy  explicit  \\\n8312          0.620     375320.0          6.255333   0.780       0.0   \n20186         0.602     169547.0          2.825783   0.851       0.0   \n38652         0.483     328853.0          5.480883   0.573       0.0   \n9440          0.703     258493.0          4.308217   0.689       0.0   \n18994         0.255     273624.0          4.560400   0.858       0.0   \n...             ...          ...               ...     ...       ...   \n3277          0.434     183507.0          3.058450   0.912       0.0   \n37158         0.850     170509.0          2.841817   0.500       1.0   \n37431         0.929     177404.0          2.956733   0.636       1.0   \n2303          0.659     272267.0          4.537783   0.780       0.0   \n39487         0.803     238425.0          3.973750   0.719       1.0   \n\n                           id  instrumentalness   key  liveness  loudness  \\\n8312   6IRzBP4gVoV4D2zHmocoWy          0.011000   7.0    0.0833    -4.466   \n20186  0jgHUwPyki1mzZNErUhL96          0.000000  11.0    0.1910    -2.706   \n38652  6P6PwoZNACtrkTsIZV8XS8          0.002840   7.0    0.0865    -8.850   \n9440   6hRZ6K5MzPMKxUoEqHjBW0          0.000000   0.0    0.0757    -7.462   \n18994  2uO57D5iy4YJ9eMcbnlY8y          0.000355   7.0    0.5130    -5.085   \n...                       ...               ...   ...       ...       ...   \n3277   577M06tqh2BwsT1qqZOBM1          0.278000   9.0    0.3260    -5.148   \n37158  5jGUJXnELDaDTgiRjD9lsg          0.000384   8.0    0.0947    -6.708   \n37431  4ugUxONjaw667etXxQUPR3          0.000000   7.0    0.0994    -5.366   \n2303   0P2fgmJp3a3PEu808hiQ1Y          0.034900   4.0    0.1810    -8.425   \n39487  7gHZGXSJzM29WA384suYY2          0.000000   0.0    0.4250    -4.485   \n\n       mode                                         name  popularity  \\\n8312    0.0                               Eternal Summer        69.0   \n20186   1.0                                    Hey Y'all        47.0   \n38652   1.0                              Bound for Glory        49.0   \n9440    1.0                                 Goodbye Earl        46.0   \n18994   1.0                       Another Morning Stoner        35.0   \n...     ...                                          ...         ...   \n3277    1.0  Don't Sit Down 'Cause I've Moved Your Chair        46.0   \n37158   1.0                                      200 Mph        70.0   \n37431   1.0      What I Like (feat. Rich The Kid & Tyga)        70.0   \n2303    1.0                 Heart Of Glass - Special Mix        41.0   \n39487   1.0                               Secure The Bag        66.0   \n\n      release_date  speechiness    tempo  valence    year  \n8312    2020-04-10       0.0364   93.954    0.328  2020.0  \n20186   2014-02-18       0.0393  111.960    0.631  2014.0  \n38652   2011-06-03       0.0376   90.742    0.512  2011.0  \n9440          2010       0.0293  122.814    0.802  2010.0  \n18994   2002-02-26       0.0694  144.653    0.237  2002.0  \n...            ...          ...      ...      ...     ...  \n3277    2011-06-07       0.0451  119.729    0.315  2011.0  \n37158   2018-12-23       0.0665  160.020    0.816  2018.0  \n37431   2020-04-03       0.2850  105.103    0.687  2020.0  \n2303    2002-01-01       0.0309  114.421    0.808  2002.0  \n39487   2020-03-06       0.3920  129.945    0.549  2020.0  \n\n[1000 rows x 20 columns]",
      "text/html": "<div>\n<style scoped>\n    .dataframe tbody tr th:only-of-type {\n        vertical-align: middle;\n    }\n\n    .dataframe tbody tr th {\n        vertical-align: top;\n    }\n\n    .dataframe thead th {\n        text-align: right;\n    }\n</style>\n<table border=\"1\" class=\"dataframe\">\n  <thead>\n    <tr style=\"text-align: right;\">\n      <th></th>\n      <th>acousticness</th>\n      <th>artists</th>\n      <th>danceability</th>\n      <th>duration_ms</th>\n      <th>duration_minutes</th>\n      <th>energy</th>\n      <th>explicit</th>\n      <th>id</th>\n      <th>instrumentalness</th>\n      <th>key</th>\n      <th>liveness</th>\n      <th>loudness</th>\n      <th>mode</th>\n      <th>name</th>\n      <th>popularity</th>\n      <th>release_date</th>\n      <th>speechiness</th>\n      <th>tempo</th>\n      <th>valence</th>\n      <th>year</th>\n    </tr>\n  </thead>\n  <tbody>\n    <tr>\n      <th>8312</th>\n      <td>0.01420</td>\n      <td>['The Strokes']</td>\n      <td>0.620</td>\n      <td>375320.0</td>\n      <td>6.255333</td>\n      <td>0.780</td>\n      <td>0.0</td>\n      <td>6IRzBP4gVoV4D2zHmocoWy</td>\n      <td>0.011000</td>\n      <td>7.0</td>\n      <td>0.0833</td>\n      <td>-4.466</td>\n      <td>0.0</td>\n      <td>Eternal Summer</td>\n      <td>69.0</td>\n      <td>2020-04-10</td>\n      <td>0.0364</td>\n      <td>93.954</td>\n      <td>0.328</td>\n      <td>2020.0</td>\n    </tr>\n    <tr>\n      <th>20186</th>\n      <td>0.01030</td>\n      <td>['Cole Swindell']</td>\n      <td>0.602</td>\n      <td>169547.0</td>\n      <td>2.825783</td>\n      <td>0.851</td>\n      <td>0.0</td>\n      <td>0jgHUwPyki1mzZNErUhL96</td>\n      <td>0.000000</td>\n      <td>11.0</td>\n      <td>0.1910</td>\n      <td>-2.706</td>\n      <td>1.0</td>\n      <td>Hey Y'all</td>\n      <td>47.0</td>\n      <td>2014-02-18</td>\n      <td>0.0393</td>\n      <td>111.960</td>\n      <td>0.631</td>\n      <td>2014.0</td>\n    </tr>\n    <tr>\n      <th>38652</th>\n      <td>0.32900</td>\n      <td>['Tedeschi Trucks Band']</td>\n      <td>0.483</td>\n      <td>328853.0</td>\n      <td>5.480883</td>\n      <td>0.573</td>\n      <td>0.0</td>\n      <td>6P6PwoZNACtrkTsIZV8XS8</td>\n      <td>0.002840</td>\n      <td>7.0</td>\n      <td>0.0865</td>\n      <td>-8.850</td>\n      <td>1.0</td>\n      <td>Bound for Glory</td>\n      <td>49.0</td>\n      <td>2011-06-03</td>\n      <td>0.0376</td>\n      <td>90.742</td>\n      <td>0.512</td>\n      <td>2011.0</td>\n    </tr>\n    <tr>\n      <th>9440</th>\n      <td>0.02420</td>\n      <td>['Dixie Chicks']</td>\n      <td>0.703</td>\n      <td>258493.0</td>\n      <td>4.308217</td>\n      <td>0.689</td>\n      <td>0.0</td>\n      <td>6hRZ6K5MzPMKxUoEqHjBW0</td>\n      <td>0.000000</td>\n      <td>0.0</td>\n      <td>0.0757</td>\n      <td>-7.462</td>\n      <td>1.0</td>\n      <td>Goodbye Earl</td>\n      <td>46.0</td>\n      <td>2010</td>\n      <td>0.0293</td>\n      <td>122.814</td>\n      <td>0.802</td>\n      <td>2010.0</td>\n    </tr>\n    <tr>\n      <th>18994</th>\n      <td>0.00841</td>\n      <td>['...And You Will Know Us by the Trail of Dead']</td>\n      <td>0.255</td>\n      <td>273624.0</td>\n      <td>4.560400</td>\n      <td>0.858</td>\n      <td>0.0</td>\n      <td>2uO57D5iy4YJ9eMcbnlY8y</td>\n      <td>0.000355</td>\n      <td>7.0</td>\n      <td>0.5130</td>\n      <td>-5.085</td>\n      <td>1.0</td>\n      <td>Another Morning Stoner</td>\n      <td>35.0</td>\n      <td>2002-02-26</td>\n      <td>0.0694</td>\n      <td>144.653</td>\n      <td>0.237</td>\n      <td>2002.0</td>\n    </tr>\n    <tr>\n      <th>...</th>\n      <td>...</td>\n      <td>...</td>\n      <td>...</td>\n      <td>...</td>\n      <td>...</td>\n      <td>...</td>\n      <td>...</td>\n      <td>...</td>\n      <td>...</td>\n      <td>...</td>\n      <td>...</td>\n      <td>...</td>\n      <td>...</td>\n      <td>...</td>\n      <td>...</td>\n      <td>...</td>\n      <td>...</td>\n      <td>...</td>\n      <td>...</td>\n      <td>...</td>\n    </tr>\n    <tr>\n      <th>3277</th>\n      <td>0.01910</td>\n      <td>['Arctic Monkeys']</td>\n      <td>0.434</td>\n      <td>183507.0</td>\n      <td>3.058450</td>\n      <td>0.912</td>\n      <td>0.0</td>\n      <td>577M06tqh2BwsT1qqZOBM1</td>\n      <td>0.278000</td>\n      <td>9.0</td>\n      <td>0.3260</td>\n      <td>-5.148</td>\n      <td>1.0</td>\n      <td>Don't Sit Down 'Cause I've Moved Your Chair</td>\n      <td>46.0</td>\n      <td>2011-06-07</td>\n      <td>0.0451</td>\n      <td>119.729</td>\n      <td>0.315</td>\n      <td>2011.0</td>\n    </tr>\n    <tr>\n      <th>37158</th>\n      <td>0.01390</td>\n      <td>['Bad Bunny', 'Diplo', 'Nitti Gritti']</td>\n      <td>0.850</td>\n      <td>170509.0</td>\n      <td>2.841817</td>\n      <td>0.500</td>\n      <td>1.0</td>\n      <td>5jGUJXnELDaDTgiRjD9lsg</td>\n      <td>0.000384</td>\n      <td>8.0</td>\n      <td>0.0947</td>\n      <td>-6.708</td>\n      <td>1.0</td>\n      <td>200 Mph</td>\n      <td>70.0</td>\n      <td>2018-12-23</td>\n      <td>0.0665</td>\n      <td>160.020</td>\n      <td>0.816</td>\n      <td>2018.0</td>\n    </tr>\n    <tr>\n      <th>37431</th>\n      <td>0.11700</td>\n      <td>['Famous Dex', 'Rich The Kid', 'Tyga']</td>\n      <td>0.929</td>\n      <td>177404.0</td>\n      <td>2.956733</td>\n      <td>0.636</td>\n      <td>1.0</td>\n      <td>4ugUxONjaw667etXxQUPR3</td>\n      <td>0.000000</td>\n      <td>7.0</td>\n      <td>0.0994</td>\n      <td>-5.366</td>\n      <td>1.0</td>\n      <td>What I Like (feat. Rich The Kid &amp; Tyga)</td>\n      <td>70.0</td>\n      <td>2020-04-03</td>\n      <td>0.2850</td>\n      <td>105.103</td>\n      <td>0.687</td>\n      <td>2020.0</td>\n    </tr>\n    <tr>\n      <th>2303</th>\n      <td>0.01450</td>\n      <td>['Blondie']</td>\n      <td>0.659</td>\n      <td>272267.0</td>\n      <td>4.537783</td>\n      <td>0.780</td>\n      <td>0.0</td>\n      <td>0P2fgmJp3a3PEu808hiQ1Y</td>\n      <td>0.034900</td>\n      <td>4.0</td>\n      <td>0.1810</td>\n      <td>-8.425</td>\n      <td>1.0</td>\n      <td>Heart Of Glass - Special Mix</td>\n      <td>41.0</td>\n      <td>2002-01-01</td>\n      <td>0.0309</td>\n      <td>114.421</td>\n      <td>0.808</td>\n      <td>2002.0</td>\n    </tr>\n    <tr>\n      <th>39487</th>\n      <td>0.34400</td>\n      <td>['Lil Uzi Vert']</td>\n      <td>0.803</td>\n      <td>238425.0</td>\n      <td>3.973750</td>\n      <td>0.719</td>\n      <td>1.0</td>\n      <td>7gHZGXSJzM29WA384suYY2</td>\n      <td>0.000000</td>\n      <td>0.0</td>\n      <td>0.4250</td>\n      <td>-4.485</td>\n      <td>1.0</td>\n      <td>Secure The Bag</td>\n      <td>66.0</td>\n      <td>2020-03-06</td>\n      <td>0.3920</td>\n      <td>129.945</td>\n      <td>0.549</td>\n      <td>2020.0</td>\n    </tr>\n  </tbody>\n</table>\n<p>1000 rows × 20 columns</p>\n</div>"
     },
     "execution_count": 11,
     "metadata": {},
     "output_type": "execute_result"
    }
   ],
   "source": [
    "spotify_sample = spotify_population.sample(1000)\n",
    "spotify_sample"
   ],
   "metadata": {
    "collapsed": false,
    "pycharm": {
     "name": "#%%\n"
    }
   }
  },
  {
   "cell_type": "code",
   "execution_count": 12,
   "outputs": [
    {
     "name": "stdout",
     "output_type": "stream",
     "text": [
      "3.8521519140899896\n",
      "3.8157025000000004\n"
     ]
    }
   ],
   "source": [
    "# Calculate the mean duration in mins from spotify_population\n",
    "mean_dur_pop = spotify_population[\"duration_minutes\"].mean()\n",
    "\n",
    "# Calculate the mean duration in mins from spotify_sample\n",
    "mean_dur_samp = spotify_sample[\"duration_minutes\"].mean()\n",
    "\n",
    "# Print the means\n",
    "print(mean_dur_pop)\n",
    "print(mean_dur_samp)"
   ],
   "metadata": {
    "collapsed": false,
    "pycharm": {
     "name": "#%%\n"
    }
   }
  },
  {
   "metadata": {
    "pycharm": {
     "name": "#%% md\n"
    }
   },
   "outputs": [],
   "source": [
    "## Simple sampling and calculating with NumPy\n",
    "\n",
    "<p>You can also use <code>numpy</code> to calculate parameters or statistics from a list or <code>pandas</code> Series.</p>\n",
    "<p>You'll be turning it up to eleven and looking at the <code>loudness</code> property of each song.</p>\n",
    "<p><code>spotify_population</code> is available and <code>numpy</code> is loaded as <code>np</code>.</p>"
   ],
   "execution_count": null,
   "cell_type": "markdown"
  },
  {
   "metadata": {
    "pycharm": {
     "name": "#%% md\n"
    }
   },
   "outputs": [],
   "source": [
    "Create a <code>pandas</code> Series from the <code>loudness</code> column of <code>spotify_population</code>, assigning it to <code>loudness_pop</code>."
   ],
   "execution_count": null,
   "cell_type": "markdown"
  },
  {
   "metadata": {
    "pycharm": {
     "name": "#%% md\n"
    }
   },
   "outputs": [],
   "source": [
    "Sample <code>loudness_pop</code> to get 100 random values, assigning to <code>loudness_samp</code>."
   ],
   "execution_count": null,
   "cell_type": "markdown"
  },
  {
   "cell_type": "code",
   "execution_count": 13,
   "outputs": [
    {
     "name": "stdout",
     "output_type": "stream",
     "text": [
      "40307    -3.713\n",
      "2330     -9.883\n",
      "37703    -7.184\n",
      "4610    -11.169\n",
      "26366    -9.576\n",
      "          ...  \n",
      "1521     -4.074\n",
      "37990   -11.624\n",
      "20178    -7.365\n",
      "38682    -7.208\n",
      "41523    -5.027\n",
      "Name: loudness, Length: 100, dtype: float64\n"
     ]
    }
   ],
   "source": [
    "# Create a pandas Series from the loudness column of spotify_population\n",
    "loudness_pop = spotify_population[\"loudness\"]\n",
    "\n",
    "# Sample 100 values of loudness_pop\n",
    "loudness_samp = loudness_pop.sample(100)\n",
    "\n",
    "# Print the sample\n",
    "print(loudness_samp)"
   ],
   "metadata": {
    "collapsed": false,
    "pycharm": {
     "name": "#%%\n"
    }
   }
  },
  {
   "cell_type": "code",
   "execution_count": 14,
   "outputs": [
    {
     "name": "stdout",
     "output_type": "stream",
     "text": [
      "-7.366856851353918\n",
      "-6.8285300000000015\n"
     ]
    }
   ],
   "source": [
    "# Calculate the mean of loudness_pop\n",
    "mean_loudness_pop = np.mean(loudness_pop)\n",
    "\n",
    "# Calculate the mean of loudness_samp\n",
    "mean_loudness_samp = np.mean(loudness_samp)\n",
    "\n",
    "# Print the means\n",
    "print(mean_loudness_pop)\n",
    "print(mean_loudness_samp)"
   ],
   "metadata": {
    "collapsed": false,
    "pycharm": {
     "name": "#%%\n"
    }
   }
  },
  {
   "metadata": {
    "pycharm": {
     "name": "#%% md\n"
    }
   },
   "outputs": [],
   "source": [
    "## A little too convenient"
   ],
   "execution_count": null,
   "cell_type": "markdown"
  },
  {
   "metadata": {
    "pycharm": {
     "name": "#%% md\n"
    }
   },
   "outputs": [],
   "source": [
    "### 1. A little too convenient\n",
    "\n",
    "The point estimates you calculated in the previous exercises were very close to the population parameters that they were based on, but is this always the case?"
   ],
   "execution_count": null,
   "cell_type": "markdown"
  },
  {
   "metadata": {
    "pycharm": {
     "name": "#%% md\n"
    }
   },
   "outputs": [],
   "source": [
    "### 2. The Literary Digest election prediction\n",
    "\n",
    "In 1936, a newspaper called The Literary Digest ran an extensive poll to try to predict the next US presidential election. They phoned ten million voters and had over two million responses. About one-point-three million people said they would vote for Landon, and just under one million people said they would vote for Roosevelt. That is, Landon was predicted to get fifty-seven percent of the vote, and Roosevelt was predicted to get forty-three percent of the vote. Since the sample size was so large, it was presumed that this poll would be very accurate. However, in the election, Roosevelt won by a landslide with sixty-two percent of the vote. So what went wrong? Well, in 1936, telephones were a luxury, so the only people who had been contacted by The Literary Digest were relatively rich. The sample of voters was not representative of the whole population of voters, and so the poll suffered from sample bias. **The data was collected by the easiest method, in this case, telephoning people. This is called convenience sampling and is often prone to sample bias.** Before sampling, we need to think about our data collection process to avoid biased results.\n",
    "\n",
    "<br>\n",
    "<img src=\"image/img.png\">"
   ],
   "execution_count": null,
   "cell_type": "markdown"
  },
  {
   "metadata": {
    "pycharm": {
     "name": "#%% md\n"
    }
   },
   "outputs": [],
   "source": [
    "### 3. Finding the mean age of French people\n",
    "\n",
    "Let's look at another example. While on vacation at Disneyland Paris, you start wondering about the mean age of French people. To get an answer, you ask ten people stood nearby about their ages. Their mean age is twenty-four-point-six years old. Do you think this will be a good estimate of the mean age of all French citizens?"
   ],
   "execution_count": null,
   "cell_type": "markdown"
  },
  {
   "metadata": {
    "pycharm": {
     "name": "#%% md\n"
    }
   },
   "outputs": [],
   "source": [
    "### 4. How accurate was the survey?\n",
    "\n",
    "On the left, you can see mean ages taken from the French census. Notice that the population has been gradually getting older as birth rates decrease and life expectancy increases. In 2015, the mean age was over forty, so our estimate of twenty-four-point-six is way off. The problem is that the family-friendly fun at Disneyland means that the sample ages weren't representative of the general population. There are generally more eight-year-olds than eighty-year-olds riding rollercoasters."
   ],
   "execution_count": null,
   "cell_type": "markdown"
  },
  {
   "metadata": {
    "pycharm": {
     "name": "#%% md\n"
    }
   },
   "outputs": [],
   "source": [
    "### 5. Convenience sampling coffee ratings\n",
    "\n",
    "Let's return to the coffee ratings dataset and look at the mean cup points population parameter. The mean is about eighty-two. One form of convenience sampling would be to take the first ten rows, rather than the random rows we saw in the previous video. We can take the first 10 rows with the pandas head method. The mean cup points from this sample is higher at eighty-nine. The discrepancy suggests that coffees with higher cup points appear near the start of the dataset. Again, the convenience sample isn't representative of the whole population."
   ],
   "execution_count": null,
   "cell_type": "markdown"
  },
  {
   "cell_type": "code",
   "execution_count": 15,
   "outputs": [
    {
     "data": {
      "text/plain": "82.15120328849018"
     },
     "execution_count": 15,
     "metadata": {},
     "output_type": "execute_result"
    }
   ],
   "source": [
    "coffee_rating[\"total_cup_points\"].mean()"
   ],
   "metadata": {
    "collapsed": false,
    "pycharm": {
     "name": "#%%\n"
    }
   }
  },
  {
   "cell_type": "code",
   "execution_count": 16,
   "outputs": [
    {
     "data": {
      "text/plain": "   total_cup_points  species                        owner country_of_origin  \\\n0             90.58  Arabica                    metad plc          Ethiopia   \n1             89.92  Arabica                    metad plc          Ethiopia   \n2             89.75  Arabica     grounds for health admin         Guatemala   \n3             89.00  Arabica          yidnekachew dabessa          Ethiopia   \n4             88.83  Arabica                    metad plc          Ethiopia   \n5             88.83  Arabica                    ji-ae ahn            Brazil   \n6             88.75  Arabica                hugo valdivia              Peru   \n7             88.67  Arabica  ethiopia commodity exchange          Ethiopia   \n8             88.42  Arabica  ethiopia commodity exchange          Ethiopia   \n9             88.25  Arabica       diamond enterprise plc          Ethiopia   \n\n                                  farm_name lot_number               mill  \\\n0                                 metad plc       None          metad plc   \n1                                 metad plc       None          metad plc   \n2  san marcos barrancas \"san cristobal cuch       None               None   \n3     yidnekachew dabessa coffee plantation       None            wolensu   \n4                                 metad plc       None          metad plc   \n5                                      None       None               None   \n6                                      None       None                hvc   \n7                                     aolme       None            c.p.w.e   \n8                                     aolme       None            c.p.w.e   \n9                         tulla coffee farm       None  tulla coffee farm   \n\n  ico_number                                company       altitude  ...  \\\n0  2014/2015      metad agricultural developmet plc      1950-2200  ...   \n1  2014/2015      metad agricultural developmet plc      1950-2200  ...   \n2       None                                   None  1600 - 1800 m  ...   \n3       None  yidnekachew debessa coffee plantation      1800-2200  ...   \n4  2014/2015      metad agricultural developmet plc      1950-2200  ...   \n5       None                                   None           None  ...   \n6       None  richmond investment-coffee department           None  ...   \n7   010/0338                                   None      1570-1700  ...   \n8   010/0338                                   None      1570-1700  ...   \n9    2014/15                 diamond enterprise plc      1795-1850  ...   \n\n          color category_two_defects            expiration  \\\n0         Green                  0.0       April 3rd, 2016   \n1         Green                  1.0       April 3rd, 2016   \n2          None                  0.0        May 31st, 2011   \n3         Green                  2.0      March 25th, 2016   \n4         Green                  2.0       April 3rd, 2016   \n5  Bluish-Green                  1.0   September 3rd, 2014   \n6  Bluish-Green                  0.0  September 17th, 2013   \n7          None                  0.0   September 2nd, 2011   \n8          None                  0.0   September 2nd, 2011   \n9         Green                  4.0      March 29th, 2016   \n\n                   certification_body  \\\n0  METAD Agricultural Development plc   \n1  METAD Agricultural Development plc   \n2        Specialty Coffee Association   \n3  METAD Agricultural Development plc   \n4  METAD Agricultural Development plc   \n5  Specialty Coffee Institute of Asia   \n6  Specialty Coffee Institute of Asia   \n7         Ethiopia Commodity Exchange   \n8         Ethiopia Commodity Exchange   \n9  METAD Agricultural Development plc   \n\n                      certification_address  \\\n0  309fcf77415a3661ae83e027f7e5f05dad786e44   \n1  309fcf77415a3661ae83e027f7e5f05dad786e44   \n2  36d0d00a3724338ba7937c52a378d085f2172daa   \n3  309fcf77415a3661ae83e027f7e5f05dad786e44   \n4  309fcf77415a3661ae83e027f7e5f05dad786e44   \n5  726e4891cf2c9a4848768bd34b668124d12c4224   \n6  726e4891cf2c9a4848768bd34b668124d12c4224   \n7  a176532400aebdc345cf3d870f84ed3ecab6249e   \n8  a176532400aebdc345cf3d870f84ed3ecab6249e   \n9  309fcf77415a3661ae83e027f7e5f05dad786e44   \n\n                      certification_contact unit_of_measurement  \\\n0  19fef5a731de2db57d16da10287413f5f99bc2dd                   m   \n1  19fef5a731de2db57d16da10287413f5f99bc2dd                   m   \n2  0878a7d4b9d35ddbf0fe2ce69a2062cceb45a660                   m   \n3  19fef5a731de2db57d16da10287413f5f99bc2dd                   m   \n4  19fef5a731de2db57d16da10287413f5f99bc2dd                   m   \n5  b70da261fcc84831e3e9620c30a8701540abc200                   m   \n6  b70da261fcc84831e3e9620c30a8701540abc200                   m   \n7  61bbaf6a9f341e5782b8e7bd3ebf76aac89fe24b                   m   \n8  61bbaf6a9f341e5782b8e7bd3ebf76aac89fe24b                   m   \n9  19fef5a731de2db57d16da10287413f5f99bc2dd                   m   \n\n  altitude_low_meters altitude_high_meters altitude_mean_meters  \n0              1950.0               2200.0               2075.0  \n1              1950.0               2200.0               2075.0  \n2              1600.0               1800.0               1700.0  \n3              1800.0               2200.0               2000.0  \n4              1950.0               2200.0               2075.0  \n5                 NaN                  NaN                  NaN  \n6                 NaN                  NaN                  NaN  \n7              1570.0               1700.0               1635.0  \n8              1570.0               1700.0               1635.0  \n9              1795.0               1850.0               1822.5  \n\n[10 rows x 43 columns]",
      "text/html": "<div>\n<style scoped>\n    .dataframe tbody tr th:only-of-type {\n        vertical-align: middle;\n    }\n\n    .dataframe tbody tr th {\n        vertical-align: top;\n    }\n\n    .dataframe thead th {\n        text-align: right;\n    }\n</style>\n<table border=\"1\" class=\"dataframe\">\n  <thead>\n    <tr style=\"text-align: right;\">\n      <th></th>\n      <th>total_cup_points</th>\n      <th>species</th>\n      <th>owner</th>\n      <th>country_of_origin</th>\n      <th>farm_name</th>\n      <th>lot_number</th>\n      <th>mill</th>\n      <th>ico_number</th>\n      <th>company</th>\n      <th>altitude</th>\n      <th>...</th>\n      <th>color</th>\n      <th>category_two_defects</th>\n      <th>expiration</th>\n      <th>certification_body</th>\n      <th>certification_address</th>\n      <th>certification_contact</th>\n      <th>unit_of_measurement</th>\n      <th>altitude_low_meters</th>\n      <th>altitude_high_meters</th>\n      <th>altitude_mean_meters</th>\n    </tr>\n  </thead>\n  <tbody>\n    <tr>\n      <th>0</th>\n      <td>90.58</td>\n      <td>Arabica</td>\n      <td>metad plc</td>\n      <td>Ethiopia</td>\n      <td>metad plc</td>\n      <td>None</td>\n      <td>metad plc</td>\n      <td>2014/2015</td>\n      <td>metad agricultural developmet plc</td>\n      <td>1950-2200</td>\n      <td>...</td>\n      <td>Green</td>\n      <td>0.0</td>\n      <td>April 3rd, 2016</td>\n      <td>METAD Agricultural Development plc</td>\n      <td>309fcf77415a3661ae83e027f7e5f05dad786e44</td>\n      <td>19fef5a731de2db57d16da10287413f5f99bc2dd</td>\n      <td>m</td>\n      <td>1950.0</td>\n      <td>2200.0</td>\n      <td>2075.0</td>\n    </tr>\n    <tr>\n      <th>1</th>\n      <td>89.92</td>\n      <td>Arabica</td>\n      <td>metad plc</td>\n      <td>Ethiopia</td>\n      <td>metad plc</td>\n      <td>None</td>\n      <td>metad plc</td>\n      <td>2014/2015</td>\n      <td>metad agricultural developmet plc</td>\n      <td>1950-2200</td>\n      <td>...</td>\n      <td>Green</td>\n      <td>1.0</td>\n      <td>April 3rd, 2016</td>\n      <td>METAD Agricultural Development plc</td>\n      <td>309fcf77415a3661ae83e027f7e5f05dad786e44</td>\n      <td>19fef5a731de2db57d16da10287413f5f99bc2dd</td>\n      <td>m</td>\n      <td>1950.0</td>\n      <td>2200.0</td>\n      <td>2075.0</td>\n    </tr>\n    <tr>\n      <th>2</th>\n      <td>89.75</td>\n      <td>Arabica</td>\n      <td>grounds for health admin</td>\n      <td>Guatemala</td>\n      <td>san marcos barrancas \"san cristobal cuch</td>\n      <td>None</td>\n      <td>None</td>\n      <td>None</td>\n      <td>None</td>\n      <td>1600 - 1800 m</td>\n      <td>...</td>\n      <td>None</td>\n      <td>0.0</td>\n      <td>May 31st, 2011</td>\n      <td>Specialty Coffee Association</td>\n      <td>36d0d00a3724338ba7937c52a378d085f2172daa</td>\n      <td>0878a7d4b9d35ddbf0fe2ce69a2062cceb45a660</td>\n      <td>m</td>\n      <td>1600.0</td>\n      <td>1800.0</td>\n      <td>1700.0</td>\n    </tr>\n    <tr>\n      <th>3</th>\n      <td>89.00</td>\n      <td>Arabica</td>\n      <td>yidnekachew dabessa</td>\n      <td>Ethiopia</td>\n      <td>yidnekachew dabessa coffee plantation</td>\n      <td>None</td>\n      <td>wolensu</td>\n      <td>None</td>\n      <td>yidnekachew debessa coffee plantation</td>\n      <td>1800-2200</td>\n      <td>...</td>\n      <td>Green</td>\n      <td>2.0</td>\n      <td>March 25th, 2016</td>\n      <td>METAD Agricultural Development plc</td>\n      <td>309fcf77415a3661ae83e027f7e5f05dad786e44</td>\n      <td>19fef5a731de2db57d16da10287413f5f99bc2dd</td>\n      <td>m</td>\n      <td>1800.0</td>\n      <td>2200.0</td>\n      <td>2000.0</td>\n    </tr>\n    <tr>\n      <th>4</th>\n      <td>88.83</td>\n      <td>Arabica</td>\n      <td>metad plc</td>\n      <td>Ethiopia</td>\n      <td>metad plc</td>\n      <td>None</td>\n      <td>metad plc</td>\n      <td>2014/2015</td>\n      <td>metad agricultural developmet plc</td>\n      <td>1950-2200</td>\n      <td>...</td>\n      <td>Green</td>\n      <td>2.0</td>\n      <td>April 3rd, 2016</td>\n      <td>METAD Agricultural Development plc</td>\n      <td>309fcf77415a3661ae83e027f7e5f05dad786e44</td>\n      <td>19fef5a731de2db57d16da10287413f5f99bc2dd</td>\n      <td>m</td>\n      <td>1950.0</td>\n      <td>2200.0</td>\n      <td>2075.0</td>\n    </tr>\n    <tr>\n      <th>5</th>\n      <td>88.83</td>\n      <td>Arabica</td>\n      <td>ji-ae ahn</td>\n      <td>Brazil</td>\n      <td>None</td>\n      <td>None</td>\n      <td>None</td>\n      <td>None</td>\n      <td>None</td>\n      <td>None</td>\n      <td>...</td>\n      <td>Bluish-Green</td>\n      <td>1.0</td>\n      <td>September 3rd, 2014</td>\n      <td>Specialty Coffee Institute of Asia</td>\n      <td>726e4891cf2c9a4848768bd34b668124d12c4224</td>\n      <td>b70da261fcc84831e3e9620c30a8701540abc200</td>\n      <td>m</td>\n      <td>NaN</td>\n      <td>NaN</td>\n      <td>NaN</td>\n    </tr>\n    <tr>\n      <th>6</th>\n      <td>88.75</td>\n      <td>Arabica</td>\n      <td>hugo valdivia</td>\n      <td>Peru</td>\n      <td>None</td>\n      <td>None</td>\n      <td>hvc</td>\n      <td>None</td>\n      <td>richmond investment-coffee department</td>\n      <td>None</td>\n      <td>...</td>\n      <td>Bluish-Green</td>\n      <td>0.0</td>\n      <td>September 17th, 2013</td>\n      <td>Specialty Coffee Institute of Asia</td>\n      <td>726e4891cf2c9a4848768bd34b668124d12c4224</td>\n      <td>b70da261fcc84831e3e9620c30a8701540abc200</td>\n      <td>m</td>\n      <td>NaN</td>\n      <td>NaN</td>\n      <td>NaN</td>\n    </tr>\n    <tr>\n      <th>7</th>\n      <td>88.67</td>\n      <td>Arabica</td>\n      <td>ethiopia commodity exchange</td>\n      <td>Ethiopia</td>\n      <td>aolme</td>\n      <td>None</td>\n      <td>c.p.w.e</td>\n      <td>010/0338</td>\n      <td>None</td>\n      <td>1570-1700</td>\n      <td>...</td>\n      <td>None</td>\n      <td>0.0</td>\n      <td>September 2nd, 2011</td>\n      <td>Ethiopia Commodity Exchange</td>\n      <td>a176532400aebdc345cf3d870f84ed3ecab6249e</td>\n      <td>61bbaf6a9f341e5782b8e7bd3ebf76aac89fe24b</td>\n      <td>m</td>\n      <td>1570.0</td>\n      <td>1700.0</td>\n      <td>1635.0</td>\n    </tr>\n    <tr>\n      <th>8</th>\n      <td>88.42</td>\n      <td>Arabica</td>\n      <td>ethiopia commodity exchange</td>\n      <td>Ethiopia</td>\n      <td>aolme</td>\n      <td>None</td>\n      <td>c.p.w.e</td>\n      <td>010/0338</td>\n      <td>None</td>\n      <td>1570-1700</td>\n      <td>...</td>\n      <td>None</td>\n      <td>0.0</td>\n      <td>September 2nd, 2011</td>\n      <td>Ethiopia Commodity Exchange</td>\n      <td>a176532400aebdc345cf3d870f84ed3ecab6249e</td>\n      <td>61bbaf6a9f341e5782b8e7bd3ebf76aac89fe24b</td>\n      <td>m</td>\n      <td>1570.0</td>\n      <td>1700.0</td>\n      <td>1635.0</td>\n    </tr>\n    <tr>\n      <th>9</th>\n      <td>88.25</td>\n      <td>Arabica</td>\n      <td>diamond enterprise plc</td>\n      <td>Ethiopia</td>\n      <td>tulla coffee farm</td>\n      <td>None</td>\n      <td>tulla coffee farm</td>\n      <td>2014/15</td>\n      <td>diamond enterprise plc</td>\n      <td>1795-1850</td>\n      <td>...</td>\n      <td>Green</td>\n      <td>4.0</td>\n      <td>March 29th, 2016</td>\n      <td>METAD Agricultural Development plc</td>\n      <td>309fcf77415a3661ae83e027f7e5f05dad786e44</td>\n      <td>19fef5a731de2db57d16da10287413f5f99bc2dd</td>\n      <td>m</td>\n      <td>1795.0</td>\n      <td>1850.0</td>\n      <td>1822.5</td>\n    </tr>\n  </tbody>\n</table>\n<p>10 rows × 43 columns</p>\n</div>"
     },
     "execution_count": 16,
     "metadata": {},
     "output_type": "execute_result"
    }
   ],
   "source": [
    "coffee_rating_first10 = coffee_rating.head(10)\n",
    "coffee_rating_first10"
   ],
   "metadata": {
    "collapsed": false,
    "pycharm": {
     "name": "#%%\n"
    }
   }
  },
  {
   "cell_type": "code",
   "execution_count": 17,
   "outputs": [
    {
     "data": {
      "text/plain": "89.1"
     },
     "execution_count": 17,
     "metadata": {},
     "output_type": "execute_result"
    }
   ],
   "source": [
    "coffee_rating_first10[\"total_cup_points\"].mean()"
   ],
   "metadata": {
    "collapsed": false,
    "pycharm": {
     "name": "#%%\n"
    }
   }
  },
  {
   "metadata": {
    "pycharm": {
     "name": "#%% md\n"
    }
   },
   "outputs": [],
   "source": [
    "### 6. Visualizing selection bias\n",
    "\n",
    "Histograms are a great way to visualize the selection bias. We can create a histogram of the total cup points from the population, which contains values ranging from around 59 to around 91. The numpy-dot-arange function can be used to create bins of width 2 from 59 to 91. Recall that the stop value in numpy-dot-arange is exclusive, so we specify 93, not 91. Here's the same code to generate a histogram for the convenience sample."
   ],
   "execution_count": null,
   "cell_type": "markdown"
  },
  {
   "cell_type": "code",
   "execution_count": 18,
   "outputs": [
    {
     "data": {
      "text/plain": "<Figure size 1080x432 with 3 Axes>",
      "image/png": "[encoded data removed]"
     },
     "metadata": {
      "needs_background": "light"
     },
     "output_type": "display_data"
    }
   ],
   "source": [
    "import matplotlib.pyplot as plt\n",
    "\n",
    "fig,(ax1,ax2,ax3) =plt.subplots(nrows=1,ncols=3,figsize=(15,6))\n",
    "coffee_rating[\"total_cup_points\"].hist(bins=np.arange(59,93,2),ax=ax1)\n",
    "coffee_rating_first10[\"total_cup_points\"].hist(bins=np.arange(59,93,2),ax=ax2)\n",
    "cup_points_samp.hist(bins=np.arange(59,93,2),ax=ax3)\n",
    "ax1.set_title(\"Population\")\n",
    "ax2.set_title(\"Convenience Sample\")\n",
    "ax3.set_title(\"Random Sample\")\n",
    "plt.show()\n",
    "\n"
   ],
   "metadata": {
    "collapsed": false,
    "pycharm": {
     "name": "#%%\n"
    }
   }
  },
  {
   "metadata": {
    "pycharm": {
     "name": "#%% md\n"
    }
   },
   "outputs": [],
   "source": [
    "### 7. Distribution of a population and of a convenience sample\n",
    "\n",
    "Comparing the two histograms, it is clear that the distribution of the sample is not the same as the population: all of the sample values are on the right-hand side of the plot."
   ],
   "execution_count": null,
   "cell_type": "markdown"
  },
  {
   "metadata": {
    "pycharm": {
     "name": "#%% md\n"
    }
   },
   "outputs": [],
   "source": [
    "### 8. Visualizing selection bias for a random sample\n",
    "\n",
    "This time, we'll compare the total_cup_points distribution of the population with a random sample of 10 coffees."
   ],
   "execution_count": null,
   "cell_type": "markdown"
  },
  {
   "metadata": {
    "pycharm": {
     "name": "#%% md\n"
    }
   },
   "outputs": [],
   "source": [
    "### 9. Distribution of a population and of a simple random sample\n",
    "\n",
    "Notice how the shape of the distributions is more closely aligned when random sampling is used."
   ],
   "execution_count": null,
   "cell_type": "markdown"
  },
  {
   "metadata": {
    "pycharm": {
     "name": "#%% md\n"
    }
   },
   "outputs": [],
   "source": [
    "### 10. Let's practice!\n",
    "\n",
    "Let's plot some histograms!"
   ],
   "execution_count": null,
   "cell_type": "markdown"
  },
  {
   "metadata": {
    "pycharm": {
     "name": "#%% md\n"
    }
   },
   "outputs": [],
   "source": [
    "## Are the findings from this sample generalizable?\n",
    "\n",
    "<p>You just saw how convenience sampling—collecting data using the easiest method—can result in samples that aren't representative of the population. Equivalently, this means findings from the sample are not generalizable to the population. Visualizing the distributions of the population and the sample can help determine whether or not the sample is representative of the population.</p>\n",
    "<p>The Spotify dataset contains an <code>acousticness</code> column, which is a confidence measure from zero to one of whether the track was made with instruments that aren't plugged in. You'll compare the <code>acousticness</code> distribution of the total population of songs with a sample of those songs.</p>\n",
    "<p><code>spotify_population</code> and <code>spotify_mysterious_sample</code> are available; <code>pandas</code> as <code>pd</code>, <code>matplotlib.pyplot</code> as <code>plt</code>, and <code>numpy</code> as <code>np</code> are loaded.</p>"
   ],
   "execution_count": null,
   "cell_type": "markdown"
  },
  {
   "metadata": {
    "pycharm": {
     "name": "#%% md\n"
    }
   },
   "outputs": [],
   "source": [
    "Plot a histogram of the <code>acousticness</code> from <code>spotify_population</code> with bins of width <code>0.01</code> from <code>0</code> to <code>1</code> using pandas <code>.hist()</code>."
   ],
   "execution_count": null,
   "cell_type": "markdown"
  },
  {
   "cell_type": "code",
   "execution_count": 19,
   "outputs": [
    {
     "data": {
      "text/plain": "<Figure size 432x288 with 1 Axes>",
      "image/png": "[encoded data removed]"
     },
     "metadata": {
      "needs_background": "light"
     },
     "output_type": "display_data"
    }
   ],
   "source": [
    "# Visualize the distribution of acousticness with a histogram\n",
    "spotify_population[\"acousticness\"].hist(bins=np.arange(0,1.01,0.01))\n",
    "plt.show()"
   ],
   "metadata": {
    "collapsed": false,
    "pycharm": {
     "name": "#%%\n"
    }
   }
  },
  {
   "cell_type": "code",
   "execution_count": 20,
   "outputs": [
    {
     "data": {
      "text/plain": "<Figure size 432x288 with 1 Axes>",
      "image/png": "[encoded data removed]"
     },
     "metadata": {
      "needs_background": "light"
     },
     "output_type": "display_data"
    }
   ],
   "source": [
    "spotify_mysterious_sample = spotify_population[spotify_population[\"acousticness\"] > 0.95]\n",
    "spotify_mysterious_sample[\"acousticness\"].hist(bins=np.arange(0.1,1.01,0.01))\n",
    "plt.show()"
   ],
   "metadata": {
    "collapsed": false,
    "pycharm": {
     "name": "#%%\n"
    }
   }
  },
  {
   "cell_type": "markdown",
   "source": [
    "<div class=\"exercise--instructions\"><div class=\"dc-u-pb-8\"><h4>Question</h4><div class=\"\"><p><em>Compare the two histograms you drew.</em> Are the <code>acousticness</code> values in the sample generalizable to the general population?</p></div></div><div class=\"exercise--instructions-title\"><h5>Possible Answers</h5></div><div class=\"exercise--typography exercise--multiple-choice-focused\"><ul class=\"exercise--multiple-choice\"><li class=\"multiple-choice__item\"><div class=\"dc-u-fx dc-u-fx-jcsb multiple-choice__options\"><div><label for=\"inp_0\" class=\"dc-input-radio\" data-cy=\"mce-option\"><input id=\"inp_0\" data-cy=\"multiple-choice-input-0\" type=\"radio\" class=\"dc-input-radio__input\" value=\"1\"><span class=\"dc-input-radio__indicator\"></span><div class=\"dc-input-radio__text\">Yes. Any sample should lead to a generalizable result about the population.</div></label></div></div></li><li class=\"multiple-choice__item\"><div class=\"dc-u-fx dc-u-fx-jcsb multiple-choice__options\"><div><label for=\"inp_1\" class=\"dc-input-radio\" data-cy=\"mce-option\"><input id=\"inp_1\" data-cy=\"multiple-choice-input-1\" type=\"radio\" class=\"dc-input-radio__input\" value=\"2\"><span class=\"dc-input-radio__indicator\"></span><div class=\"dc-input-radio__text\">Yes. The sample selected is likely a random sample of all songs in our population.</div></label></div></div></li><li class=\"multiple-choice__item\"><div class=\"dc-u-fx dc-u-fx-jcsb multiple-choice__options\"><div><label for=\"inp_2\" class=\"dc-input-radio\" data-cy=\"mce-option\"><input id=\"inp_2\" data-cy=\"multiple-choice-input-2\" type=\"radio\" class=\"dc-input-radio__input\" value=\"3\"><span class=\"dc-input-radio__indicator\"></span><div class=\"dc-input-radio__text\">No. Samples can never lead to generalizable results about the population.</div></label></div></div></li><li class=\"multiple-choice__item\"><div class=\"dc-u-fx dc-u-fx-jcsb multiple-choice__options\"><div><label for=\"inp_3\" class=\"dc-input-radio\" data-cy=\"mce-option\"><input id=\"inp_3\" data-cy=\"multiple-choice-input-3\" type=\"radio\" class=\"dc-input-radio__input\" value=\"4\"><span class=\"dc-input-radio__indicator\"></span><div class=\"dc-input-radio__text\">No. The <code>acousticness</code> samples are consistently higher than those in the general population.</div></label></div></div></li><li class=\"multiple-choice__item\"><div class=\"dc-u-fx dc-u-fx-jcsb multiple-choice__options\"><div><label for=\"inp_4\" class=\"dc-input-radio\" data-cy=\"mce-option\"><input id=\"inp_4\" data-cy=\"multiple-choice-input-4\" type=\"radio\" class=\"dc-input-radio__input\" value=\"5\"><span class=\"dc-input-radio__indicator\"></span><div class=\"dc-input-radio__text\">No. The <code>acousticness</code> samples are consistently lower than those in the general population.</div></label></div></div></li></ul>"
   ],
   "metadata": {
    "collapsed": false,
    "pycharm": {
     "name": "#%% md\n"
    }
   }
  },
  {
   "cell_type": "markdown",
   "source": [
    "The acousticness values in the sample are all greater than 0.95, whereas they range from 0 to 1 in the whole population."
   ],
   "metadata": {
    "collapsed": false,
    "pycharm": {
     "name": "#%% md\n"
    }
   }
  },
  {
   "metadata": {
    "pycharm": {
     "name": "#%% md\n"
    }
   },
   "outputs": [],
   "source": [
    "## Are these findings generalizable?\n",
    "\n",
    "<p>Let's look at another sample to see if it is representative of the population. This time, you'll look at the <code>duration_minutes</code> column of the Spotify dataset, which contains the length of the song in minutes.</p>\n",
    "<p><code>spotify_population</code> and <code>spotify_mysterious_sample2</code> are available; <code>pandas</code>, <code>matplotlib.pyplot</code>, and <code>numpy</code> are loaded using their standard aliases.</p>"
   ],
   "execution_count": null,
   "cell_type": "markdown"
  },
  {
   "metadata": {
    "pycharm": {
     "name": "#%% md\n"
    }
   },
   "outputs": [],
   "source": [
    "Plot a histogram of <code>duration_minutes</code> from <code>spotify_population</code> with bins of width <code>0.5</code> from <code>0</code> to <code>15</code> using pandas <code>.hist()</code>."
   ],
   "execution_count": null,
   "cell_type": "markdown"
  },
  {
   "cell_type": "code",
   "execution_count": 21,
   "outputs": [
    {
     "data": {
      "text/plain": "<Figure size 432x288 with 1 Axes>",
      "image/png": "[encoded data removed]"
     },
     "metadata": {
      "needs_background": "light"
     },
     "output_type": "display_data"
    }
   ],
   "source": [
    "# Visualize the distribution of duration_minutes as a histogram\n",
    "spotify_population[\"duration_minutes\"].hist(bins=np.arange(0,15.5,0.5))\n",
    "plt.show()"
   ],
   "metadata": {
    "collapsed": false,
    "pycharm": {
     "name": "#%%\n"
    }
   }
  },
  {
   "cell_type": "code",
   "execution_count": 22,
   "outputs": [
    {
     "data": {
      "text/plain": "<Figure size 432x288 with 1 Axes>",
      "image/png": "[encoded data removed]"
     },
     "metadata": {
      "needs_background": "light"
     },
     "output_type": "display_data"
    }
   ],
   "source": [
    "spotify_mysterious_sample2 = spotify_population.sample(50)\n",
    "spotify_mysterious_sample2[\"duration_minutes\"].hist(bins=np.arange(0,15.1,0.5))\n",
    "plt.show()"
   ],
   "metadata": {
    "collapsed": false,
    "pycharm": {
     "name": "#%%\n"
    }
   }
  },
  {
   "cell_type": "markdown",
   "source": [
    "<div class=\"exercise--instructions\"><div class=\"dc-u-pb-8\"><h4>Question</h4><div class=\"\"><p><em>Compare the two histograms you drew.</em> Are the duration values in the sample generalizable to the general population?</p></div></div><div class=\"exercise--instructions-title\"><h5>Possible Answers</h5></div><div class=\"exercise--typography\"><ul class=\"exercise--multiple-choice\"><li class=\"multiple-choice__item\"><div class=\"dc-u-fx dc-u-fx-jcsb multiple-choice__options\"><div><label for=\"inp_0\" class=\"dc-input-radio\" data-cy=\"mce-option\"><input id=\"inp_0\" data-cy=\"multiple-choice-input-0\" type=\"radio\" class=\"dc-input-radio__input\" value=\"1\"><span class=\"dc-input-radio__indicator\"></span><div class=\"dc-input-radio__text\">Yes. Any sample should lead to a generalizable result about the population.</div></label></div></div></li><li class=\"multiple-choice__item\"><div class=\"dc-u-fx dc-u-fx-jcsb multiple-choice__options\"><div><label for=\"inp_1\" class=\"dc-input-radio\" data-cy=\"mce-option\"><input id=\"inp_1\" data-cy=\"multiple-choice-input-1\" type=\"radio\" class=\"dc-input-radio__input\" value=\"2\" checked=\"\"><span class=\"dc-input-radio__indicator\"></span><div class=\"dc-input-radio__text\">Yes. The sample selected is likely a random sample of all songs in the population.</div></label></div></div></li><li class=\"multiple-choice__item\"><div class=\"dc-u-fx dc-u-fx-jcsb multiple-choice__options\"><div><label for=\"inp_2\" class=\"dc-input-radio\" data-cy=\"mce-option\"><input id=\"inp_2\" data-cy=\"multiple-choice-input-2\" type=\"radio\" class=\"dc-input-radio__input\" value=\"3\"><span class=\"dc-input-radio__indicator\"></span><div class=\"dc-input-radio__text\">No. Samples can never lead to generalizable results about the population.</div></label></div></div></li><li class=\"multiple-choice__item\"><div class=\"dc-u-fx dc-u-fx-jcsb multiple-choice__options\"><div><label for=\"inp_3\" class=\"dc-input-radio\" data-cy=\"mce-option\"><input id=\"inp_3\" data-cy=\"multiple-choice-input-3\" type=\"radio\" class=\"dc-input-radio__input\" value=\"4\"><span class=\"dc-input-radio__indicator\"></span><div class=\"dc-input-radio__text\">No. The duration samples are consistently higher than those in the general population.</div></label></div></div></li><li class=\"multiple-choice__item\"><div class=\"dc-u-fx dc-u-fx-jcsb multiple-choice__options\"><div><label for=\"inp_4\" class=\"dc-input-radio\" data-cy=\"mce-option\"><input id=\"inp_4\" data-cy=\"multiple-choice-input-4\" type=\"radio\" class=\"dc-input-radio__input\" value=\"5\"><span class=\"dc-input-radio__indicator\"></span><div class=\"dc-input-radio__text\">No. The duration samples are consistently lower than those in the general population.</div></label></div></div></li></ul>"
   ],
   "metadata": {
    "collapsed": false,
    "pycharm": {
     "name": "#%% md\n"
    }
   }
  },
  {
   "metadata": {
    "pycharm": {
     "name": "#%% md\n"
    }
   },
   "outputs": [],
   "source": [
    "## How does Sue do sampling?"
   ],
   "execution_count": null,
   "cell_type": "markdown"
  },
  {
   "metadata": {
    "pycharm": {
     "name": "#%% md\n"
    }
   },
   "outputs": [],
   "source": [
    "### 1. How does Sue do sampling?\n",
    "\n",
    "You previously saw how to use a random sample to get results similar to those in the population. But how does a computer actually do this random sampling?"
   ],
   "execution_count": null,
   "cell_type": "markdown"
  },
  {
   "metadata": {
    "pycharm": {
     "name": "#%% md\n"
    }
   },
   "outputs": [],
   "source": [
    "### 2. What does random mean?\n",
    "\n",
    "There are several meanings of random in English. This definition from Oxford Languages is the most interesting for us. If we want to choose data points at random from a population, we shouldn't be able to predict which data points would be selected ahead of time in some systematic way."
   ],
   "execution_count": null,
   "cell_type": "markdown"
  },
  {
   "metadata": {
    "pycharm": {
     "name": "#%% md\n"
    }
   },
   "outputs": [],
   "source": [
    "### 3. True random numbers\n",
    "\n",
    "To generate truly random numbers, we typically have to use a physical process like flipping coins or rolling dice. The Hotbits service generates numbers from radioactive decay, and RANDOM-dot-ORG generates numbers from atmospheric noise, which are radio signals generated by lightning. Unfortunately, these processes are fairly slow and expensive for generating random numbers."
   ],
   "execution_count": null,
   "cell_type": "markdown"
  },
  {
   "metadata": {
    "pycharm": {
     "name": "#%% md\n"
    }
   },
   "outputs": [],
   "source": [
    "### 4. Pseudo-random number generation\n",
    "\n",
    "For most use cases, pseudo-random number generation is better since it is cheap and fast. Pseudo-random means that although each value appears to be random, it is actually calculated from the previous random number. Since you have to start the calculations somewhere, the first random number is calculated from what is known as a seed value. The word random is in quotes to emphasize that this process isn't really random. If we start from a particular seed value, all future numbers will be the same."
   ],
   "execution_count": null,
   "cell_type": "markdown"
  },
  {
   "metadata": {
    "pycharm": {
     "name": "#%% md\n"
    }
   },
   "outputs": [],
   "source": [
    "### 5. Pseudo-random number generation example\n",
    "\n",
    "For example, suppose we have a function to generate pseudo-random values called calc_next_random. To begin, we pick a seed number, in this case, one. calc_next_random does some calculations and returns three. We then feed three into calc_next_random, and it does the same set of calculations and returns two. And if we can keep feeding in the last number, it will return something apparently random. Although the process is deterministic, the trick to a random number generator is to make it look like the values are random."
   ],
   "execution_count": null,
   "cell_type": "markdown"
  },
  {
   "metadata": {
    "pycharm": {
     "name": "#%% md\n"
    }
   },
   "outputs": [],
   "source": [
    "### 6. Random number generating functions\n",
    "\n",
    "NumPy has many functions for generating random numbers from statistical distributions. To use each of these, make sure to prepend each function name with numpy-dot-random or np-dot-random. Some of them, like dot-uniform and dot-normal, may be familiar. Others have more niche applications."
   ],
   "execution_count": null,
   "cell_type": "markdown"
  },
  {
   "metadata": {
    "pycharm": {
     "name": "#%% md\n"
    }
   },
   "outputs": [],
   "source": [
    "### 7. Visualizing random numbers\n",
    "\n",
    "Let's generate some pseudo-random numbers. The first arguments to each random number function specify distribution parameters. The size argument specifies how many numbers to generate, in this case, five thousand. We've chosen the beta distribution, and its parameters are named a and b. These random numbers come from a continuous distribution, so a great way to visualize them is with a histogram. Here, because the numbers were generated from the beta distribution, all the values are between zero and one."
   ],
   "execution_count": null,
   "cell_type": "markdown"
  },
  {
   "cell_type": "code",
   "execution_count": 23,
   "outputs": [
    {
     "data": {
      "text/plain": "<Figure size 432x288 with 1 Axes>",
      "image/png": "[encoded data removed]"
     },
     "metadata": {
      "needs_background": "light"
     },
     "output_type": "display_data"
    }
   ],
   "source": [
    "randoms = np.random.beta(a=2,b=2,size=5000)\n",
    "plt.hist(randoms,bins=np.arange(0,1,0.05))\n",
    "plt.show()"
   ],
   "metadata": {
    "collapsed": false,
    "pycharm": {
     "name": "#%%\n"
    }
   }
  },
  {
   "metadata": {
    "pycharm": {
     "name": "#%% md\n"
    }
   },
   "outputs": [],
   "source": [
    "### 8. Random numbers seeds\n",
    "\n",
    "To set a random seed with NumPy, we use the dot-random-dot-seed method. random-dot-seed takes an integer for the seed number, which can be any number you like. dot-normal generates pseudo-random numbers from the normal distribution. The loc and scale arguments set the mean and standard deviation of the distribution, and the size argument determines how many random numbers from that distribution will be returned. If we call dot-normal a second time, we get two different random numbers. If we reset the seed by calling random-dot-seed with the same seed number, then call dot-normal again, we get the same numbers as before. This makes our code reproducible."
   ],
   "execution_count": null,
   "cell_type": "markdown"
  },
  {
   "cell_type": "code",
   "execution_count": 24,
   "outputs": [
    {
     "data": {
      "text/plain": "array([-0.59030264,  1.87821258])"
     },
     "execution_count": 24,
     "metadata": {},
     "output_type": "execute_result"
    }
   ],
   "source": [
    "np.random.seed((20000229))\n",
    "np.random.normal(loc=2,scale=1.5,size=2)"
   ],
   "metadata": {
    "collapsed": false,
    "pycharm": {
     "name": "#%%\n"
    }
   }
  },
  {
   "cell_type": "code",
   "execution_count": 25,
   "outputs": [
    {
     "data": {
      "text/plain": "array([2.52619561, 4.9684949 ])"
     },
     "execution_count": 25,
     "metadata": {},
     "output_type": "execute_result"
    }
   ],
   "source": [
    "np.random.normal(loc=2,scale=1.5,size=2)"
   ],
   "metadata": {
    "collapsed": false,
    "pycharm": {
     "name": "#%%\n"
    }
   }
  },
  {
   "cell_type": "code",
   "execution_count": 26,
   "outputs": [
    {
     "data": {
      "text/plain": "array([-0.59030264,  1.87821258])"
     },
     "execution_count": 26,
     "metadata": {},
     "output_type": "execute_result"
    }
   ],
   "source": [
    "np.random.seed(20000229)\n",
    "np.random.normal(loc=2,scale=1.5,size=2)"
   ],
   "metadata": {
    "collapsed": false,
    "pycharm": {
     "name": "#%%\n"
    }
   }
  },
  {
   "metadata": {
    "pycharm": {
     "name": "#%% md\n"
    }
   },
   "outputs": [],
   "source": [
    "### 9. Using a different seed\n",
    "\n",
    "Now let's try a different seed. This time, calling dot-normal generates different numbers."
   ],
   "execution_count": null,
   "cell_type": "markdown"
  },
  {
   "metadata": {
    "pycharm": {
     "name": "#%% md\n"
    }
   },
   "outputs": [],
   "source": [
    "### 10. Let's practice!\n",
    "\n",
    "Let's sow some random seeds!"
   ],
   "execution_count": null,
   "cell_type": "markdown"
  },
  {
   "metadata": {
    "pycharm": {
     "name": "#%% md\n"
    }
   },
   "outputs": [],
   "source": [
    "## Generating random numbers\n",
    "\n",
    "<p>You've used <code>.sample()</code> to generate pseudo-random numbers from a set of values in a DataFrame. A related task is to generate random numbers that follow a statistical distribution, like the uniform distribution or the normal distribution.</p>\n",
    "<p>Each random number generation function has distribution-specific arguments and an argument for specifying the number of random numbers to generate.</p>\n",
    "<p><code>matplotlib.pyplot</code> is loaded as <code>plt</code>, and <code>numpy</code> is loaded as <code>np</code>.</p>"
   ],
   "execution_count": null,
   "cell_type": "markdown"
  },
  {
   "metadata": {
    "pycharm": {
     "name": "#%% md\n"
    }
   },
   "outputs": [],
   "source": [
    "Generate 5000 numbers from a uniform distribution, setting the parameters <code>low</code> to <code>-3</code> and <code>high</code> to <code>3</code>."
   ],
   "execution_count": null,
   "cell_type": "markdown"
  },
  {
   "cell_type": "code",
   "execution_count": 27,
   "outputs": [
    {
     "data": {
      "text/plain": "<Figure size 432x288 with 1 Axes>",
      "image/png": "[encoded data removed]"
     },
     "metadata": {
      "needs_background": "light"
     },
     "output_type": "display_data"
    }
   ],
   "source": [
    "# Generate random numbers from a Uniform(-3, 3)\n",
    "uniforms = np.random.uniform(low=-3, high=3, size=5000)\n",
    "\n",
    "# Plot a histogram of uniform values, binwidth 0.25\n",
    "plt.hist(uniforms,bins=np.arange(-3,3.0001,0.25))\n",
    "plt.show()"
   ],
   "metadata": {
    "collapsed": false,
    "pycharm": {
     "name": "#%%\n"
    }
   }
  },
  {
   "cell_type": "code",
   "execution_count": 28,
   "outputs": [
    {
     "data": {
      "text/plain": "<Figure size 432x288 with 1 Axes>",
      "image/png": "[encoded data removed]"
     },
     "metadata": {
      "needs_background": "light"
     },
     "output_type": "display_data"
    }
   ],
   "source": [
    "# Generate random numbers from a Normal(5, 2)\n",
    "normals = np.random.normal(loc=5, scale=2, size=5000)\n",
    "\n",
    "# Plot a histogram of normal values, binwidth 0.5\n",
    "plt.hist(normals,bins=np.arange(-2,13.0001,.5))\n",
    "plt.show()"
   ],
   "metadata": {
    "collapsed": false,
    "pycharm": {
     "name": "#%%\n"
    }
   }
  },
  {
   "metadata": {
    "pycharm": {
     "name": "#%% md\n"
    }
   },
   "outputs": [],
   "source": [
    "# Don't get theory eyed"
   ],
   "execution_count": null,
   "cell_type": "markdown"
  },
  {
   "metadata": {
    "pycharm": {
     "name": "#%% md\n"
    }
   },
   "outputs": [],
   "source": [
    "## Simple is as simple does"
   ],
   "execution_count": null,
   "cell_type": "markdown"
  },
  {
   "metadata": {
    "pycharm": {
     "name": "#%% md\n"
    }
   },
   "outputs": [],
   "source": [
    "### 1. Simple is as simple does\n",
    "\n",
    "There are several methods of sampling from a population. In this video, we'll look at simple random sampling and systematic random sampling."
   ],
   "execution_count": null,
   "cell_type": "markdown"
  },
  {
   "metadata": {
    "pycharm": {
     "name": "#%% md\n"
    }
   },
   "outputs": [],
   "source": [
    "### 2. Simple random sampling\n",
    "\n",
    "Simple random sampling works like a raffle or lottery. We start with our population of raffle tickets or lottery balls and randomly pick them out one at a time.\n",
    "\n",
    "<br>\n",
    "<img src=\"image/img_1.png\">"
   ],
   "execution_count": null,
   "cell_type": "markdown"
  },
  {
   "metadata": {
    "pycharm": {
     "name": "#%% md\n"
    }
   },
   "outputs": [],
   "source": [
    "### 3. Simple random sampling of coffees\n",
    "\n",
    "In our coffee ratings dataset, instead of raffle tickets or lottery balls, the population consists of coffee varieties. To perform simple random sampling, we take some at random, one at a time. Each coffee has the same chance as any other of being picked. When using this technique, sometimes we might end up with two coffees that were next to each other in the dataset, and sometimes we might end up with large areas of the dataset that were not selected from at all."
   ],
   "execution_count": null,
   "cell_type": "markdown"
  },
  {
   "cell_type": "code",
   "execution_count": 29,
   "outputs": [
    {
     "data": {
      "text/plain": "     total_cup_points  species                           owner  \\\n437             83.25  Arabica  exportadora de cafe condor s.a   \n285             83.83  Arabica                 ipanema coffees   \n784             82.08  Arabica                   cafe politico   \n648             82.58  Arabica  exportadora de cafe condor s.a   \n155             84.58  Arabica  exportadora de cafe condor s.a   \n\n    country_of_origin          farm_name lot_number  \\\n437          Colombia               None       None   \n285            Brazil  fazenda rio verde       None   \n784          Colombia               None       None   \n648          Colombia               None       None   \n155          Colombia            various       None   \n\n                                      mill     ico_number  \\\n437  trilladora bonanza - armenia quindioa      3-68-0205   \n285                        ipanema coffees  002/4177/0121   \n784                                   None      3-59-1656   \n648                    trilladora boananza      3-68-0140   \n155                    trilladora boananza      3-68-0005   \n\n                            company       altitude  ...  color  \\\n437                            None  1600-1800msnm  ...   None   \n285                 ipanema coffees           1260  ...  Green   \n784                   cafe politico           None  ...  Green   \n648  exportadora de cafe condor s.a      1750 msnm  ...  Green   \n155  exportadora de cafe condor s.a      1800 msnm  ...  Green   \n\n    category_two_defects            expiration            certification_body  \\\n437                  0.0       June 13th, 2012                      Almacafé   \n285                  0.0   December 26th, 2014  Specialty Coffee Association   \n784                  0.0  September 12th, 2015  Specialty Coffee Association   \n648                  0.0   February 27th, 2014                      Almacafé   \n155                  6.0     October 9th, 2013                      Almacafé   \n\n                        certification_address  \\\n437  e493c36c2d076bf273064f7ac23ad562af257a25   \n285  36d0d00a3724338ba7937c52a378d085f2172daa   \n784  36d0d00a3724338ba7937c52a378d085f2172daa   \n648  e493c36c2d076bf273064f7ac23ad562af257a25   \n155  e493c36c2d076bf273064f7ac23ad562af257a25   \n\n                        certification_contact unit_of_measurement  \\\n437  70d3c0c26f89e00fdae6fb39ff54f0d2eb1c38ab                   m   \n285  0878a7d4b9d35ddbf0fe2ce69a2062cceb45a660                   m   \n784  0878a7d4b9d35ddbf0fe2ce69a2062cceb45a660                   m   \n648  70d3c0c26f89e00fdae6fb39ff54f0d2eb1c38ab                   m   \n155  70d3c0c26f89e00fdae6fb39ff54f0d2eb1c38ab                   m   \n\n    altitude_low_meters altitude_high_meters altitude_mean_meters  \n437              1600.0               1800.0               1700.0  \n285              1260.0               1260.0               1260.0  \n784                 NaN                  NaN                  NaN  \n648              1750.0               1750.0               1750.0  \n155              1800.0               1800.0               1800.0  \n\n[5 rows x 43 columns]",
      "text/html": "<div>\n<style scoped>\n    .dataframe tbody tr th:only-of-type {\n        vertical-align: middle;\n    }\n\n    .dataframe tbody tr th {\n        vertical-align: top;\n    }\n\n    .dataframe thead th {\n        text-align: right;\n    }\n</style>\n<table border=\"1\" class=\"dataframe\">\n  <thead>\n    <tr style=\"text-align: right;\">\n      <th></th>\n      <th>total_cup_points</th>\n      <th>species</th>\n      <th>owner</th>\n      <th>country_of_origin</th>\n      <th>farm_name</th>\n      <th>lot_number</th>\n      <th>mill</th>\n      <th>ico_number</th>\n      <th>company</th>\n      <th>altitude</th>\n      <th>...</th>\n      <th>color</th>\n      <th>category_two_defects</th>\n      <th>expiration</th>\n      <th>certification_body</th>\n      <th>certification_address</th>\n      <th>certification_contact</th>\n      <th>unit_of_measurement</th>\n      <th>altitude_low_meters</th>\n      <th>altitude_high_meters</th>\n      <th>altitude_mean_meters</th>\n    </tr>\n  </thead>\n  <tbody>\n    <tr>\n      <th>437</th>\n      <td>83.25</td>\n      <td>Arabica</td>\n      <td>exportadora de cafe condor s.a</td>\n      <td>Colombia</td>\n      <td>None</td>\n      <td>None</td>\n      <td>trilladora bonanza - armenia quindioa</td>\n      <td>3-68-0205</td>\n      <td>None</td>\n      <td>1600-1800msnm</td>\n      <td>...</td>\n      <td>None</td>\n      <td>0.0</td>\n      <td>June 13th, 2012</td>\n      <td>Almacafé</td>\n      <td>e493c36c2d076bf273064f7ac23ad562af257a25</td>\n      <td>70d3c0c26f89e00fdae6fb39ff54f0d2eb1c38ab</td>\n      <td>m</td>\n      <td>1600.0</td>\n      <td>1800.0</td>\n      <td>1700.0</td>\n    </tr>\n    <tr>\n      <th>285</th>\n      <td>83.83</td>\n      <td>Arabica</td>\n      <td>ipanema coffees</td>\n      <td>Brazil</td>\n      <td>fazenda rio verde</td>\n      <td>None</td>\n      <td>ipanema coffees</td>\n      <td>002/4177/0121</td>\n      <td>ipanema coffees</td>\n      <td>1260</td>\n      <td>...</td>\n      <td>Green</td>\n      <td>0.0</td>\n      <td>December 26th, 2014</td>\n      <td>Specialty Coffee Association</td>\n      <td>36d0d00a3724338ba7937c52a378d085f2172daa</td>\n      <td>0878a7d4b9d35ddbf0fe2ce69a2062cceb45a660</td>\n      <td>m</td>\n      <td>1260.0</td>\n      <td>1260.0</td>\n      <td>1260.0</td>\n    </tr>\n    <tr>\n      <th>784</th>\n      <td>82.08</td>\n      <td>Arabica</td>\n      <td>cafe politico</td>\n      <td>Colombia</td>\n      <td>None</td>\n      <td>None</td>\n      <td>None</td>\n      <td>3-59-1656</td>\n      <td>cafe politico</td>\n      <td>None</td>\n      <td>...</td>\n      <td>Green</td>\n      <td>0.0</td>\n      <td>September 12th, 2015</td>\n      <td>Specialty Coffee Association</td>\n      <td>36d0d00a3724338ba7937c52a378d085f2172daa</td>\n      <td>0878a7d4b9d35ddbf0fe2ce69a2062cceb45a660</td>\n      <td>m</td>\n      <td>NaN</td>\n      <td>NaN</td>\n      <td>NaN</td>\n    </tr>\n    <tr>\n      <th>648</th>\n      <td>82.58</td>\n      <td>Arabica</td>\n      <td>exportadora de cafe condor s.a</td>\n      <td>Colombia</td>\n      <td>None</td>\n      <td>None</td>\n      <td>trilladora boananza</td>\n      <td>3-68-0140</td>\n      <td>exportadora de cafe condor s.a</td>\n      <td>1750 msnm</td>\n      <td>...</td>\n      <td>Green</td>\n      <td>0.0</td>\n      <td>February 27th, 2014</td>\n      <td>Almacafé</td>\n      <td>e493c36c2d076bf273064f7ac23ad562af257a25</td>\n      <td>70d3c0c26f89e00fdae6fb39ff54f0d2eb1c38ab</td>\n      <td>m</td>\n      <td>1750.0</td>\n      <td>1750.0</td>\n      <td>1750.0</td>\n    </tr>\n    <tr>\n      <th>155</th>\n      <td>84.58</td>\n      <td>Arabica</td>\n      <td>exportadora de cafe condor s.a</td>\n      <td>Colombia</td>\n      <td>various</td>\n      <td>None</td>\n      <td>trilladora boananza</td>\n      <td>3-68-0005</td>\n      <td>exportadora de cafe condor s.a</td>\n      <td>1800 msnm</td>\n      <td>...</td>\n      <td>Green</td>\n      <td>6.0</td>\n      <td>October 9th, 2013</td>\n      <td>Almacafé</td>\n      <td>e493c36c2d076bf273064f7ac23ad562af257a25</td>\n      <td>70d3c0c26f89e00fdae6fb39ff54f0d2eb1c38ab</td>\n      <td>m</td>\n      <td>1800.0</td>\n      <td>1800.0</td>\n      <td>1800.0</td>\n    </tr>\n  </tbody>\n</table>\n<p>5 rows × 43 columns</p>\n</div>"
     },
     "execution_count": 29,
     "metadata": {},
     "output_type": "execute_result"
    }
   ],
   "source": [
    "coffee_rating.sample(n=5,random_state=19000113)\n"
   ],
   "metadata": {
    "collapsed": false,
    "pycharm": {
     "name": "#%%\n"
    }
   }
  },
  {
   "metadata": {
    "pycharm": {
     "name": "#%% md\n"
    }
   },
   "outputs": [],
   "source": [
    "### 4. Simple random sampling with pandas\n",
    "\n",
    "We've already seen how to do simple random sampling with pandas. We call dot-sample and set n to the size of the sample. We can also set the seed using the random_state argument to generate reproducible results, just like we did pseudo-random number generation. Previously, by not setting random_state when sampling, our code would generate a different random sample each time it was run."
   ],
   "execution_count": null,
   "cell_type": "markdown"
  },
  {
   "metadata": {
    "pycharm": {
     "name": "#%% md\n"
    }
   },
   "outputs": [],
   "source": [
    "### 5. Systematic sampling\n",
    "\n",
    "Another sampling method is known as systematic sampling. This samples the population at regular intervals. Here, looking from top to bottom and left to right within each row, every fifth coffee is sampled.\n",
    "\n",
    "<br>\n",
    "<img src=\"image/img_2.png\">"
   ],
   "execution_count": null,
   "cell_type": "markdown"
  },
  {
   "metadata": {
    "pycharm": {
     "name": "#%% md\n"
    }
   },
   "outputs": [],
   "source": [
    "### 6. Systematic sampling - defining the interval\n",
    "\n",
    "Systematic sampling with pandas is slightly trickier than simple random sampling. The tricky part is determining how big the interval between each row should be for a given sample size. Suppose we want a sample size of five coffees. The population size is the number of rows in the whole dataset, and in this case, it's one thousand three hundred and thirty-eight. The interval is the population size divided by the sample size, but because we want the answer to be an integer, we perform integer division with two forward slashes. This is like standard division but discards any fractional part. One-three-three-eight divided by five is actually two hundred and sixty-seven-point-six, and discarding the fractional part leaves two hundred and sixty-seven. Thus, to get a systematic sample of five coffees, we will select every two hundred sixty-seventh coffee in the dataset."
   ],
   "execution_count": null,
   "cell_type": "markdown"
  },
  {
   "cell_type": "code",
   "execution_count": 30,
   "outputs": [
    {
     "name": "stdout",
     "output_type": "stream",
     "text": [
      "1338\n"
     ]
    }
   ],
   "source": [
    "sample_size = 5\n",
    "pop_size = len(coffee_rating)\n",
    "print(pop_size)"
   ],
   "metadata": {
    "collapsed": false,
    "pycharm": {
     "name": "#%%\n"
    }
   }
  },
  {
   "cell_type": "code",
   "execution_count": 31,
   "outputs": [
    {
     "name": "stdout",
     "output_type": "stream",
     "text": [
      "267\n"
     ]
    }
   ],
   "source": [
    "interval = pop_size // sample_size\n",
    "print(interval)"
   ],
   "metadata": {
    "collapsed": false,
    "pycharm": {
     "name": "#%%\n"
    }
   }
  },
  {
   "metadata": {
    "pycharm": {
     "name": "#%% md\n"
    }
   },
   "outputs": [],
   "source": [
    "### 7. Systematic sampling - selecting the rows\n",
    "\n",
    "To select every two hundred and sixty-seventh row, we call dot-iloc on coffee_ratings and pass double-colons and the interval, which is 267 in this case. Double-colon interval tells pandas to select every two hundred and sixty-seventh row from zero to the end of the DataFrame."
   ],
   "execution_count": null,
   "cell_type": "markdown"
  },
  {
   "cell_type": "code",
   "execution_count": 32,
   "outputs": [
    {
     "data": {
      "text/plain": "      total_cup_points  species                             owner  \\\n0                90.58  Arabica                         metad plc   \n267              83.92  Arabica  federacion nacional de cafeteros   \n534              82.92  Arabica      consejo salvadoreño del café   \n801              82.00  Arabica            lin, che-hao krude 林哲豪   \n1068             80.50  Arabica          cqi taiwan icp cqi台灣合作夥伴   \n1335             77.17  Robusta                       james moore   \n\n     country_of_origin                                     farm_name  \\\n0             Ethiopia                                     metad plc   \n267           Colombia                                          None   \n534        El Salvador                                santa josefita   \n801             Taiwan  you siang coffee farmtainan, taiwan 台灣台南優香咖啡   \n1068            Taiwan                                           王秋金   \n1335     United States                               fazenda cazengo   \n\n     lot_number                                          mill  ico_number  \\\n0          None                                     metad plc   2014/2015   \n267        None                                          None     01-1969   \n534       1-198                          beneficio cuzcachapa  09-030-273   \n801        None  you siang coffee farmtainan, taiwan 台灣台南優香咖啡      Taiwan   \n1068          1                                           non        None   \n1335       None                                  cafe cazengo        None   \n\n                                company    altitude  ...       color  \\\n0     metad agricultural developmet plc   1950-2200  ...       Green   \n267    federacion nacional de cafeteros        None  ...        None   \n534       soc. coop. cuzcachapa de r.l.        1350  ...       Green   \n801               red on tree co., ltd.        600m  ...       Green   \n1068                                王秋金          50  ...  Blue-Green   \n1335            global opportunity fund  795 meters  ...        None   \n\n     category_two_defects           expiration  \\\n0                     0.0      April 3rd, 2016   \n267                   1.0     March 11th, 2016   \n534                   1.0    August 28th, 2018   \n801                   0.0      July 22nd, 2015   \n1068                  0.0   December 8th, 2018   \n1335                  6.0  December 23rd, 2015   \n\n                      certification_body  \\\n0     METAD Agricultural Development plc   \n267                             Almacafé   \n534            Salvadoran Coffee Council   \n801         Specialty Coffee Association   \n1068        Blossom Valley International   \n1335        Specialty Coffee Association   \n\n                         certification_address  \\\n0     309fcf77415a3661ae83e027f7e5f05dad786e44   \n267   e493c36c2d076bf273064f7ac23ad562af257a25   \n534   3d4987e3b91399dbb3938b5bdf53893b6ef45be1   \n801   36d0d00a3724338ba7937c52a378d085f2172daa   \n1068  fc45352eee499d8470cf94c9827922fb745bf815   \n1335  ff7c18ad303d4b603ac3f8cff7e611ffc735e720   \n\n                         certification_contact unit_of_measurement  \\\n0     19fef5a731de2db57d16da10287413f5f99bc2dd                   m   \n267   70d3c0c26f89e00fdae6fb39ff54f0d2eb1c38ab                   m   \n534   27b21e368fb8291cbea02c60623fe6c98f84524d                   m   \n801   0878a7d4b9d35ddbf0fe2ce69a2062cceb45a660                   m   \n1068  de73fc9412358b523d3a641501e542f31d2668b0                   m   \n1335  352d0cf7f3e9be14dad7df644ad65efc27605ae2                   m   \n\n     altitude_low_meters altitude_high_meters altitude_mean_meters  \n0                 1950.0               2200.0               2075.0  \n267                  NaN                  NaN                  NaN  \n534               1350.0               1350.0               1350.0  \n801                600.0                600.0                600.0  \n1068                50.0                 50.0                 50.0  \n1335               795.0                795.0                795.0  \n\n[6 rows x 43 columns]",
      "text/html": "<div>\n<style scoped>\n    .dataframe tbody tr th:only-of-type {\n        vertical-align: middle;\n    }\n\n    .dataframe tbody tr th {\n        vertical-align: top;\n    }\n\n    .dataframe thead th {\n        text-align: right;\n    }\n</style>\n<table border=\"1\" class=\"dataframe\">\n  <thead>\n    <tr style=\"text-align: right;\">\n      <th></th>\n      <th>total_cup_points</th>\n      <th>species</th>\n      <th>owner</th>\n      <th>country_of_origin</th>\n      <th>farm_name</th>\n      <th>lot_number</th>\n      <th>mill</th>\n      <th>ico_number</th>\n      <th>company</th>\n      <th>altitude</th>\n      <th>...</th>\n      <th>color</th>\n      <th>category_two_defects</th>\n      <th>expiration</th>\n      <th>certification_body</th>\n      <th>certification_address</th>\n      <th>certification_contact</th>\n      <th>unit_of_measurement</th>\n      <th>altitude_low_meters</th>\n      <th>altitude_high_meters</th>\n      <th>altitude_mean_meters</th>\n    </tr>\n  </thead>\n  <tbody>\n    <tr>\n      <th>0</th>\n      <td>90.58</td>\n      <td>Arabica</td>\n      <td>metad plc</td>\n      <td>Ethiopia</td>\n      <td>metad plc</td>\n      <td>None</td>\n      <td>metad plc</td>\n      <td>2014/2015</td>\n      <td>metad agricultural developmet plc</td>\n      <td>1950-2200</td>\n      <td>...</td>\n      <td>Green</td>\n      <td>0.0</td>\n      <td>April 3rd, 2016</td>\n      <td>METAD Agricultural Development plc</td>\n      <td>309fcf77415a3661ae83e027f7e5f05dad786e44</td>\n      <td>19fef5a731de2db57d16da10287413f5f99bc2dd</td>\n      <td>m</td>\n      <td>1950.0</td>\n      <td>2200.0</td>\n      <td>2075.0</td>\n    </tr>\n    <tr>\n      <th>267</th>\n      <td>83.92</td>\n      <td>Arabica</td>\n      <td>federacion nacional de cafeteros</td>\n      <td>Colombia</td>\n      <td>None</td>\n      <td>None</td>\n      <td>None</td>\n      <td>01-1969</td>\n      <td>federacion nacional de cafeteros</td>\n      <td>None</td>\n      <td>...</td>\n      <td>None</td>\n      <td>1.0</td>\n      <td>March 11th, 2016</td>\n      <td>Almacafé</td>\n      <td>e493c36c2d076bf273064f7ac23ad562af257a25</td>\n      <td>70d3c0c26f89e00fdae6fb39ff54f0d2eb1c38ab</td>\n      <td>m</td>\n      <td>NaN</td>\n      <td>NaN</td>\n      <td>NaN</td>\n    </tr>\n    <tr>\n      <th>534</th>\n      <td>82.92</td>\n      <td>Arabica</td>\n      <td>consejo salvadoreño del café</td>\n      <td>El Salvador</td>\n      <td>santa josefita</td>\n      <td>1-198</td>\n      <td>beneficio cuzcachapa</td>\n      <td>09-030-273</td>\n      <td>soc. coop. cuzcachapa de r.l.</td>\n      <td>1350</td>\n      <td>...</td>\n      <td>Green</td>\n      <td>1.0</td>\n      <td>August 28th, 2018</td>\n      <td>Salvadoran Coffee Council</td>\n      <td>3d4987e3b91399dbb3938b5bdf53893b6ef45be1</td>\n      <td>27b21e368fb8291cbea02c60623fe6c98f84524d</td>\n      <td>m</td>\n      <td>1350.0</td>\n      <td>1350.0</td>\n      <td>1350.0</td>\n    </tr>\n    <tr>\n      <th>801</th>\n      <td>82.00</td>\n      <td>Arabica</td>\n      <td>lin, che-hao krude 林哲豪</td>\n      <td>Taiwan</td>\n      <td>you siang coffee farmtainan, taiwan 台灣台南優香咖啡</td>\n      <td>None</td>\n      <td>you siang coffee farmtainan, taiwan 台灣台南優香咖啡</td>\n      <td>Taiwan</td>\n      <td>red on tree co., ltd.</td>\n      <td>600m</td>\n      <td>...</td>\n      <td>Green</td>\n      <td>0.0</td>\n      <td>July 22nd, 2015</td>\n      <td>Specialty Coffee Association</td>\n      <td>36d0d00a3724338ba7937c52a378d085f2172daa</td>\n      <td>0878a7d4b9d35ddbf0fe2ce69a2062cceb45a660</td>\n      <td>m</td>\n      <td>600.0</td>\n      <td>600.0</td>\n      <td>600.0</td>\n    </tr>\n    <tr>\n      <th>1068</th>\n      <td>80.50</td>\n      <td>Arabica</td>\n      <td>cqi taiwan icp cqi台灣合作夥伴</td>\n      <td>Taiwan</td>\n      <td>王秋金</td>\n      <td>1</td>\n      <td>non</td>\n      <td>None</td>\n      <td>王秋金</td>\n      <td>50</td>\n      <td>...</td>\n      <td>Blue-Green</td>\n      <td>0.0</td>\n      <td>December 8th, 2018</td>\n      <td>Blossom Valley International</td>\n      <td>fc45352eee499d8470cf94c9827922fb745bf815</td>\n      <td>de73fc9412358b523d3a641501e542f31d2668b0</td>\n      <td>m</td>\n      <td>50.0</td>\n      <td>50.0</td>\n      <td>50.0</td>\n    </tr>\n    <tr>\n      <th>1335</th>\n      <td>77.17</td>\n      <td>Robusta</td>\n      <td>james moore</td>\n      <td>United States</td>\n      <td>fazenda cazengo</td>\n      <td>None</td>\n      <td>cafe cazengo</td>\n      <td>None</td>\n      <td>global opportunity fund</td>\n      <td>795 meters</td>\n      <td>...</td>\n      <td>None</td>\n      <td>6.0</td>\n      <td>December 23rd, 2015</td>\n      <td>Specialty Coffee Association</td>\n      <td>ff7c18ad303d4b603ac3f8cff7e611ffc735e720</td>\n      <td>352d0cf7f3e9be14dad7df644ad65efc27605ae2</td>\n      <td>m</td>\n      <td>795.0</td>\n      <td>795.0</td>\n      <td>795.0</td>\n    </tr>\n  </tbody>\n</table>\n<p>6 rows × 43 columns</p>\n</div>"
     },
     "execution_count": 32,
     "metadata": {},
     "output_type": "execute_result"
    }
   ],
   "source": [
    "coffee_rating.iloc[::interval]"
   ],
   "metadata": {
    "collapsed": false,
    "pycharm": {
     "name": "#%%\n"
    }
   }
  },
  {
   "metadata": {
    "pycharm": {
     "name": "#%% md\n"
    }
   },
   "outputs": [],
   "source": [
    "### 8. The trouble with systematic sampling\n",
    "\n",
    "There is a problem with systematic sampling, though. Suppose we are interested in statistics about the aftertaste attribute of the coffees. To examine this, first, we use reset_index to create a column of index values in our DataFrame that we can plot. Plotting aftertaste against index shows a pattern. Earlier rows generally have higher aftertaste scores than later rows. This introduces bias into the statistics that we calculate. In general, it is only safe to use systematic sampling if a plot like this has no pattern; that is, it just looks like noise."
   ],
   "execution_count": null,
   "cell_type": "markdown"
  },
  {
   "cell_type": "code",
   "execution_count": 33,
   "outputs": [
    {
     "data": {
      "text/plain": "<Figure size 432x288 with 1 Axes>",
      "image/png": "[encoded data removed]"
     },
     "metadata": {
      "needs_background": "light"
     },
     "output_type": "display_data"
    }
   ],
   "source": [
    "plt.scatter(coffee_rating.index,coffee_rating.aftertaste,s=10)\n",
    "plt.show()"
   ],
   "metadata": {
    "collapsed": false,
    "pycharm": {
     "name": "#%%\n"
    }
   }
  },
  {
   "metadata": {
    "pycharm": {
     "name": "#%% md\n"
    }
   },
   "outputs": [],
   "source": [
    "### 9. Making systematic sampling safe\n",
    "\n",
    "To ensure that systematic sampling is safe, we can randomize the row order before sampling. dot-sample has an argument named frac that lets us specify the proportion of the dataset to return in the sample, rather than the absolute number of rows that n specifies. Setting frac to one randomly samples the whole dataset. In effect, this randomly shuffles the rows. Next, the indices need to be reset so that they go in order from zero again. Specifying drop equals True clears the previous row indexes, and chaining to another reset_index call creates a column containing these new indexes. Redrawing the plot with the shuffled dataset shows no pattern between aftertaste and index. This is great, but note that once we've shuffled the rows, systematic sampling is essentially the same as simple random sampling."
   ],
   "execution_count": null,
   "cell_type": "markdown"
  },
  {
   "cell_type": "code",
   "execution_count": 34,
   "outputs": [
    {
     "data": {
      "text/plain": "<Figure size 432x288 with 1 Axes>",
      "image/png": "[encoded data removed]"
     },
     "metadata": {
      "needs_background": "light"
     },
     "output_type": "display_data"
    }
   ],
   "source": [
    "shuffled = coffee_rating.sample(frac=1).reset_index(drop=True)\n",
    "plt.scatter(shuffled.index,shuffled.aftertaste)\n",
    "plt.show()"
   ],
   "metadata": {
    "collapsed": false,
    "pycharm": {
     "name": "#%%\n"
    }
   }
  },
  {
   "metadata": {
    "pycharm": {
     "name": "#%% md\n"
    }
   },
   "outputs": [],
   "source": [
    "### 10. Let's practice!\n",
    "\n",
    "Let's get sampling!"
   ],
   "execution_count": null,
   "cell_type": "markdown"
  },
  {
   "metadata": {
    "pycharm": {
     "name": "#%% md\n"
    }
   },
   "outputs": [],
   "source": [
    "## Simple random sampling\n",
    "\n",
    "<p>The simplest method of sampling a population is the one you've seen already. It is known as <em>simple random sampling</em> (sometimes abbreviated to \"SRS\"), and involves picking rows at random, one at a time, where each row has the same chance of being picked as any other. </p>\n",
    "<p>In this chapter, you'll apply sampling methods to a synthetic (fictional) employee attrition dataset from IBM, where \"attrition\" in this context means leaving the company.</p>\n",
    "<p><code>attrition_pop</code> is available; <code>pandas</code> as <code>pd</code> is loaded.</p>"
   ],
   "execution_count": null,
   "cell_type": "markdown"
  },
  {
   "cell_type": "code",
   "execution_count": 35,
   "outputs": [
    {
     "data": {
      "text/plain": "   Age  Attrition     BusinessTravel  DailyRate            Department  \\\n0   21        0.0      Travel_Rarely        391  Research_Development   \n1   19        1.0      Travel_Rarely        528                 Sales   \n2   18        1.0      Travel_Rarely        230  Research_Development   \n3   18        0.0      Travel_Rarely        812                 Sales   \n4   18        1.0  Travel_Frequently       1306                 Sales   \n5   27        0.0         Non-Travel        443  Research_Development   \n6   18        0.0         Non-Travel        287  Research_Development   \n7   18        1.0         Non-Travel        247  Research_Development   \n8   18        0.0         Non-Travel       1124  Research_Development   \n9   18        1.0  Travel_Frequently        544                 Sales   \n\n   DistanceFromHome      Education EducationField EnvironmentSatisfaction  \\\n0                15        College  Life_Sciences                    High   \n1                22  Below_College      Marketing               Very_High   \n2                 3       Bachelor  Life_Sciences                    High   \n3                10       Bachelor        Medical               Very_High   \n4                 5       Bachelor      Marketing                  Medium   \n5                 3       Bachelor        Medical               Very_High   \n6                 5        College  Life_Sciences                  Medium   \n7                 8  Below_College        Medical                    High   \n8                 1       Bachelor  Life_Sciences               Very_High   \n9                 3        College        Medical                  Medium   \n\n   Gender  ...  PerformanceRating RelationshipSatisfaction  StockOptionLevel  \\\n0    Male  ...          Excellent                Very_High                 0   \n1    Male  ...          Excellent                Very_High                 0   \n2    Male  ...          Excellent                     High                 0   \n3  Female  ...          Excellent                      Low                 0   \n4    Male  ...          Excellent                Very_High                 0   \n5    Male  ...          Excellent                     High                 3   \n6    Male  ...          Excellent                Very_High                 0   \n7    Male  ...          Excellent                Very_High                 0   \n8  Female  ...          Excellent                     High                 0   \n9  Female  ...          Excellent                     High                 0   \n\n  TotalWorkingYears TrainingTimesLastYear WorkLifeBalance  YearsAtCompany  \\\n0                 0                     6          Better               0   \n1                 0                     2            Good               0   \n2                 0                     2          Better               0   \n3                 0                     2          Better               0   \n4                 0                     3          Better               0   \n5                 0                     6            Good               0   \n6                 0                     2          Better               0   \n7                 0                     0          Better               0   \n8                 0                     5            Best               0   \n9                 0                     2            Best               0   \n\n   YearsInCurrentRole  YearsSinceLastPromotion YearsWithCurrManager  \n0                   0                        0                    0  \n1                   0                        0                    0  \n2                   0                        0                    0  \n3                   0                        0                    0  \n4                   0                        0                    0  \n5                   0                        0                    0  \n6                   0                        0                    0  \n7                   0                        0                    0  \n8                   0                        0                    0  \n9                   0                        0                    0  \n\n[10 rows x 31 columns]",
      "text/html": "<div>\n<style scoped>\n    .dataframe tbody tr th:only-of-type {\n        vertical-align: middle;\n    }\n\n    .dataframe tbody tr th {\n        vertical-align: top;\n    }\n\n    .dataframe thead th {\n        text-align: right;\n    }\n</style>\n<table border=\"1\" class=\"dataframe\">\n  <thead>\n    <tr style=\"text-align: right;\">\n      <th></th>\n      <th>Age</th>\n      <th>Attrition</th>\n      <th>BusinessTravel</th>\n      <th>DailyRate</th>\n      <th>Department</th>\n      <th>DistanceFromHome</th>\n      <th>Education</th>\n      <th>EducationField</th>\n      <th>EnvironmentSatisfaction</th>\n      <th>Gender</th>\n      <th>...</th>\n      <th>PerformanceRating</th>\n      <th>RelationshipSatisfaction</th>\n      <th>StockOptionLevel</th>\n      <th>TotalWorkingYears</th>\n      <th>TrainingTimesLastYear</th>\n      <th>WorkLifeBalance</th>\n      <th>YearsAtCompany</th>\n      <th>YearsInCurrentRole</th>\n      <th>YearsSinceLastPromotion</th>\n      <th>YearsWithCurrManager</th>\n    </tr>\n  </thead>\n  <tbody>\n    <tr>\n      <th>0</th>\n      <td>21</td>\n      <td>0.0</td>\n      <td>Travel_Rarely</td>\n      <td>391</td>\n      <td>Research_Development</td>\n      <td>15</td>\n      <td>College</td>\n      <td>Life_Sciences</td>\n      <td>High</td>\n      <td>Male</td>\n      <td>...</td>\n      <td>Excellent</td>\n      <td>Very_High</td>\n      <td>0</td>\n      <td>0</td>\n      <td>6</td>\n      <td>Better</td>\n      <td>0</td>\n      <td>0</td>\n      <td>0</td>\n      <td>0</td>\n    </tr>\n    <tr>\n      <th>1</th>\n      <td>19</td>\n      <td>1.0</td>\n      <td>Travel_Rarely</td>\n      <td>528</td>\n      <td>Sales</td>\n      <td>22</td>\n      <td>Below_College</td>\n      <td>Marketing</td>\n      <td>Very_High</td>\n      <td>Male</td>\n      <td>...</td>\n      <td>Excellent</td>\n      <td>Very_High</td>\n      <td>0</td>\n      <td>0</td>\n      <td>2</td>\n      <td>Good</td>\n      <td>0</td>\n      <td>0</td>\n      <td>0</td>\n      <td>0</td>\n    </tr>\n    <tr>\n      <th>2</th>\n      <td>18</td>\n      <td>1.0</td>\n      <td>Travel_Rarely</td>\n      <td>230</td>\n      <td>Research_Development</td>\n      <td>3</td>\n      <td>Bachelor</td>\n      <td>Life_Sciences</td>\n      <td>High</td>\n      <td>Male</td>\n      <td>...</td>\n      <td>Excellent</td>\n      <td>High</td>\n      <td>0</td>\n      <td>0</td>\n      <td>2</td>\n      <td>Better</td>\n      <td>0</td>\n      <td>0</td>\n      <td>0</td>\n      <td>0</td>\n    </tr>\n    <tr>\n      <th>3</th>\n      <td>18</td>\n      <td>0.0</td>\n      <td>Travel_Rarely</td>\n      <td>812</td>\n      <td>Sales</td>\n      <td>10</td>\n      <td>Bachelor</td>\n      <td>Medical</td>\n      <td>Very_High</td>\n      <td>Female</td>\n      <td>...</td>\n      <td>Excellent</td>\n      <td>Low</td>\n      <td>0</td>\n      <td>0</td>\n      <td>2</td>\n      <td>Better</td>\n      <td>0</td>\n      <td>0</td>\n      <td>0</td>\n      <td>0</td>\n    </tr>\n    <tr>\n      <th>4</th>\n      <td>18</td>\n      <td>1.0</td>\n      <td>Travel_Frequently</td>\n      <td>1306</td>\n      <td>Sales</td>\n      <td>5</td>\n      <td>Bachelor</td>\n      <td>Marketing</td>\n      <td>Medium</td>\n      <td>Male</td>\n      <td>...</td>\n      <td>Excellent</td>\n      <td>Very_High</td>\n      <td>0</td>\n      <td>0</td>\n      <td>3</td>\n      <td>Better</td>\n      <td>0</td>\n      <td>0</td>\n      <td>0</td>\n      <td>0</td>\n    </tr>\n    <tr>\n      <th>5</th>\n      <td>27</td>\n      <td>0.0</td>\n      <td>Non-Travel</td>\n      <td>443</td>\n      <td>Research_Development</td>\n      <td>3</td>\n      <td>Bachelor</td>\n      <td>Medical</td>\n      <td>Very_High</td>\n      <td>Male</td>\n      <td>...</td>\n      <td>Excellent</td>\n      <td>High</td>\n      <td>3</td>\n      <td>0</td>\n      <td>6</td>\n      <td>Good</td>\n      <td>0</td>\n      <td>0</td>\n      <td>0</td>\n      <td>0</td>\n    </tr>\n    <tr>\n      <th>6</th>\n      <td>18</td>\n      <td>0.0</td>\n      <td>Non-Travel</td>\n      <td>287</td>\n      <td>Research_Development</td>\n      <td>5</td>\n      <td>College</td>\n      <td>Life_Sciences</td>\n      <td>Medium</td>\n      <td>Male</td>\n      <td>...</td>\n      <td>Excellent</td>\n      <td>Very_High</td>\n      <td>0</td>\n      <td>0</td>\n      <td>2</td>\n      <td>Better</td>\n      <td>0</td>\n      <td>0</td>\n      <td>0</td>\n      <td>0</td>\n    </tr>\n    <tr>\n      <th>7</th>\n      <td>18</td>\n      <td>1.0</td>\n      <td>Non-Travel</td>\n      <td>247</td>\n      <td>Research_Development</td>\n      <td>8</td>\n      <td>Below_College</td>\n      <td>Medical</td>\n      <td>High</td>\n      <td>Male</td>\n      <td>...</td>\n      <td>Excellent</td>\n      <td>Very_High</td>\n      <td>0</td>\n      <td>0</td>\n      <td>0</td>\n      <td>Better</td>\n      <td>0</td>\n      <td>0</td>\n      <td>0</td>\n      <td>0</td>\n    </tr>\n    <tr>\n      <th>8</th>\n      <td>18</td>\n      <td>0.0</td>\n      <td>Non-Travel</td>\n      <td>1124</td>\n      <td>Research_Development</td>\n      <td>1</td>\n      <td>Bachelor</td>\n      <td>Life_Sciences</td>\n      <td>Very_High</td>\n      <td>Female</td>\n      <td>...</td>\n      <td>Excellent</td>\n      <td>High</td>\n      <td>0</td>\n      <td>0</td>\n      <td>5</td>\n      <td>Best</td>\n      <td>0</td>\n      <td>0</td>\n      <td>0</td>\n      <td>0</td>\n    </tr>\n    <tr>\n      <th>9</th>\n      <td>18</td>\n      <td>1.0</td>\n      <td>Travel_Frequently</td>\n      <td>544</td>\n      <td>Sales</td>\n      <td>3</td>\n      <td>College</td>\n      <td>Medical</td>\n      <td>Medium</td>\n      <td>Female</td>\n      <td>...</td>\n      <td>Excellent</td>\n      <td>High</td>\n      <td>0</td>\n      <td>0</td>\n      <td>2</td>\n      <td>Best</td>\n      <td>0</td>\n      <td>0</td>\n      <td>0</td>\n      <td>0</td>\n    </tr>\n  </tbody>\n</table>\n<p>10 rows × 31 columns</p>\n</div>"
     },
     "execution_count": 35,
     "metadata": {},
     "output_type": "execute_result"
    }
   ],
   "source": [
    "attrition_pop = pd.read_feather(\"data/attrition.feather\")\n",
    "attrition_pop.head(10)"
   ],
   "metadata": {
    "collapsed": false,
    "pycharm": {
     "name": "#%%\n"
    }
   }
  },
  {
   "metadata": {
    "pycharm": {
     "name": "#%% md\n"
    }
   },
   "outputs": [],
   "source": [
    "Sample 70 rows from <code>attrition_pop</code> using simple random sampling, setting the random seed to <code>18900217</code>."
   ],
   "execution_count": null,
   "cell_type": "markdown"
  },
  {
   "metadata": {
    "pycharm": {
     "name": "#%% md\n"
    }
   },
   "outputs": [],
   "source": [
    "Print the sample dataset, <code>attrition_samp</code>. <em>What do you notice about the indices?</em>"
   ],
   "execution_count": null,
   "cell_type": "markdown"
  },
  {
   "cell_type": "code",
   "execution_count": 37,
   "outputs": [
    {
     "name": "stdout",
     "output_type": "stream",
     "text": [
      "      Age  Attrition     BusinessTravel  DailyRate            Department  \\\n",
      "1134   35        0.0      Travel_Rarely        583  Research_Development   \n",
      "1150   52        0.0         Non-Travel        585                 Sales   \n",
      "531    33        0.0      Travel_Rarely        931  Research_Development   \n",
      "395    31        0.0      Travel_Rarely       1332  Research_Development   \n",
      "392    29        0.0      Travel_Rarely        942  Research_Development   \n",
      "...   ...        ...                ...        ...                   ...   \n",
      "361    27        0.0  Travel_Frequently       1410                 Sales   \n",
      "1180   36        0.0      Travel_Rarely        530                 Sales   \n",
      "230    26        0.0      Travel_Rarely       1443                 Sales   \n",
      "211    29        0.0  Travel_Frequently        410  Research_Development   \n",
      "890    30        0.0  Travel_Frequently       1312  Research_Development   \n",
      "\n",
      "      DistanceFromHome      Education    EducationField  \\\n",
      "1134                25         Master           Medical   \n",
      "1150                29         Master     Life_Sciences   \n",
      "531                 14       Bachelor           Medical   \n",
      "395                 11        College           Medical   \n",
      "392                 15  Below_College     Life_Sciences   \n",
      "...                ...            ...               ...   \n",
      "361                  3  Below_College           Medical   \n",
      "1180                 2         Master     Life_Sciences   \n",
      "230                 23       Bachelor         Marketing   \n",
      "211                  2  Below_College     Life_Sciences   \n",
      "890                  2         Master  Technical_Degree   \n",
      "\n",
      "     EnvironmentSatisfaction  Gender  ...  PerformanceRating  \\\n",
      "1134                    High  Female  ...          Excellent   \n",
      "1150                     Low    Male  ...          Excellent   \n",
      "531                Very_High  Female  ...          Excellent   \n",
      "395                     High    Male  ...          Excellent   \n",
      "392                   Medium  Female  ...          Excellent   \n",
      "...                      ...     ...  ...                ...   \n",
      "361                Very_High  Female  ...        Outstanding   \n",
      "1180                    High  Female  ...          Excellent   \n",
      "230                     High  Female  ...          Excellent   \n",
      "211                Very_High  Female  ...          Excellent   \n",
      "890                Very_High  Female  ...          Excellent   \n",
      "\n",
      "     RelationshipSatisfaction  StockOptionLevel TotalWorkingYears  \\\n",
      "1134                     High                 1                16   \n",
      "1150                   Medium                 2                16   \n",
      "531                 Very_High                 1                 8   \n",
      "395                 Very_High                 0                 6   \n",
      "392                       Low                 1                 6   \n",
      "...                       ...               ...               ...   \n",
      "361                    Medium                 2                 6   \n",
      "1180                     High                 0                17   \n",
      "230                      High                 1                 5   \n",
      "211                      High                 3                 4   \n",
      "890                 Very_High                 0                10   \n",
      "\n",
      "     TrainingTimesLastYear WorkLifeBalance  YearsAtCompany  \\\n",
      "1134                     3            Good              16   \n",
      "1150                     3            Good               9   \n",
      "531                      5          Better               8   \n",
      "395                      2            Good               6   \n",
      "392                      2            Good               5   \n",
      "...                    ...             ...             ...   \n",
      "361                      3          Better               6   \n",
      "1180                     2            Good              13   \n",
      "230                      2            Good               2   \n",
      "211                      3          Better               3   \n",
      "890                      2          Better               9   \n",
      "\n",
      "      YearsInCurrentRole  YearsSinceLastPromotion YearsWithCurrManager  \n",
      "1134                  10                       10                    1  \n",
      "1150                   8                        0                    0  \n",
      "531                    7                        1                    6  \n",
      "395                    5                        0                    1  \n",
      "392                    4                        1                    3  \n",
      "...                  ...                      ...                  ...  \n",
      "361                    5                        0                    4  \n",
      "1180                   7                        6                    7  \n",
      "230                    2                        0                    0  \n",
      "211                    2                        0                    2  \n",
      "890                    7                        0                    7  \n",
      "\n",
      "[70 rows x 31 columns]\n"
     ]
    }
   ],
   "source": [
    "# Sample 70 rows using simple random sampling and set the seed\n",
    "attrition_samp = attrition_pop.sample(n=70,random_state=18900217)\n",
    "\n",
    "# Print the sample\n",
    "print(attrition_samp)"
   ],
   "metadata": {
    "collapsed": false,
    "pycharm": {
     "name": "#%%\n"
    }
   }
  },
  {
   "metadata": {
    "pycharm": {
     "name": "#%% md\n"
    }
   },
   "outputs": [],
   "source": [
    "## Systematic sampling\n",
    "\n",
    "<p>One sampling method that avoids randomness is called <em>systematic sampling</em>. Here, you pick rows from the population at regular intervals.</p>\n",
    "<p>For example, if the population dataset had one thousand rows, and you wanted a sample size of five, you could pick rows <code>0</code>, <code>200</code>, <code>400</code>, <code>600</code>, and <code>800</code>.</p>\n",
    "<p><code>attrition_pop</code> is available; <code>pandas</code> has been pre-loaded as <code>pd</code>.</p>"
   ],
   "execution_count": null,
   "cell_type": "markdown"
  },
  {
   "metadata": {
    "pycharm": {
     "name": "#%% md\n"
    }
   },
   "outputs": [],
   "source": [
    "Set the sample size to <code>70</code>."
   ],
   "execution_count": null,
   "cell_type": "markdown"
  },
  {
   "metadata": {
    "pycharm": {
     "name": "#%% md\n"
    }
   },
   "outputs": [],
   "source": [
    "Calculate the population size from <code>attrition_pop</code>."
   ],
   "execution_count": null,
   "cell_type": "markdown"
  },
  {
   "metadata": {
    "pycharm": {
     "name": "#%% md\n"
    }
   },
   "outputs": [],
   "source": [
    "Calculate the interval between the rows to be sampled."
   ],
   "execution_count": null,
   "cell_type": "markdown"
  },
  {
   "cell_type": "code",
   "execution_count": 38,
   "outputs": [],
   "source": [
    "# Set the sample size to 70\n",
    "sample_size = 70\n",
    "\n",
    "# Calculate the population size from attrition_pop\n",
    "pop_size = len(attrition_pop)\n",
    "\n",
    "# Calculate the interval\n",
    "interval = pop_size // sample_size"
   ],
   "metadata": {
    "collapsed": false,
    "pycharm": {
     "name": "#%%\n"
    }
   }
  },
  {
   "cell_type": "code",
   "execution_count": 39,
   "outputs": [
    {
     "name": "stdout",
     "output_type": "stream",
     "text": [
      "      Age  Attrition BusinessTravel  DailyRate            Department  \\\n",
      "0      21        0.0  Travel_Rarely        391  Research_Development   \n",
      "21     19        0.0  Travel_Rarely       1181  Research_Development   \n",
      "42     45        0.0  Travel_Rarely        252  Research_Development   \n",
      "63     23        0.0  Travel_Rarely        373  Research_Development   \n",
      "84     30        1.0  Travel_Rarely        945                 Sales   \n",
      "...   ...        ...            ...        ...                   ...   \n",
      "1365   48        0.0  Travel_Rarely        715  Research_Development   \n",
      "1386   48        0.0  Travel_Rarely       1355  Research_Development   \n",
      "1407   50        0.0  Travel_Rarely        989  Research_Development   \n",
      "1428   50        0.0     Non-Travel        881  Research_Development   \n",
      "1449   52        0.0  Travel_Rarely        699  Research_Development   \n",
      "\n",
      "      DistanceFromHome      Education EducationField EnvironmentSatisfaction  \\\n",
      "0                   15        College  Life_Sciences                    High   \n",
      "21                   3  Below_College        Medical                  Medium   \n",
      "42                   2       Bachelor  Life_Sciences                  Medium   \n",
      "63                   1        College  Life_Sciences               Very_High   \n",
      "84                   9       Bachelor        Medical                  Medium   \n",
      "...                ...            ...            ...                     ...   \n",
      "1365                 1       Bachelor  Life_Sciences               Very_High   \n",
      "1386                 4         Master  Life_Sciences                    High   \n",
      "1407                 7        College        Medical                  Medium   \n",
      "1428                 2         Master  Life_Sciences                     Low   \n",
      "1449                 1         Master  Life_Sciences                    High   \n",
      "\n",
      "      Gender  ...  PerformanceRating RelationshipSatisfaction  \\\n",
      "0       Male  ...          Excellent                Very_High   \n",
      "21    Female  ...          Excellent                Very_High   \n",
      "42    Female  ...          Excellent                Very_High   \n",
      "63      Male  ...        Outstanding                Very_High   \n",
      "84      Male  ...          Excellent                     High   \n",
      "...      ...  ...                ...                      ...   \n",
      "1365    Male  ...          Excellent                     High   \n",
      "1386    Male  ...          Excellent                   Medium   \n",
      "1407  Female  ...          Excellent                Very_High   \n",
      "1428    Male  ...          Excellent                Very_High   \n",
      "1449    Male  ...          Excellent                      Low   \n",
      "\n",
      "      StockOptionLevel TotalWorkingYears TrainingTimesLastYear  \\\n",
      "0                    0                 0                     6   \n",
      "21                   0                 1                     3   \n",
      "42                   0                 1                     3   \n",
      "63                   1                 1                     2   \n",
      "84                   0                 1                     3   \n",
      "...                ...               ...                   ...   \n",
      "1365                 0                25                     3   \n",
      "1386                 0                27                     3   \n",
      "1407                 1                29                     2   \n",
      "1428                 1                31                     3   \n",
      "1449                 1                34                     5   \n",
      "\n",
      "     WorkLifeBalance  YearsAtCompany  YearsInCurrentRole  \\\n",
      "0             Better               0                   0   \n",
      "21            Better               1                   0   \n",
      "42            Better               1                   0   \n",
      "63            Better               1                   0   \n",
      "84              Good               1                   0   \n",
      "...              ...             ...                 ...   \n",
      "1365            Best               1                   0   \n",
      "1386          Better              15                  11   \n",
      "1407            Good              27                   3   \n",
      "1428          Better              31                   6   \n",
      "1449          Better              33                  18   \n",
      "\n",
      "      YearsSinceLastPromotion YearsWithCurrManager  \n",
      "0                           0                    0  \n",
      "21                          0                    0  \n",
      "42                          0                    0  \n",
      "63                          0                    1  \n",
      "84                          0                    0  \n",
      "...                       ...                  ...  \n",
      "1365                        0                    0  \n",
      "1386                        4                    8  \n",
      "1407                       13                    8  \n",
      "1428                       14                    7  \n",
      "1449                       11                    9  \n",
      "\n",
      "[70 rows x 31 columns]\n"
     ]
    }
   ],
   "source": [
    "# Systematically sample 70 rows\n",
    "attrition_sys_samp = attrition_pop.iloc[::interval]\n",
    "\n",
    "# Print the sample\n",
    "print(attrition_sys_samp)"
   ],
   "metadata": {
    "collapsed": false,
    "pycharm": {
     "name": "#%%\n"
    }
   }
  },
  {
   "metadata": {
    "pycharm": {
     "name": "#%% md\n"
    }
   },
   "outputs": [],
   "source": [
    "## Is systematic sampling OK?\n",
    "\n",
    "<p>Systematic sampling has a problem: if the data has been sorted, or there is some sort of pattern or meaning behind the row order, then the resulting sample may not be representative of the whole population. The problem can be solved by shuffling the rows, but then systematic sampling is equivalent to simple random sampling.</p>\n",
    "<p>Here you'll look at how to determine whether or not there is a problem.</p>\n",
    "<p><code>attrition_pop</code> is available; <code>pandas</code>  is loaded as <code>pd</code>, and <code>matplotlib.pyplot</code> as <code>plt</code>.</p>"
   ],
   "execution_count": null,
   "cell_type": "markdown"
  },
  {
   "metadata": {
    "pycharm": {
     "name": "#%% md\n"
    }
   },
   "outputs": [],
   "source": [
    "Add an index column to <code>attrition_pop</code>, assigning the result to <code>attrition_pop_id</code>."
   ],
   "execution_count": null,
   "cell_type": "markdown"
  },
  {
   "metadata": {
    "pycharm": {
     "name": "#%% md\n"
    }
   },
   "outputs": [],
   "source": [
    "Create a scatter plot of <code>YearsAtCompany</code> versus <code>index</code> for <code>attrition_pop_id</code>."
   ],
   "execution_count": null,
   "cell_type": "markdown"
  },
  {
   "cell_type": "code",
   "execution_count": 40,
   "outputs": [
    {
     "data": {
      "text/plain": "<Figure size 432x288 with 1 Axes>",
      "image/png": "[encoded data removed]"
     },
     "metadata": {
      "needs_background": "light"
     },
     "output_type": "display_data"
    }
   ],
   "source": [
    "# Add an index column to attrition_pop\n",
    "attrition_pop_id = attrition_pop.reset_index()\n",
    "\n",
    "# Plot YearsAtCompany vs. index for attrition_pop_id\n",
    "attrition_pop_id.plot(x=\"index\",y=\"YearsAtCompany\",kind=\"scatter\")\n",
    "plt.show()"
   ],
   "metadata": {
    "collapsed": false,
    "pycharm": {
     "name": "#%%\n"
    }
   }
  },
  {
   "cell_type": "code",
   "execution_count": 41,
   "outputs": [
    {
     "data": {
      "text/plain": "<Figure size 432x288 with 1 Axes>",
      "image/png": "[encoded data removed]"
     },
     "metadata": {
      "needs_background": "light"
     },
     "output_type": "display_data"
    }
   ],
   "source": [
    "# Shuffle the rows of attrition_pop\n",
    "attrition_shuffled = attrition_pop.sample(frac=1)\n",
    "\n",
    "# Reset the row indexes and create an index column\n",
    "attrition_shuffled = attrition_shuffled.reset_index(drop=True).reset_index()\n",
    "\n",
    "# Plot YearsAtCompany vs. index for attrition_shuffled\n",
    "attrition_shuffled.plot(x=\"index\",y=\"YearsAtCompany\",kind=\"scatter\")\n",
    "plt.show()"
   ],
   "metadata": {
    "collapsed": false,
    "pycharm": {
     "name": "#%%\n"
    }
   }
  },
  {
   "metadata": {
    "pycharm": {
     "name": "#%% md\n"
    }
   },
   "outputs": [],
   "source": [
    "## Can't get no stratisfaction"
   ],
   "execution_count": null,
   "cell_type": "markdown"
  },
  {
   "metadata": {
    "pycharm": {
     "name": "#%% md\n"
    }
   },
   "outputs": [],
   "source": [
    "### 1. Can't get no stratisfaction\n",
    "\n",
    "Stratified sampling is a technique that allows us to sample a population that contains subgroups."
   ],
   "execution_count": null,
   "cell_type": "markdown"
  },
  {
   "metadata": {
    "pycharm": {
     "name": "#%% md\n"
    }
   },
   "outputs": [],
   "source": [
    "### 2. Coffees by country\n",
    "\n",
    "For example, we could group the coffee ratings by country. If we count the number of coffees by country using the value_counts method, we can see that these six countries have the most data.\n",
    "\n",
    "<br>\n",
    "<img src=\"image/img_3.png\">"
   ],
   "execution_count": null,
   "cell_type": "markdown"
  },
  {
   "cell_type": "code",
   "execution_count": 73,
   "outputs": [
    {
     "data": {
      "text/plain": "Mexico                    236\nColombia                  183\nGuatemala                 181\nBrazil                    132\nTaiwan                     75\nUnited States (Hawaii)     73\nName: country_of_origin, dtype: int64"
     },
     "execution_count": 73,
     "metadata": {},
     "output_type": "execute_result"
    }
   ],
   "source": [
    "top_counts =coffee_rating[\"country_of_origin\"].value_counts()\n",
    "top_counts[:6]"
   ],
   "metadata": {
    "collapsed": false,
    "pycharm": {
     "name": "#%%\n"
    }
   }
  },
  {
   "metadata": {
    "pycharm": {
     "name": "#%% md\n"
    }
   },
   "outputs": [],
   "source": [
    "### 3. Filtering for 6 countries\n",
    "\n",
    "To make it easier to think about sampling subgroups, let's limit our analysis to these six countries. We can use the dot-isin method to filter the population and only return the rows corresponding to these six countries. This filtered dataset is stored as coffee_ratings_top."
   ],
   "execution_count": null,
   "cell_type": "markdown"
  },
  {
   "cell_type": "code",
   "execution_count": 74,
   "outputs": [
    {
     "data": {
      "text/plain": "    total_cup_points  species                     owner  \\\n2              89.75  Arabica  grounds for health admin   \n5              88.83  Arabica                 ji-ae ahn   \n13             87.92  Arabica  grounds for health admin   \n22             87.17  Arabica     roberto licona franco   \n25             86.92  Arabica                  nucoffee   \n\n         country_of_origin                                 farm_name  \\\n2                Guatemala  san marcos barrancas \"san cristobal cuch   \n5                   Brazil                                      None   \n13  United States (Hawaii)                             arianna farms   \n22                  Mexico                              la herradura   \n25                  Brazil                           fazenda kaquend   \n\n   lot_number          mill     ico_number   company       altitude  ...  \\\n2        None          None           None      None  1600 - 1800 m  ...   \n5        None          None           None      None           None  ...   \n13       None          None           None      None        2000 ft  ...   \n22       None  la herradura              0      None           1320  ...   \n25       None          None  002/1251/0073  nucoffee          1250m  ...   \n\n           color category_two_defects           expiration  \\\n2           None                  0.0       May 31st, 2011   \n5   Bluish-Green                  1.0  September 3rd, 2014   \n13          None                  2.0       May 31st, 2011   \n22         Green                  0.0      July 26th, 2013   \n25         Green                  2.0   December 2nd, 2012   \n\n                    certification_body  \\\n2         Specialty Coffee Association   \n5   Specialty Coffee Institute of Asia   \n13        Specialty Coffee Association   \n22                             AMECAFE   \n25                            NUCOFFEE   \n\n                       certification_address  \\\n2   36d0d00a3724338ba7937c52a378d085f2172daa   \n5   726e4891cf2c9a4848768bd34b668124d12c4224   \n13  36d0d00a3724338ba7937c52a378d085f2172daa   \n22  59e396ad6e22a1c22b248f958e1da2bd8af85272   \n25  567f200bcc17a90070cb952647bf88141ad9c80c   \n\n                       certification_contact unit_of_measurement  \\\n2   0878a7d4b9d35ddbf0fe2ce69a2062cceb45a660                   m   \n5   b70da261fcc84831e3e9620c30a8701540abc200                   m   \n13  0878a7d4b9d35ddbf0fe2ce69a2062cceb45a660                  ft   \n22  0eb4ee5b3f47b20b049548a2fd1e7d4a2b70d0a7                   m   \n25  aa2ff513ffb9c844462a1fb07c599bce7f3bb53d                   m   \n\n   altitude_low_meters altitude_high_meters altitude_mean_meters  \n2               1600.0               1800.0               1700.0  \n5                  NaN                  NaN                  NaN  \n13               609.6                609.6                609.6  \n22              1320.0               1320.0               1320.0  \n25              1250.0               1250.0               1250.0  \n\n[5 rows x 43 columns]",
      "text/html": "<div>\n<style scoped>\n    .dataframe tbody tr th:only-of-type {\n        vertical-align: middle;\n    }\n\n    .dataframe tbody tr th {\n        vertical-align: top;\n    }\n\n    .dataframe thead th {\n        text-align: right;\n    }\n</style>\n<table border=\"1\" class=\"dataframe\">\n  <thead>\n    <tr style=\"text-align: right;\">\n      <th></th>\n      <th>total_cup_points</th>\n      <th>species</th>\n      <th>owner</th>\n      <th>country_of_origin</th>\n      <th>farm_name</th>\n      <th>lot_number</th>\n      <th>mill</th>\n      <th>ico_number</th>\n      <th>company</th>\n      <th>altitude</th>\n      <th>...</th>\n      <th>color</th>\n      <th>category_two_defects</th>\n      <th>expiration</th>\n      <th>certification_body</th>\n      <th>certification_address</th>\n      <th>certification_contact</th>\n      <th>unit_of_measurement</th>\n      <th>altitude_low_meters</th>\n      <th>altitude_high_meters</th>\n      <th>altitude_mean_meters</th>\n    </tr>\n  </thead>\n  <tbody>\n    <tr>\n      <th>2</th>\n      <td>89.75</td>\n      <td>Arabica</td>\n      <td>grounds for health admin</td>\n      <td>Guatemala</td>\n      <td>san marcos barrancas \"san cristobal cuch</td>\n      <td>None</td>\n      <td>None</td>\n      <td>None</td>\n      <td>None</td>\n      <td>1600 - 1800 m</td>\n      <td>...</td>\n      <td>None</td>\n      <td>0.0</td>\n      <td>May 31st, 2011</td>\n      <td>Specialty Coffee Association</td>\n      <td>36d0d00a3724338ba7937c52a378d085f2172daa</td>\n      <td>0878a7d4b9d35ddbf0fe2ce69a2062cceb45a660</td>\n      <td>m</td>\n      <td>1600.0</td>\n      <td>1800.0</td>\n      <td>1700.0</td>\n    </tr>\n    <tr>\n      <th>5</th>\n      <td>88.83</td>\n      <td>Arabica</td>\n      <td>ji-ae ahn</td>\n      <td>Brazil</td>\n      <td>None</td>\n      <td>None</td>\n      <td>None</td>\n      <td>None</td>\n      <td>None</td>\n      <td>None</td>\n      <td>...</td>\n      <td>Bluish-Green</td>\n      <td>1.0</td>\n      <td>September 3rd, 2014</td>\n      <td>Specialty Coffee Institute of Asia</td>\n      <td>726e4891cf2c9a4848768bd34b668124d12c4224</td>\n      <td>b70da261fcc84831e3e9620c30a8701540abc200</td>\n      <td>m</td>\n      <td>NaN</td>\n      <td>NaN</td>\n      <td>NaN</td>\n    </tr>\n    <tr>\n      <th>13</th>\n      <td>87.92</td>\n      <td>Arabica</td>\n      <td>grounds for health admin</td>\n      <td>United States (Hawaii)</td>\n      <td>arianna farms</td>\n      <td>None</td>\n      <td>None</td>\n      <td>None</td>\n      <td>None</td>\n      <td>2000 ft</td>\n      <td>...</td>\n      <td>None</td>\n      <td>2.0</td>\n      <td>May 31st, 2011</td>\n      <td>Specialty Coffee Association</td>\n      <td>36d0d00a3724338ba7937c52a378d085f2172daa</td>\n      <td>0878a7d4b9d35ddbf0fe2ce69a2062cceb45a660</td>\n      <td>ft</td>\n      <td>609.6</td>\n      <td>609.6</td>\n      <td>609.6</td>\n    </tr>\n    <tr>\n      <th>22</th>\n      <td>87.17</td>\n      <td>Arabica</td>\n      <td>roberto licona franco</td>\n      <td>Mexico</td>\n      <td>la herradura</td>\n      <td>None</td>\n      <td>la herradura</td>\n      <td>0</td>\n      <td>None</td>\n      <td>1320</td>\n      <td>...</td>\n      <td>Green</td>\n      <td>0.0</td>\n      <td>July 26th, 2013</td>\n      <td>AMECAFE</td>\n      <td>59e396ad6e22a1c22b248f958e1da2bd8af85272</td>\n      <td>0eb4ee5b3f47b20b049548a2fd1e7d4a2b70d0a7</td>\n      <td>m</td>\n      <td>1320.0</td>\n      <td>1320.0</td>\n      <td>1320.0</td>\n    </tr>\n    <tr>\n      <th>25</th>\n      <td>86.92</td>\n      <td>Arabica</td>\n      <td>nucoffee</td>\n      <td>Brazil</td>\n      <td>fazenda kaquend</td>\n      <td>None</td>\n      <td>None</td>\n      <td>002/1251/0073</td>\n      <td>nucoffee</td>\n      <td>1250m</td>\n      <td>...</td>\n      <td>Green</td>\n      <td>2.0</td>\n      <td>December 2nd, 2012</td>\n      <td>NUCOFFEE</td>\n      <td>567f200bcc17a90070cb952647bf88141ad9c80c</td>\n      <td>aa2ff513ffb9c844462a1fb07c599bce7f3bb53d</td>\n      <td>m</td>\n      <td>1250.0</td>\n      <td>1250.0</td>\n      <td>1250.0</td>\n    </tr>\n  </tbody>\n</table>\n<p>5 rows × 43 columns</p>\n</div>"
     },
     "execution_count": 74,
     "metadata": {},
     "output_type": "execute_result"
    }
   ],
   "source": [
    "top_counted_subset = coffee_rating[\"country_of_origin\"].isin(top_counts[:6].index.values)\n",
    "coffee_rating_top = coffee_rating[top_counted_subset]\n",
    "coffee_rating_top.head()"
   ],
   "metadata": {
    "collapsed": false,
    "pycharm": {
     "name": "#%%\n"
    }
   }
  },
  {
   "metadata": {
    "pycharm": {
     "name": "#%% md\n"
    }
   },
   "outputs": [],
   "source": [
    "### 4. Counts of a simple random sample\n",
    "\n",
    "Let's take a ten percent simple random sample of the dataset using dot-sample with frac set to zero-point-one. We also set the random_state argument to ensure reproducibility. As with the whole dataset, we can look at the counts for each country. To make comparisons easier, we set normalize to True to convert the counts into a proportion, which shows what proportion of coffees in the sample came from each country."
   ],
   "execution_count": null,
   "cell_type": "markdown"
  },
  {
   "cell_type": "code",
   "execution_count": 75,
   "outputs": [
    {
     "data": {
      "text/plain": "88.0"
     },
     "execution_count": 75,
     "metadata": {},
     "output_type": "execute_result"
    }
   ],
   "source": [
    "coffee_rating_top.shape[0] * 0.1"
   ],
   "metadata": {
    "collapsed": false,
    "pycharm": {
     "name": "#%%\n"
    }
   }
  },
  {
   "cell_type": "code",
   "execution_count": 76,
   "outputs": [
    {
     "data": {
      "text/plain": "Mexico                    0.250000\nGuatemala                 0.204545\nColombia                  0.181818\nBrazil                    0.181818\nUnited States (Hawaii)    0.102273\nTaiwan                    0.079545\nName: country_of_origin, dtype: float64"
     },
     "execution_count": 76,
     "metadata": {},
     "output_type": "execute_result"
    }
   ],
   "source": [
    "coffee_rating_samp = coffee_rating_top.sample(frac=0.1,random_state=2021)\n",
    "coffee_rating_samp[\"country_of_origin\"].value_counts(normalize=True)"
   ],
   "metadata": {
    "collapsed": false,
    "pycharm": {
     "name": "#%%\n"
    }
   }
  },
  {
   "cell_type": "code",
   "execution_count": 77,
   "outputs": [
    {
     "data": {
      "text/plain": "88"
     },
     "execution_count": 77,
     "metadata": {},
     "output_type": "execute_result"
    }
   ],
   "source": [
    "coffee_rating_samp.shape[0]"
   ],
   "metadata": {
    "collapsed": false,
    "pycharm": {
     "name": "#%%\n"
    }
   }
  },
  {
   "metadata": {
    "pycharm": {
     "name": "#%% md\n"
    }
   },
   "outputs": [],
   "source": [
    "### 5. Comparing proportions\n",
    "\n",
    "Here are the proportions for the population and the ten percent sample side by side. Just by chance, in this sample, Taiwanese coffees form a disproportionately low percentage. The different makeup of the sample compared to the population could be a problem if we want to analyze the country of origin, for example."
   ],
   "execution_count": null,
   "cell_type": "markdown"
  },
  {
   "cell_type": "code",
   "execution_count": 78,
   "outputs": [
    {
     "data": {
      "text/plain": "                        population  ten_perc_sample\nMexico                    0.268182         0.250000\nColombia                  0.207955         0.181818\nGuatemala                 0.205682         0.204545\nBrazil                    0.150000         0.181818\nTaiwan                    0.085227         0.079545\nUnited States (Hawaii)    0.082955         0.102273",
      "text/html": "<div>\n<style scoped>\n    .dataframe tbody tr th:only-of-type {\n        vertical-align: middle;\n    }\n\n    .dataframe tbody tr th {\n        vertical-align: top;\n    }\n\n    .dataframe thead th {\n        text-align: right;\n    }\n</style>\n<table border=\"1\" class=\"dataframe\">\n  <thead>\n    <tr style=\"text-align: right;\">\n      <th></th>\n      <th>population</th>\n      <th>ten_perc_sample</th>\n    </tr>\n  </thead>\n  <tbody>\n    <tr>\n      <th>Mexico</th>\n      <td>0.268182</td>\n      <td>0.250000</td>\n    </tr>\n    <tr>\n      <th>Colombia</th>\n      <td>0.207955</td>\n      <td>0.181818</td>\n    </tr>\n    <tr>\n      <th>Guatemala</th>\n      <td>0.205682</td>\n      <td>0.204545</td>\n    </tr>\n    <tr>\n      <th>Brazil</th>\n      <td>0.150000</td>\n      <td>0.181818</td>\n    </tr>\n    <tr>\n      <th>Taiwan</th>\n      <td>0.085227</td>\n      <td>0.079545</td>\n    </tr>\n    <tr>\n      <th>United States (Hawaii)</th>\n      <td>0.082955</td>\n      <td>0.102273</td>\n    </tr>\n  </tbody>\n</table>\n</div>"
     },
     "execution_count": 78,
     "metadata": {},
     "output_type": "execute_result"
    }
   ],
   "source": [
    "coffee_comp_prop = pd.DataFrame()\n",
    "coffee_comp_prop = coffee_comp_prop.assign(population = coffee_rating_top[\"country_of_origin\"].value_counts(normalize=True)[:6],ten_perc_sample = coffee_rating_samp[\"country_of_origin\"].value_counts(normalize=True) )\n",
    "coffee_comp_prop"
   ],
   "metadata": {
    "collapsed": false,
    "pycharm": {
     "name": "#%%\n"
    }
   }
  },
  {
   "metadata": {
    "pycharm": {
     "name": "#%% md\n"
    }
   },
   "outputs": [],
   "source": [
    "### 6. Proportional stratified sampling\n",
    "\n",
    "If we care about the proportions of each country in the sample closely matching those in the population, then we can group the data by country before taking the simple random sample. Note that we used the Python line continuation backslash here, which can be useful for breaking up longer chains of pandas code like this. Calling the dot-sample method after grouping takes a simple random sample within each country. Now the proportions of each country in the stratified sample are much closer to those in the population."
   ],
   "execution_count": null,
   "cell_type": "markdown"
  },
  {
   "cell_type": "code",
   "execution_count": 79,
   "outputs": [],
   "source": [
    "coffee_rating_strat = coffee_rating_top.groupby(\"country_of_origin\").sample(frac=0.1,random_state=2021)\n",
    "coffee_comp_prop = coffee_comp_prop.assign(strata_sample = coffee_rating_strat[\"country_of_origin\"].value_counts(normalize=True))"
   ],
   "metadata": {
    "collapsed": false,
    "pycharm": {
     "name": "#%%\n"
    }
   }
  },
  {
   "cell_type": "code",
   "execution_count": 80,
   "outputs": [
    {
     "data": {
      "text/plain": "                        population  ten_perc_sample  strata_sample\nMexico                    0.268182         0.250000       0.272727\nColombia                  0.207955         0.181818       0.204545\nGuatemala                 0.205682         0.204545       0.204545\nBrazil                    0.150000         0.181818       0.147727\nTaiwan                    0.085227         0.079545       0.090909\nUnited States (Hawaii)    0.082955         0.102273       0.079545",
      "text/html": "<div>\n<style scoped>\n    .dataframe tbody tr th:only-of-type {\n        vertical-align: middle;\n    }\n\n    .dataframe tbody tr th {\n        vertical-align: top;\n    }\n\n    .dataframe thead th {\n        text-align: right;\n    }\n</style>\n<table border=\"1\" class=\"dataframe\">\n  <thead>\n    <tr style=\"text-align: right;\">\n      <th></th>\n      <th>population</th>\n      <th>ten_perc_sample</th>\n      <th>strata_sample</th>\n    </tr>\n  </thead>\n  <tbody>\n    <tr>\n      <th>Mexico</th>\n      <td>0.268182</td>\n      <td>0.250000</td>\n      <td>0.272727</td>\n    </tr>\n    <tr>\n      <th>Colombia</th>\n      <td>0.207955</td>\n      <td>0.181818</td>\n      <td>0.204545</td>\n    </tr>\n    <tr>\n      <th>Guatemala</th>\n      <td>0.205682</td>\n      <td>0.204545</td>\n      <td>0.204545</td>\n    </tr>\n    <tr>\n      <th>Brazil</th>\n      <td>0.150000</td>\n      <td>0.181818</td>\n      <td>0.147727</td>\n    </tr>\n    <tr>\n      <th>Taiwan</th>\n      <td>0.085227</td>\n      <td>0.079545</td>\n      <td>0.090909</td>\n    </tr>\n    <tr>\n      <th>United States (Hawaii)</th>\n      <td>0.082955</td>\n      <td>0.102273</td>\n      <td>0.079545</td>\n    </tr>\n  </tbody>\n</table>\n</div>"
     },
     "execution_count": 80,
     "metadata": {},
     "output_type": "execute_result"
    }
   ],
   "source": [
    "coffee_comp_prop"
   ],
   "metadata": {
    "collapsed": false,
    "pycharm": {
     "name": "#%%\n"
    }
   }
  },
  {
   "metadata": {
    "pycharm": {
     "name": "#%% md\n"
    }
   },
   "outputs": [],
   "source": [
    "### 7. Equal counts stratified sampling\n",
    "\n",
    "One variation of stratified sampling is to sample equal counts from each group, rather than an equal proportion. The code only has one change from before. This time, we use the n argument in dot-sample instead of frac to extract fifteen randomly-selected rows from each country. Here, the resulting sample has equal proportions of one-sixth from each country."
   ],
   "execution_count": null,
   "cell_type": "markdown"
  },
  {
   "cell_type": "code",
   "execution_count": 81,
   "outputs": [
    {
     "data": {
      "text/plain": "                        population  ten_perc_sample  strata_sample  \\\nMexico                    0.268182         0.250000       0.272727   \nColombia                  0.207955         0.181818       0.204545   \nGuatemala                 0.205682         0.204545       0.204545   \nBrazil                    0.150000         0.181818       0.147727   \nTaiwan                    0.085227         0.079545       0.090909   \nUnited States (Hawaii)    0.082955         0.102273       0.079545   \n\n                        strat_equal  \nMexico                     0.166667  \nColombia                   0.166667  \nGuatemala                  0.166667  \nBrazil                     0.166667  \nTaiwan                     0.166667  \nUnited States (Hawaii)     0.166667  ",
      "text/html": "<div>\n<style scoped>\n    .dataframe tbody tr th:only-of-type {\n        vertical-align: middle;\n    }\n\n    .dataframe tbody tr th {\n        vertical-align: top;\n    }\n\n    .dataframe thead th {\n        text-align: right;\n    }\n</style>\n<table border=\"1\" class=\"dataframe\">\n  <thead>\n    <tr style=\"text-align: right;\">\n      <th></th>\n      <th>population</th>\n      <th>ten_perc_sample</th>\n      <th>strata_sample</th>\n      <th>strat_equal</th>\n    </tr>\n  </thead>\n  <tbody>\n    <tr>\n      <th>Mexico</th>\n      <td>0.268182</td>\n      <td>0.250000</td>\n      <td>0.272727</td>\n      <td>0.166667</td>\n    </tr>\n    <tr>\n      <th>Colombia</th>\n      <td>0.207955</td>\n      <td>0.181818</td>\n      <td>0.204545</td>\n      <td>0.166667</td>\n    </tr>\n    <tr>\n      <th>Guatemala</th>\n      <td>0.205682</td>\n      <td>0.204545</td>\n      <td>0.204545</td>\n      <td>0.166667</td>\n    </tr>\n    <tr>\n      <th>Brazil</th>\n      <td>0.150000</td>\n      <td>0.181818</td>\n      <td>0.147727</td>\n      <td>0.166667</td>\n    </tr>\n    <tr>\n      <th>Taiwan</th>\n      <td>0.085227</td>\n      <td>0.079545</td>\n      <td>0.090909</td>\n      <td>0.166667</td>\n    </tr>\n    <tr>\n      <th>United States (Hawaii)</th>\n      <td>0.082955</td>\n      <td>0.102273</td>\n      <td>0.079545</td>\n      <td>0.166667</td>\n    </tr>\n  </tbody>\n</table>\n</div>"
     },
     "execution_count": 81,
     "metadata": {},
     "output_type": "execute_result"
    }
   ],
   "source": [
    "coffee_rating_eq = coffee_rating_top.groupby(\"country_of_origin\").sample(n=15,random_state=2021)\n",
    "coffee_comp_prop = coffee_comp_prop.assign(strat_equal = coffee_rating_eq[\"country_of_origin\"].value_counts(normalize=True))\n",
    "coffee_comp_prop"
   ],
   "metadata": {
    "collapsed": false,
    "pycharm": {
     "name": "#%%\n"
    }
   }
  },
  {
   "metadata": {
    "pycharm": {
     "name": "#%% md\n"
    }
   },
   "outputs": [],
   "source": [
    "### 8. Weighted random sampling\n",
    "\n",
    "A close relative of stratified sampling that provides even more flexibility is weighted random sampling. In this variant, we create a column of weights that adjust the relative probability of sampling each row. For example, suppose we thought that it was important to have a higher proportion of Taiwanese coffees in the sample than in the population. We create a condition, in this case, rows where the country of origin is Taiwan. Using the where function from NumPy, we can set a weight of two for rows that match the condition and a weight of one for rows that don't match the condition. This means when each row is randomly sampled, Taiwanese coffees have two times the chance of being picked compared to other coffees. When we call dot-sample, we pass the column of weights to the weights argument."
   ],
   "execution_count": null,
   "cell_type": "markdown"
  },
  {
   "cell_type": "code",
   "execution_count": 82,
   "outputs": [],
   "source": [
    "coffee_rating_weight = coffee_rating_top\n",
    "condition = coffee_rating_weight[\"country_of_origin\"] ==\"Taiwan\""
   ],
   "metadata": {
    "collapsed": false,
    "pycharm": {
     "name": "#%%\n"
    }
   }
  },
  {
   "cell_type": "code",
   "execution_count": 83,
   "outputs": [],
   "source": [
    "coffee_rating_weight = coffee_rating_weight.assign(weight = np.where(condition,2,1))\n",
    "coffee_rating_weight_samp = coffee_rating_weight.sample(frac=0.1,weights=\"weight\")"
   ],
   "metadata": {
    "collapsed": false,
    "pycharm": {
     "name": "#%%\n"
    }
   }
  },
  {
   "metadata": {
    "pycharm": {
     "name": "#%% md\n"
    }
   },
   "outputs": [],
   "source": [
    "### 9. Weighted random sampling results\n",
    "\n",
    "Here, we can see that Taiwan now contains seventeen percent of the sampled dataset, compared to eight-point-five percent in the population. This sort of weighted sampling is common in political polling, where we need to correct for under- or over-representation of demographic groups."
   ],
   "execution_count": null,
   "cell_type": "markdown"
  },
  {
   "cell_type": "code",
   "execution_count": 84,
   "outputs": [
    {
     "data": {
      "text/plain": "                        population  ten_perc_sample  strata_sample  \\\nMexico                    0.268182         0.250000       0.272727   \nColombia                  0.207955         0.181818       0.204545   \nGuatemala                 0.205682         0.204545       0.204545   \nBrazil                    0.150000         0.181818       0.147727   \nTaiwan                    0.085227         0.079545       0.090909   \nUnited States (Hawaii)    0.082955         0.102273       0.079545   \n\n                        strat_equal  weight_sample  \nMexico                     0.166667       0.352273  \nColombia                   0.166667       0.170455  \nGuatemala                  0.166667       0.193182  \nBrazil                     0.166667       0.136364  \nTaiwan                     0.166667       0.090909  \nUnited States (Hawaii)     0.166667       0.056818  ",
      "text/html": "<div>\n<style scoped>\n    .dataframe tbody tr th:only-of-type {\n        vertical-align: middle;\n    }\n\n    .dataframe tbody tr th {\n        vertical-align: top;\n    }\n\n    .dataframe thead th {\n        text-align: right;\n    }\n</style>\n<table border=\"1\" class=\"dataframe\">\n  <thead>\n    <tr style=\"text-align: right;\">\n      <th></th>\n      <th>population</th>\n      <th>ten_perc_sample</th>\n      <th>strata_sample</th>\n      <th>strat_equal</th>\n      <th>weight_sample</th>\n    </tr>\n  </thead>\n  <tbody>\n    <tr>\n      <th>Mexico</th>\n      <td>0.268182</td>\n      <td>0.250000</td>\n      <td>0.272727</td>\n      <td>0.166667</td>\n      <td>0.352273</td>\n    </tr>\n    <tr>\n      <th>Colombia</th>\n      <td>0.207955</td>\n      <td>0.181818</td>\n      <td>0.204545</td>\n      <td>0.166667</td>\n      <td>0.170455</td>\n    </tr>\n    <tr>\n      <th>Guatemala</th>\n      <td>0.205682</td>\n      <td>0.204545</td>\n      <td>0.204545</td>\n      <td>0.166667</td>\n      <td>0.193182</td>\n    </tr>\n    <tr>\n      <th>Brazil</th>\n      <td>0.150000</td>\n      <td>0.181818</td>\n      <td>0.147727</td>\n      <td>0.166667</td>\n      <td>0.136364</td>\n    </tr>\n    <tr>\n      <th>Taiwan</th>\n      <td>0.085227</td>\n      <td>0.079545</td>\n      <td>0.090909</td>\n      <td>0.166667</td>\n      <td>0.090909</td>\n    </tr>\n    <tr>\n      <th>United States (Hawaii)</th>\n      <td>0.082955</td>\n      <td>0.102273</td>\n      <td>0.079545</td>\n      <td>0.166667</td>\n      <td>0.056818</td>\n    </tr>\n  </tbody>\n</table>\n</div>"
     },
     "execution_count": 84,
     "metadata": {},
     "output_type": "execute_result"
    }
   ],
   "source": [
    "coffee_comp_prop = coffee_comp_prop.assign(weight_sample = coffee_rating_weight_samp[\"country_of_origin\"].value_counts(normalize=True))\n",
    "coffee_comp_prop"
   ],
   "metadata": {
    "collapsed": false,
    "pycharm": {
     "name": "#%%\n"
    }
   }
  },
  {
   "metadata": {
    "pycharm": {
     "name": "#%% md\n"
    }
   },
   "outputs": [],
   "source": [
    "### 10. Let's practice!\n",
    "\n",
    "Time to try these new techniques out!"
   ],
   "execution_count": null,
   "cell_type": "markdown"
  },
  {
   "metadata": {
    "pycharm": {
     "name": "#%% md\n"
    }
   },
   "outputs": [],
   "source": [
    "## Proportional stratified sampling\n",
    "\n",
    "<p>If you are interested in subgroups within the population, then you may need to carefully control the counts of each subgroup within the population. <em>Proportional stratified sampling</em> results in subgroup sizes within the sample that are representative of the subgroup sizes within the population. It is equivalent to performing a simple random sample on each subgroup.</p>\n",
    "<p><code>attrition_pop</code> is available; <code>pandas</code> is loaded with its usual alias.</p>"
   ],
   "execution_count": null,
   "cell_type": "markdown"
  },
  {
   "metadata": {
    "pycharm": {
     "name": "#%% md\n"
    }
   },
   "outputs": [],
   "source": [
    "Get the proportion of employees by <code>Education</code> level from <code>attrition_pop</code>."
   ],
   "execution_count": null,
   "cell_type": "markdown"
  },
  {
   "cell_type": "code",
   "execution_count": 85,
   "outputs": [],
   "source": [
    "# Proportional stratified sampling for 40% of each Education group\n",
    "attrition_strat = attrition_pop.groupby('Education').sample(frac=0.4, random_state=2022)"
   ],
   "metadata": {
    "collapsed": false,
    "pycharm": {
     "name": "#%%\n"
    }
   }
  },
  {
   "cell_type": "code",
   "execution_count": 86,
   "outputs": [
    {
     "data": {
      "text/plain": "               population  prop_strat\nBachelor         0.389116    0.389456\nMaster           0.270748    0.270408\nCollege          0.191837    0.192177\nBelow_College    0.115646    0.115646\nDoctor           0.032653    0.032313",
      "text/html": "<div>\n<style scoped>\n    .dataframe tbody tr th:only-of-type {\n        vertical-align: middle;\n    }\n\n    .dataframe tbody tr th {\n        vertical-align: top;\n    }\n\n    .dataframe thead th {\n        text-align: right;\n    }\n</style>\n<table border=\"1\" class=\"dataframe\">\n  <thead>\n    <tr style=\"text-align: right;\">\n      <th></th>\n      <th>population</th>\n      <th>prop_strat</th>\n    </tr>\n  </thead>\n  <tbody>\n    <tr>\n      <th>Bachelor</th>\n      <td>0.389116</td>\n      <td>0.389456</td>\n    </tr>\n    <tr>\n      <th>Master</th>\n      <td>0.270748</td>\n      <td>0.270408</td>\n    </tr>\n    <tr>\n      <th>College</th>\n      <td>0.191837</td>\n      <td>0.192177</td>\n    </tr>\n    <tr>\n      <th>Below_College</th>\n      <td>0.115646</td>\n      <td>0.115646</td>\n    </tr>\n    <tr>\n      <th>Doctor</th>\n      <td>0.032653</td>\n      <td>0.032313</td>\n    </tr>\n  </tbody>\n</table>\n</div>"
     },
     "execution_count": 86,
     "metadata": {},
     "output_type": "execute_result"
    }
   ],
   "source": [
    "educ_comp_prop = pd.DataFrame()\n",
    "educ_comp_prop = educ_comp_prop.assign(population= attrition_pop[\"Education\"].value_counts(normalize=True),\n",
    "                                       prop_strat = attrition_strat[\"Education\"].value_counts(normalize=True))\n",
    "educ_comp_prop"
   ],
   "metadata": {
    "collapsed": false,
    "pycharm": {
     "name": "#%%\n"
    }
   }
  },
  {
   "metadata": {
    "pycharm": {
     "name": "#%% md\n"
    }
   },
   "outputs": [],
   "source": [
    "## Equal counts stratified sampling\n",
    "\n",
    "<p>If one subgroup is larger than another subgroup in the population, but you don't want to reflect that difference in your analysis, then you can use <em>equal counts stratified sampling</em> to generate samples where each subgroup has the same amount of data. For example, if you are analyzing blood types, O is the most common blood type worldwide, but you may wish to have equal amounts of O, A, B, and AB in your sample.</p>\n",
    "<p><code>attrition_pop</code> is available; <code>pandas</code> is loaded with its usual alias.</p>"
   ],
   "execution_count": null,
   "cell_type": "markdown"
  },
  {
   "metadata": {
    "pycharm": {
     "name": "#%% md\n"
    }
   },
   "outputs": [],
   "source": [
    "Use equal counts stratified sampling on <code>attrition_pop</code> to get 30 employees from each <code>Education</code> group, setting the seed to <code>2022</code>."
   ],
   "execution_count": null,
   "cell_type": "markdown"
  },
  {
   "cell_type": "code",
   "execution_count": 87,
   "outputs": [
    {
     "data": {
      "text/plain": "               population  prop_strat  equal_strat\nBachelor         0.389116    0.389456          0.2\nMaster           0.270748    0.270408          0.2\nCollege          0.191837    0.192177          0.2\nBelow_College    0.115646    0.115646          0.2\nDoctor           0.032653    0.032313          0.2",
      "text/html": "<div>\n<style scoped>\n    .dataframe tbody tr th:only-of-type {\n        vertical-align: middle;\n    }\n\n    .dataframe tbody tr th {\n        vertical-align: top;\n    }\n\n    .dataframe thead th {\n        text-align: right;\n    }\n</style>\n<table border=\"1\" class=\"dataframe\">\n  <thead>\n    <tr style=\"text-align: right;\">\n      <th></th>\n      <th>population</th>\n      <th>prop_strat</th>\n      <th>equal_strat</th>\n    </tr>\n  </thead>\n  <tbody>\n    <tr>\n      <th>Bachelor</th>\n      <td>0.389116</td>\n      <td>0.389456</td>\n      <td>0.2</td>\n    </tr>\n    <tr>\n      <th>Master</th>\n      <td>0.270748</td>\n      <td>0.270408</td>\n      <td>0.2</td>\n    </tr>\n    <tr>\n      <th>College</th>\n      <td>0.191837</td>\n      <td>0.192177</td>\n      <td>0.2</td>\n    </tr>\n    <tr>\n      <th>Below_College</th>\n      <td>0.115646</td>\n      <td>0.115646</td>\n      <td>0.2</td>\n    </tr>\n    <tr>\n      <th>Doctor</th>\n      <td>0.032653</td>\n      <td>0.032313</td>\n      <td>0.2</td>\n    </tr>\n  </tbody>\n</table>\n</div>"
     },
     "execution_count": 87,
     "metadata": {},
     "output_type": "execute_result"
    }
   ],
   "source": [
    "attrition_eq = attrition_pop.groupby(\"Education\").sample(n=30,random_state=2022)\n",
    "educ_comp_prop = educ_comp_prop.assign(equal_strat = attrition_eq[\"Education\"].value_counts(normalize=True))\n",
    "educ_comp_prop"
   ],
   "metadata": {
    "collapsed": false,
    "pycharm": {
     "name": "#%%\n"
    }
   }
  },
  {
   "metadata": {
    "pycharm": {
     "name": "#%% md\n"
    }
   },
   "outputs": [],
   "source": [
    "## Weighted sampling\n",
    "\n",
    "<p>Stratified sampling provides rules about the probability of picking rows from your dataset at the subgroup level. A generalization of this is <em>weighted sampling</em>, which lets you specify rules about the probability of picking rows at the row level. The probability of picking any given row is proportional to the weight value for that row.</p>\n",
    "<p><code>attrition_pop</code> is available; <code>pandas</code>, <code>matplotlib.pyplot</code>, and <code>numpy</code> are loaded with their usual aliases.</p>"
   ],
   "execution_count": null,
   "cell_type": "markdown"
  },
  {
   "metadata": {
    "pycharm": {
     "name": "#%% md\n"
    }
   },
   "outputs": [],
   "source": [
    "Plot <code>YearsAtCompany</code> from <code>attrition_pop</code> as a histogram with bins of width <code>1</code> from <code>0</code> to <code>40</code>."
   ],
   "execution_count": null,
   "cell_type": "markdown"
  },
  {
   "cell_type": "code",
   "execution_count": 88,
   "outputs": [
    {
     "data": {
      "text/plain": "<Figure size 432x288 with 1 Axes>",
      "image/png": "[encoded data removed]"
     },
     "metadata": {
      "needs_background": "light"
     },
     "output_type": "display_data"
    }
   ],
   "source": [
    "attrition_pop[\"YearsAtCompany\"].hist(bins=np.arange(0,40.1,1))\n",
    "plt.show()"
   ],
   "metadata": {
    "collapsed": false,
    "pycharm": {
     "name": "#%%\n"
    }
   }
  },
  {
   "cell_type": "code",
   "execution_count": 89,
   "outputs": [],
   "source": [
    "attrition_weight = attrition_pop.sample(n=400,weights=\"YearsAtCompany\")\n"
   ],
   "metadata": {
    "collapsed": false,
    "pycharm": {
     "name": "#%%\n"
    }
   }
  },
  {
   "cell_type": "code",
   "execution_count": 90,
   "outputs": [
    {
     "data": {
      "text/plain": "<Figure size 432x288 with 1 Axes>",
      "image/png": "[encoded data removed]"
     },
     "metadata": {
      "needs_background": "light"
     },
     "output_type": "display_data"
    }
   ],
   "source": [
    "attrition_pop[\"YearsAtCompany\"].hist(bins=np.arange(0,40.1,1))\n",
    "attrition_weight[\"YearsAtCompany\"].hist(bins=np.arange(0,40.1,1))\n",
    "plt.show()"
   ],
   "metadata": {
    "collapsed": false,
    "pycharm": {
     "name": "#%%\n"
    }
   }
  },
  {
   "cell_type": "code",
   "execution_count": 91,
   "outputs": [
    {
     "data": {
      "text/plain": "7.0081632653061225"
     },
     "execution_count": 91,
     "metadata": {},
     "output_type": "execute_result"
    }
   ],
   "source": [
    "attrition_pop[\"YearsAtCompany\"].mean()"
   ],
   "metadata": {
    "collapsed": false,
    "pycharm": {
     "name": "#%%\n"
    }
   }
  },
  {
   "cell_type": "code",
   "execution_count": 92,
   "outputs": [
    {
     "data": {
      "text/plain": "11.23"
     },
     "execution_count": 92,
     "metadata": {},
     "output_type": "execute_result"
    }
   ],
   "source": [
    "attrition_weight[\"YearsAtCompany\"].mean()"
   ],
   "metadata": {
    "collapsed": false,
    "pycharm": {
     "name": "#%%\n"
    }
   }
  },
  {
   "metadata": {
    "pycharm": {
     "name": "#%% md\n"
    }
   },
   "outputs": [],
   "source": [
    "## What a cluster..."
   ],
   "execution_count": null,
   "cell_type": "markdown"
  },
  {
   "metadata": {
    "pycharm": {
     "name": "#%% md\n"
    }
   },
   "outputs": [],
   "source": [
    "### 1. What a cluster...\n",
    "\n",
    "One problem with stratified sampling is that we need to collect data from every subgroup. In cases where collecting data is expensive, for example, when we have to physically travel to a location to collect it, it can make our analysis prohibitively expensive. There's a cheaper alternative called cluster sampling."
   ],
   "execution_count": null,
   "cell_type": "markdown"
  },
  {
   "metadata": {
    "pycharm": {
     "name": "#%% md\n"
    }
   },
   "outputs": [],
   "source": [
    "### 2. Stratified sampling vs. cluster sampling\n",
    "\n",
    "The stratified sampling approach was to split the population into subgroups, then use simple random sampling on each of them. Cluster sampling means that we limit the number of subgroups in the analysis by picking a few of them with simple random sampling. We then perform simple random sampling on each subgroup as before."
   ],
   "execution_count": null,
   "cell_type": "markdown"
  },
  {
   "metadata": {
    "pycharm": {
     "name": "#%% md\n"
    }
   },
   "outputs": [],
   "source": [
    "### 3. Varieties of coffee\n",
    "\n",
    "Let's return to the coffee dataset and look at the varieties of coffee. In this image, each bean represents the whole subgroup rather than an individual coffee, and there are twenty-eight of them. To extract unique varieties, we use the dot-unique method. This returns an array, so wrapping it in the list function creates a list of unique varieties. Let's suppose that it's expensive to work with all of the different varieties. Enter cluster sampling."
   ],
   "execution_count": null,
   "cell_type": "markdown"
  },
  {
   "cell_type": "code",
   "execution_count": 94,
   "outputs": [
    {
     "data": {
      "text/plain": "[None,\n 'Other',\n 'Bourbon',\n 'Catimor',\n 'Ethiopian Yirgacheffe',\n 'Caturra',\n 'SL14',\n 'Sumatra',\n 'SL34',\n 'Hawaiian Kona',\n 'Yellow Bourbon',\n 'SL28',\n 'Gesha',\n 'Catuai',\n 'Pacamara',\n 'Typica',\n 'Sumatra Lintong',\n 'Mundo Novo',\n 'Java',\n 'Peaberry',\n 'Pacas',\n 'Mandheling',\n 'Ruiru 11',\n 'Arusha',\n 'Ethiopian Heirlooms',\n 'Moka Peaberry',\n 'Sulawesi',\n 'Blue Mountain',\n 'Marigojipe',\n 'Pache Comun']"
     },
     "execution_count": 94,
     "metadata": {},
     "output_type": "execute_result"
    }
   ],
   "source": [
    "varieties_pop = list(coffee_rating[\"variety\"].unique())\n",
    "varieties_pop"
   ],
   "metadata": {
    "collapsed": false,
    "pycharm": {
     "name": "#%%\n"
    }
   }
  },
  {
   "metadata": {
    "pycharm": {
     "name": "#%% md\n"
    }
   },
   "outputs": [],
   "source": [
    "### 4. Stage 1: sampling for subgroups\n",
    "\n",
    "The first stage of cluster sampling is to randomly cut down the number of varieties, and we do this by randomly selecting them. Here, we've used the random-dot-sample function from the random package to get three varieties, specified using the argument k."
   ],
   "execution_count": null,
   "cell_type": "markdown"
  },
  {
   "cell_type": "code",
   "execution_count": 136,
   "outputs": [
    {
     "data": {
      "text/plain": "['Catimor', 'Pacamara', 'Catuai']"
     },
     "execution_count": 136,
     "metadata": {},
     "output_type": "execute_result"
    }
   ],
   "source": [
    "import random\n",
    "varieties_samp = random.sample(varieties_pop,k=3)\n",
    "varieties_samp"
   ],
   "metadata": {
    "collapsed": false,
    "pycharm": {
     "name": "#%%\n"
    }
   }
  },
  {
   "metadata": {
    "pycharm": {
     "name": "#%% md\n"
    }
   },
   "outputs": [],
   "source": [
    "### 5. Stage 2: sampling each group\n",
    "\n",
    "The second stage of cluster sampling is to perform simple random sampling on each of the three varieties we randomly selected. We first filter the dataset for rows where the variety is one of the three selected, using the dot-isin method. To ensure that the isin filtering removes levels with zero rows, we apply the cat-dot-remove_unused_categories method on the Series of focus, which is variety here. If we exclude this method, we might receive an error when sampling by variety level. The pandas code is the same as for stratified sampling. Here, we've opted for equal counts sampling, with five rows from each remaining variety."
   ],
   "execution_count": null,
   "cell_type": "markdown"
  },
  {
   "cell_type": "code",
   "execution_count": 137,
   "outputs": [],
   "source": [
    "variety_condition = coffee_rating[\"variety\"].isin(varieties_samp)\n",
    "coffee_rating_cluster = coffee_rating[variety_condition]\n"
   ],
   "metadata": {
    "collapsed": false,
    "pycharm": {
     "name": "#%%\n"
    }
   }
  },
  {
   "cell_type": "code",
   "execution_count": 127,
   "outputs": [],
   "source": [
    "coffee_rating_cluster = coffee_rating_cluster.assign(variety = coffee_rating_cluster[\"variety\"].astype(\"category\"))"
   ],
   "metadata": {
    "collapsed": false,
    "pycharm": {
     "name": "#%%\n"
    }
   }
  },
  {
   "cell_type": "code",
   "execution_count": 139,
   "outputs": [
    {
     "data": {
      "text/plain": "      total_cup_points  species                                   owner  \\\n192              84.25  Arabica                     松澤宏樹 koju matsuzawa   \n444              83.17  Arabica                     sunvirtue co., ltd.   \n1105             80.17  Arabica                     sunvirtue co., ltd.   \n447              83.17  Arabica                  yunnan coffee exchange   \n160              84.50  Arabica                  yunnan coffee exchange   \n706              82.33  Arabica                    pedro santos e silva   \n113              84.92  Arabica                                nucoffee   \n1043             80.75  Arabica                                 cadexsa   \n128              84.67  Arabica                            rodrigo soto   \n1185             79.17  Arabica                    janny marlith torres   \n177              84.42  Arabica  maria amalia guadalupe toriello elorza   \n697              82.42  Arabica               jose daniel cobilt castro   \n103              85.00  Arabica                               young kim   \n966              81.25  Arabica                           essencecoffee   \n76               85.33  Arabica                           essencecoffee   \n\n     country_of_origin                                  farm_name  \\\n192           Thailand                           matsuzawa coffee   \n444            Vietnam                              apollo estate   \n1105           Vietnam                              apollo estate   \n447              China                                   chen lin   \n160              China  menglian ban’an coffee processing factory   \n706             Brazil                          fazenda são pedro   \n113             Brazil                                sitio claro   \n1043          Honduras                                     bethel   \n128         Costa Rica                                  rio jorco   \n1185          Honduras                               la bendicion   \n177             Mexico                           finca la chiripa   \n697             Mexico                                cañada fria   \n103             Mexico                                  kassandra   \n966          Guatemala                            el injerto s.a.   \n76           Guatemala                            el injerto s.a.   \n\n                         lot_number  \\\n192                    MCCRNX115/16   \n444   Oriental Paris Natural Coffee   \n1105    Oriental Paris Civet Coffee   \n447                       YNC-16056   \n160                       YNC-16018   \n706                         0063/17   \n113                            None   \n1043                           None   \n128                         Tarrazu   \n1185                      Lot # 331   \n177                            None   \n697                            None   \n103                            None   \n966                            None   \n76                             None   \n\n                                                   mill     ico_number  \\\n192                                    matsuzawa coffee           None   \n444                                                 yes           None   \n1105                                                yes           None   \n447   mojiang jinggong estate speciality development...           None   \n160           menglian ban’an coffee processing factory           None   \n706                                             alfenas           None   \n113                                                None  002/1251/0066   \n1043                                            cadexsa      13-63-318   \n128                                           rio jorco     5-423-0128   \n1185                                  dry in solar beds     13-154-234   \n177                                      finca hamburgo     1506545936   \n697                                            huatusco     1104558673   \n103                                                None    016-2484-04   \n966                                     el injerto s.a.       11999144   \n76                                      el injerto s.a.       11999144   \n\n                            company   altitude  ...         color  \\\n192                matsuzawa coffee       1200  ...         Green   \n444             sunvirtue co., ltd.       1550  ...          None   \n1105            sunvirtue co., ltd.       1550  ...          None   \n447          yunnan coffee exchange       1200  ...         Green   \n160          yunnan coffee exchange       1680  ...         Green   \n706                            olam        982  ...         Green   \n113                        nucoffee     1000 m  ...         Green   \n1043                        cadexsa       1350  ...         Green   \n128      panamerican coffee trading       1150  ...    Blue-Green   \n1185  coffee planet corporation s.a       1650  ...         Green   \n177                  finca hamburgo        900  ...          None   \n697                            None       1350  ...         Green   \n103                            None  1400 masl  ...          None   \n966                  essence coffee      1700m  ...  Bluish-Green   \n76                   essence coffee       1770  ...         Green   \n\n     category_two_defects          expiration  \\\n192                   0.0  November 2nd, 2017   \n444                   0.0       May 8th, 2018   \n1105                  2.0       May 9th, 2018   \n447                   0.0     April 6th, 2017   \n160                   1.0     April 6th, 2017   \n706                  11.0  February 9th, 2018   \n113                   2.0  December 2nd, 2012   \n1043                  2.0      May 21st, 2016   \n128                   2.0   October 4th, 2017   \n1185                  5.0     July 27th, 2018   \n177                   4.0      June 6th, 2013   \n697                   6.0     July 11th, 2013   \n103                   0.0     April 5th, 2012   \n966                   2.0    March 20th, 2016   \n76                    1.0      May 22nd, 2016   \n\n                              certification_body  \\\n192           Specialty Coffee Institute of Asia   \n444                 Specialty Coffee Association   \n1105                Specialty Coffee Association   \n447                       Yunnan Coffee Exchange   \n160                       Yunnan Coffee Exchange   \n706          Brazil Specialty Coffee Association   \n113                                     NUCOFFEE   \n1043                Instituto Hondureño del Café   \n128   Specialty Coffee Association of Costa Rica   \n1185                Instituto Hondureño del Café   \n177                                      AMECAFE   \n697                                      AMECAFE   \n103                 Specialty Coffee Association   \n966                 Blossom Valley International   \n76                  Blossom Valley International   \n\n                         certification_address  \\\n192   726e4891cf2c9a4848768bd34b668124d12c4224   \n444   36d0d00a3724338ba7937c52a378d085f2172daa   \n1105  36d0d00a3724338ba7937c52a378d085f2172daa   \n447   683fa6014608fc10ff681b0435b0b2dbe6df988f   \n160   683fa6014608fc10ff681b0435b0b2dbe6df988f   \n706   3297cfa4c538e3dd03f72cc4082c54f7999e1f9d   \n113   567f200bcc17a90070cb952647bf88141ad9c80c   \n1043  b4660a57e9f8cc613ae5b8f02bfce8634c763ab4   \n128   8e0b118f3cf3121ab27c5387deacdb7d4d2a60b1   \n1185  b4660a57e9f8cc613ae5b8f02bfce8634c763ab4   \n177   59e396ad6e22a1c22b248f958e1da2bd8af85272   \n697   59e396ad6e22a1c22b248f958e1da2bd8af85272   \n103   36d0d00a3724338ba7937c52a378d085f2172daa   \n966   fc45352eee499d8470cf94c9827922fb745bf815   \n76    fc45352eee499d8470cf94c9827922fb745bf815   \n\n                         certification_contact unit_of_measurement  \\\n192   b70da261fcc84831e3e9620c30a8701540abc200                   m   \n444   0878a7d4b9d35ddbf0fe2ce69a2062cceb45a660                   m   \n1105  0878a7d4b9d35ddbf0fe2ce69a2062cceb45a660                   m   \n447   f6d87a6c04653c569d4911a66f89d5e30ce83b93                   m   \n160   f6d87a6c04653c569d4911a66f89d5e30ce83b93                   m   \n706   8900f0bf1d0b2bafe6807a73562c7677d57eb980                   m   \n113   aa2ff513ffb9c844462a1fb07c599bce7f3bb53d                   m   \n1043  7f521ca403540f81ec99daec7da19c2788393880                   m   \n128   5eb2b7129d9714c43825e44dc3bca9423de209e9                   m   \n1185  7f521ca403540f81ec99daec7da19c2788393880                   m   \n177   0eb4ee5b3f47b20b049548a2fd1e7d4a2b70d0a7                   m   \n697   0eb4ee5b3f47b20b049548a2fd1e7d4a2b70d0a7                   m   \n103   0878a7d4b9d35ddbf0fe2ce69a2062cceb45a660                   m   \n966   de73fc9412358b523d3a641501e542f31d2668b0                   m   \n76    de73fc9412358b523d3a641501e542f31d2668b0                   m   \n\n     altitude_low_meters altitude_high_meters altitude_mean_meters  \n192               1200.0               1200.0               1200.0  \n444               1550.0               1550.0               1550.0  \n1105              1550.0               1550.0               1550.0  \n447               1200.0               1200.0               1200.0  \n160               1680.0               1680.0               1680.0  \n706                982.0                982.0                982.0  \n113               1000.0               1000.0               1000.0  \n1043              1350.0               1350.0               1350.0  \n128               1150.0               1150.0               1150.0  \n1185              1650.0               1650.0               1650.0  \n177                900.0                900.0                900.0  \n697               1350.0               1350.0               1350.0  \n103               1400.0               1400.0               1400.0  \n966               1700.0               1700.0               1700.0  \n76                1770.0               1770.0               1770.0  \n\n[15 rows x 43 columns]",
      "text/html": "<div>\n<style scoped>\n    .dataframe tbody tr th:only-of-type {\n        vertical-align: middle;\n    }\n\n    .dataframe tbody tr th {\n        vertical-align: top;\n    }\n\n    .dataframe thead th {\n        text-align: right;\n    }\n</style>\n<table border=\"1\" class=\"dataframe\">\n  <thead>\n    <tr style=\"text-align: right;\">\n      <th></th>\n      <th>total_cup_points</th>\n      <th>species</th>\n      <th>owner</th>\n      <th>country_of_origin</th>\n      <th>farm_name</th>\n      <th>lot_number</th>\n      <th>mill</th>\n      <th>ico_number</th>\n      <th>company</th>\n      <th>altitude</th>\n      <th>...</th>\n      <th>color</th>\n      <th>category_two_defects</th>\n      <th>expiration</th>\n      <th>certification_body</th>\n      <th>certification_address</th>\n      <th>certification_contact</th>\n      <th>unit_of_measurement</th>\n      <th>altitude_low_meters</th>\n      <th>altitude_high_meters</th>\n      <th>altitude_mean_meters</th>\n    </tr>\n  </thead>\n  <tbody>\n    <tr>\n      <th>192</th>\n      <td>84.25</td>\n      <td>Arabica</td>\n      <td>松澤宏樹 koju matsuzawa</td>\n      <td>Thailand</td>\n      <td>matsuzawa coffee</td>\n      <td>MCCRNX115/16</td>\n      <td>matsuzawa coffee</td>\n      <td>None</td>\n      <td>matsuzawa coffee</td>\n      <td>1200</td>\n      <td>...</td>\n      <td>Green</td>\n      <td>0.0</td>\n      <td>November 2nd, 2017</td>\n      <td>Specialty Coffee Institute of Asia</td>\n      <td>726e4891cf2c9a4848768bd34b668124d12c4224</td>\n      <td>b70da261fcc84831e3e9620c30a8701540abc200</td>\n      <td>m</td>\n      <td>1200.0</td>\n      <td>1200.0</td>\n      <td>1200.0</td>\n    </tr>\n    <tr>\n      <th>444</th>\n      <td>83.17</td>\n      <td>Arabica</td>\n      <td>sunvirtue co., ltd.</td>\n      <td>Vietnam</td>\n      <td>apollo estate</td>\n      <td>Oriental Paris Natural Coffee</td>\n      <td>yes</td>\n      <td>None</td>\n      <td>sunvirtue co., ltd.</td>\n      <td>1550</td>\n      <td>...</td>\n      <td>None</td>\n      <td>0.0</td>\n      <td>May 8th, 2018</td>\n      <td>Specialty Coffee Association</td>\n      <td>36d0d00a3724338ba7937c52a378d085f2172daa</td>\n      <td>0878a7d4b9d35ddbf0fe2ce69a2062cceb45a660</td>\n      <td>m</td>\n      <td>1550.0</td>\n      <td>1550.0</td>\n      <td>1550.0</td>\n    </tr>\n    <tr>\n      <th>1105</th>\n      <td>80.17</td>\n      <td>Arabica</td>\n      <td>sunvirtue co., ltd.</td>\n      <td>Vietnam</td>\n      <td>apollo estate</td>\n      <td>Oriental Paris Civet Coffee</td>\n      <td>yes</td>\n      <td>None</td>\n      <td>sunvirtue co., ltd.</td>\n      <td>1550</td>\n      <td>...</td>\n      <td>None</td>\n      <td>2.0</td>\n      <td>May 9th, 2018</td>\n      <td>Specialty Coffee Association</td>\n      <td>36d0d00a3724338ba7937c52a378d085f2172daa</td>\n      <td>0878a7d4b9d35ddbf0fe2ce69a2062cceb45a660</td>\n      <td>m</td>\n      <td>1550.0</td>\n      <td>1550.0</td>\n      <td>1550.0</td>\n    </tr>\n    <tr>\n      <th>447</th>\n      <td>83.17</td>\n      <td>Arabica</td>\n      <td>yunnan coffee exchange</td>\n      <td>China</td>\n      <td>chen lin</td>\n      <td>YNC-16056</td>\n      <td>mojiang jinggong estate speciality development...</td>\n      <td>None</td>\n      <td>yunnan coffee exchange</td>\n      <td>1200</td>\n      <td>...</td>\n      <td>Green</td>\n      <td>0.0</td>\n      <td>April 6th, 2017</td>\n      <td>Yunnan Coffee Exchange</td>\n      <td>683fa6014608fc10ff681b0435b0b2dbe6df988f</td>\n      <td>f6d87a6c04653c569d4911a66f89d5e30ce83b93</td>\n      <td>m</td>\n      <td>1200.0</td>\n      <td>1200.0</td>\n      <td>1200.0</td>\n    </tr>\n    <tr>\n      <th>160</th>\n      <td>84.50</td>\n      <td>Arabica</td>\n      <td>yunnan coffee exchange</td>\n      <td>China</td>\n      <td>menglian ban’an coffee processing factory</td>\n      <td>YNC-16018</td>\n      <td>menglian ban’an coffee processing factory</td>\n      <td>None</td>\n      <td>yunnan coffee exchange</td>\n      <td>1680</td>\n      <td>...</td>\n      <td>Green</td>\n      <td>1.0</td>\n      <td>April 6th, 2017</td>\n      <td>Yunnan Coffee Exchange</td>\n      <td>683fa6014608fc10ff681b0435b0b2dbe6df988f</td>\n      <td>f6d87a6c04653c569d4911a66f89d5e30ce83b93</td>\n      <td>m</td>\n      <td>1680.0</td>\n      <td>1680.0</td>\n      <td>1680.0</td>\n    </tr>\n    <tr>\n      <th>706</th>\n      <td>82.33</td>\n      <td>Arabica</td>\n      <td>pedro santos e silva</td>\n      <td>Brazil</td>\n      <td>fazenda são pedro</td>\n      <td>0063/17</td>\n      <td>alfenas</td>\n      <td>None</td>\n      <td>olam</td>\n      <td>982</td>\n      <td>...</td>\n      <td>Green</td>\n      <td>11.0</td>\n      <td>February 9th, 2018</td>\n      <td>Brazil Specialty Coffee Association</td>\n      <td>3297cfa4c538e3dd03f72cc4082c54f7999e1f9d</td>\n      <td>8900f0bf1d0b2bafe6807a73562c7677d57eb980</td>\n      <td>m</td>\n      <td>982.0</td>\n      <td>982.0</td>\n      <td>982.0</td>\n    </tr>\n    <tr>\n      <th>113</th>\n      <td>84.92</td>\n      <td>Arabica</td>\n      <td>nucoffee</td>\n      <td>Brazil</td>\n      <td>sitio claro</td>\n      <td>None</td>\n      <td>None</td>\n      <td>002/1251/0066</td>\n      <td>nucoffee</td>\n      <td>1000 m</td>\n      <td>...</td>\n      <td>Green</td>\n      <td>2.0</td>\n      <td>December 2nd, 2012</td>\n      <td>NUCOFFEE</td>\n      <td>567f200bcc17a90070cb952647bf88141ad9c80c</td>\n      <td>aa2ff513ffb9c844462a1fb07c599bce7f3bb53d</td>\n      <td>m</td>\n      <td>1000.0</td>\n      <td>1000.0</td>\n      <td>1000.0</td>\n    </tr>\n    <tr>\n      <th>1043</th>\n      <td>80.75</td>\n      <td>Arabica</td>\n      <td>cadexsa</td>\n      <td>Honduras</td>\n      <td>bethel</td>\n      <td>None</td>\n      <td>cadexsa</td>\n      <td>13-63-318</td>\n      <td>cadexsa</td>\n      <td>1350</td>\n      <td>...</td>\n      <td>Green</td>\n      <td>2.0</td>\n      <td>May 21st, 2016</td>\n      <td>Instituto Hondureño del Café</td>\n      <td>b4660a57e9f8cc613ae5b8f02bfce8634c763ab4</td>\n      <td>7f521ca403540f81ec99daec7da19c2788393880</td>\n      <td>m</td>\n      <td>1350.0</td>\n      <td>1350.0</td>\n      <td>1350.0</td>\n    </tr>\n    <tr>\n      <th>128</th>\n      <td>84.67</td>\n      <td>Arabica</td>\n      <td>rodrigo soto</td>\n      <td>Costa Rica</td>\n      <td>rio jorco</td>\n      <td>Tarrazu</td>\n      <td>rio jorco</td>\n      <td>5-423-0128</td>\n      <td>panamerican coffee trading</td>\n      <td>1150</td>\n      <td>...</td>\n      <td>Blue-Green</td>\n      <td>2.0</td>\n      <td>October 4th, 2017</td>\n      <td>Specialty Coffee Association of Costa Rica</td>\n      <td>8e0b118f3cf3121ab27c5387deacdb7d4d2a60b1</td>\n      <td>5eb2b7129d9714c43825e44dc3bca9423de209e9</td>\n      <td>m</td>\n      <td>1150.0</td>\n      <td>1150.0</td>\n      <td>1150.0</td>\n    </tr>\n    <tr>\n      <th>1185</th>\n      <td>79.17</td>\n      <td>Arabica</td>\n      <td>janny marlith torres</td>\n      <td>Honduras</td>\n      <td>la bendicion</td>\n      <td>Lot # 331</td>\n      <td>dry in solar beds</td>\n      <td>13-154-234</td>\n      <td>coffee planet corporation s.a</td>\n      <td>1650</td>\n      <td>...</td>\n      <td>Green</td>\n      <td>5.0</td>\n      <td>July 27th, 2018</td>\n      <td>Instituto Hondureño del Café</td>\n      <td>b4660a57e9f8cc613ae5b8f02bfce8634c763ab4</td>\n      <td>7f521ca403540f81ec99daec7da19c2788393880</td>\n      <td>m</td>\n      <td>1650.0</td>\n      <td>1650.0</td>\n      <td>1650.0</td>\n    </tr>\n    <tr>\n      <th>177</th>\n      <td>84.42</td>\n      <td>Arabica</td>\n      <td>maria amalia guadalupe toriello elorza</td>\n      <td>Mexico</td>\n      <td>finca la chiripa</td>\n      <td>None</td>\n      <td>finca hamburgo</td>\n      <td>1506545936</td>\n      <td>finca hamburgo</td>\n      <td>900</td>\n      <td>...</td>\n      <td>None</td>\n      <td>4.0</td>\n      <td>June 6th, 2013</td>\n      <td>AMECAFE</td>\n      <td>59e396ad6e22a1c22b248f958e1da2bd8af85272</td>\n      <td>0eb4ee5b3f47b20b049548a2fd1e7d4a2b70d0a7</td>\n      <td>m</td>\n      <td>900.0</td>\n      <td>900.0</td>\n      <td>900.0</td>\n    </tr>\n    <tr>\n      <th>697</th>\n      <td>82.42</td>\n      <td>Arabica</td>\n      <td>jose daniel cobilt castro</td>\n      <td>Mexico</td>\n      <td>cañada fria</td>\n      <td>None</td>\n      <td>huatusco</td>\n      <td>1104558673</td>\n      <td>None</td>\n      <td>1350</td>\n      <td>...</td>\n      <td>Green</td>\n      <td>6.0</td>\n      <td>July 11th, 2013</td>\n      <td>AMECAFE</td>\n      <td>59e396ad6e22a1c22b248f958e1da2bd8af85272</td>\n      <td>0eb4ee5b3f47b20b049548a2fd1e7d4a2b70d0a7</td>\n      <td>m</td>\n      <td>1350.0</td>\n      <td>1350.0</td>\n      <td>1350.0</td>\n    </tr>\n    <tr>\n      <th>103</th>\n      <td>85.00</td>\n      <td>Arabica</td>\n      <td>young kim</td>\n      <td>Mexico</td>\n      <td>kassandra</td>\n      <td>None</td>\n      <td>None</td>\n      <td>016-2484-04</td>\n      <td>None</td>\n      <td>1400 masl</td>\n      <td>...</td>\n      <td>None</td>\n      <td>0.0</td>\n      <td>April 5th, 2012</td>\n      <td>Specialty Coffee Association</td>\n      <td>36d0d00a3724338ba7937c52a378d085f2172daa</td>\n      <td>0878a7d4b9d35ddbf0fe2ce69a2062cceb45a660</td>\n      <td>m</td>\n      <td>1400.0</td>\n      <td>1400.0</td>\n      <td>1400.0</td>\n    </tr>\n    <tr>\n      <th>966</th>\n      <td>81.25</td>\n      <td>Arabica</td>\n      <td>essencecoffee</td>\n      <td>Guatemala</td>\n      <td>el injerto s.a.</td>\n      <td>None</td>\n      <td>el injerto s.a.</td>\n      <td>11999144</td>\n      <td>essence coffee</td>\n      <td>1700m</td>\n      <td>...</td>\n      <td>Bluish-Green</td>\n      <td>2.0</td>\n      <td>March 20th, 2016</td>\n      <td>Blossom Valley International</td>\n      <td>fc45352eee499d8470cf94c9827922fb745bf815</td>\n      <td>de73fc9412358b523d3a641501e542f31d2668b0</td>\n      <td>m</td>\n      <td>1700.0</td>\n      <td>1700.0</td>\n      <td>1700.0</td>\n    </tr>\n    <tr>\n      <th>76</th>\n      <td>85.33</td>\n      <td>Arabica</td>\n      <td>essencecoffee</td>\n      <td>Guatemala</td>\n      <td>el injerto s.a.</td>\n      <td>None</td>\n      <td>el injerto s.a.</td>\n      <td>11999144</td>\n      <td>essence coffee</td>\n      <td>1770</td>\n      <td>...</td>\n      <td>Green</td>\n      <td>1.0</td>\n      <td>May 22nd, 2016</td>\n      <td>Blossom Valley International</td>\n      <td>fc45352eee499d8470cf94c9827922fb745bf815</td>\n      <td>de73fc9412358b523d3a641501e542f31d2668b0</td>\n      <td>m</td>\n      <td>1770.0</td>\n      <td>1770.0</td>\n      <td>1770.0</td>\n    </tr>\n  </tbody>\n</table>\n<p>15 rows × 43 columns</p>\n</div>"
     },
     "execution_count": 139,
     "metadata": {},
     "output_type": "execute_result"
    }
   ],
   "source": [
    "coffee_rating_cluster.groupby(\"variety\").sample(n=5,random_state=2021)"
   ],
   "metadata": {
    "collapsed": false,
    "pycharm": {
     "name": "#%%\n"
    }
   }
  },
  {
   "metadata": {
    "pycharm": {
     "name": "#%% md\n"
    }
   },
   "outputs": [],
   "source": [
    "### 6. Stage 2 output\n",
    "\n",
    "Here's the first few columns of the result. Notice that there are the fifteen rows, which we'd expect from sampling five rows from three varieties."
   ],
   "execution_count": null,
   "cell_type": "markdown"
  },
  {
   "metadata": {
    "pycharm": {
     "name": "#%% md\n"
    }
   },
   "outputs": [],
   "source": [
    "### 7. Multistage sampling\n",
    "\n",
    "Note that we had two stages in the cluster sampling. We randomly sampled the subgroups to include, then we randomly sampled rows from those subgroups. Cluster sampling is a special case of multistage sampling. It's possible to use more than two stages. A common example is national surveys, which can include several levels of administrative regions, like states, counties, cities, and neighborhoods."
   ],
   "execution_count": null,
   "cell_type": "markdown"
  },
  {
   "metadata": {
    "pycharm": {
     "name": "#%% md\n"
    }
   },
   "outputs": [],
   "source": [
    "### 8. Let's practice!\n",
    "\n",
    "Time to sample some clusters."
   ],
   "execution_count": null,
   "cell_type": "markdown"
  },
  {
   "metadata": {
    "pycharm": {
     "name": "#%% md\n"
    }
   },
   "outputs": [],
   "source": [
    "## Cluster sampling\n",
    "\n",
    "<p>Now that you know when to use cluster sampling, it's time to put it into action. In this exercise, you'll explore the <code>JobRole</code> column of the attrition dataset. You can think of each job role as a subgroup of the whole population of employees.</p>\n",
    "<p><code>attrition_pop</code> is available; <code>pandas</code> is loaded with its usual alias, and the <code>random</code> package is available. A seed of <code>19790801</code> has also been set with <code>random.seed()</code>.</p>"
   ],
   "execution_count": null,
   "cell_type": "markdown"
  },
  {
   "metadata": {
    "pycharm": {
     "name": "#%% md\n"
    }
   },
   "outputs": [],
   "source": [
    "Create a list of unique <code>JobRole</code> values from <code>attrition_pop</code>, and assign to <code>job_roles_pop</code>."
   ],
   "execution_count": null,
   "cell_type": "markdown"
  },
  {
   "cell_type": "code",
   "execution_count": 142,
   "outputs": [],
   "source": [
    "random.seed(19790801)\n",
    "# Create a list of unique JobRole values\n",
    "job_roles_pop = list(attrition_pop[\"JobRole\"].unique())"
   ],
   "metadata": {
    "collapsed": false,
    "pycharm": {
     "name": "#%%\n"
    }
   }
  },
  {
   "cell_type": "markdown",
   "source": [
    "Randomly sample four <code>JobRole</code> values from <code>job_roles_pop</code>."
   ],
   "metadata": {
    "collapsed": false,
    "pycharm": {
     "name": "#%% md\n"
    }
   }
  },
  {
   "cell_type": "code",
   "execution_count": 143,
   "outputs": [
    {
     "name": "stdout",
     "output_type": "stream",
     "text": [
      "['Research_Director', 'Research_Scientist', 'Human_Resources', 'Manager']\n"
     ]
    }
   ],
   "source": [
    "\n",
    "# Randomly sample four JobRole values\n",
    "job_roles_samp = random.sample(job_roles_pop,k=4)\n",
    "\n",
    "# Print the result\n",
    "print(job_roles_samp)"
   ],
   "metadata": {
    "collapsed": false,
    "pycharm": {
     "name": "#%%\n"
    }
   }
  },
  {
   "cell_type": "code",
   "execution_count": 144,
   "outputs": [
    {
     "name": "stdout",
     "output_type": "stream",
     "text": [
      "      Age  Attrition BusinessTravel  DailyRate            Department  \\\n",
      "0      21        0.0  Travel_Rarely        391  Research_Development   \n",
      "5      27        0.0     Non-Travel        443  Research_Development   \n",
      "6      18        0.0     Non-Travel        287  Research_Development   \n",
      "10     18        0.0     Non-Travel       1431  Research_Development   \n",
      "17     31        0.0  Travel_Rarely       1082  Research_Development   \n",
      "...   ...        ...            ...        ...                   ...   \n",
      "1462   54        0.0  Travel_Rarely        584  Research_Development   \n",
      "1464   55        0.0  Travel_Rarely        452  Research_Development   \n",
      "1465   55        0.0  Travel_Rarely       1117                 Sales   \n",
      "1466   58        0.0     Non-Travel        350                 Sales   \n",
      "1469   58        1.0  Travel_Rarely        286  Research_Development   \n",
      "\n",
      "      DistanceFromHome Education EducationField EnvironmentSatisfaction  \\\n",
      "0                   15   College  Life_Sciences                    High   \n",
      "5                    3  Bachelor        Medical               Very_High   \n",
      "6                    5   College  Life_Sciences                  Medium   \n",
      "10                  14  Bachelor        Medical                  Medium   \n",
      "17                   1    Master        Medical                    High   \n",
      "...                ...       ...            ...                     ...   \n",
      "1462                22    Doctor        Medical                  Medium   \n",
      "1464                 1  Bachelor        Medical               Very_High   \n",
      "1465                18    Doctor  Life_Sciences                     Low   \n",
      "1466                 2  Bachelor        Medical                  Medium   \n",
      "1469                 2    Master  Life_Sciences               Very_High   \n",
      "\n",
      "      Gender  ...  PerformanceRating RelationshipSatisfaction  \\\n",
      "0       Male  ...          Excellent                Very_High   \n",
      "5       Male  ...          Excellent                     High   \n",
      "6       Male  ...          Excellent                Very_High   \n",
      "10    Female  ...          Excellent                     High   \n",
      "17      Male  ...          Excellent                   Medium   \n",
      "...      ...  ...                ...                      ...   \n",
      "1462  Female  ...        Outstanding                     High   \n",
      "1464    Male  ...          Excellent                     High   \n",
      "1465  Female  ...        Outstanding                Very_High   \n",
      "1466    Male  ...        Outstanding                Very_High   \n",
      "1469    Male  ...          Excellent                Very_High   \n",
      "\n",
      "      StockOptionLevel TotalWorkingYears TrainingTimesLastYear  \\\n",
      "0                    0                 0                     6   \n",
      "5                    3                 0                     6   \n",
      "6                    0                 0                     2   \n",
      "10                   0                 0                     4   \n",
      "17                   0                 1                     4   \n",
      "...                ...               ...                   ...   \n",
      "1462                 1                36                     6   \n",
      "1464                 0                37                     2   \n",
      "1465                 0                37                     2   \n",
      "1466                 1                37                     0   \n",
      "1469                 0                40                     2   \n",
      "\n",
      "     WorkLifeBalance  YearsAtCompany  YearsInCurrentRole  \\\n",
      "0             Better               0                   0   \n",
      "5               Good               0                   0   \n",
      "6             Better               0                   0   \n",
      "10               Bad               0                   0   \n",
      "17            Better               1                   1   \n",
      "...              ...             ...                 ...   \n",
      "1462          Better              10                   8   \n",
      "1464          Better              36                  10   \n",
      "1465          Better              10                   9   \n",
      "1466            Good              16                   9   \n",
      "1469          Better              31                  15   \n",
      "\n",
      "      YearsSinceLastPromotion YearsWithCurrManager  \n",
      "0                           0                    0  \n",
      "5                           0                    0  \n",
      "6                           0                    0  \n",
      "10                          0                    0  \n",
      "17                          1                    0  \n",
      "...                       ...                  ...  \n",
      "1462                        4                    7  \n",
      "1464                        4                   13  \n",
      "1465                        7                    7  \n",
      "1466                       14                   14  \n",
      "1469                       13                    8  \n",
      "\n",
      "[526 rows x 31 columns]\n"
     ]
    }
   ],
   "source": [
    "jobrole_condition = attrition_pop[\"JobRole\"].isin(job_roles_samp)\n",
    "attrition_filtered = attrition_pop[jobrole_condition]\n",
    "print(attrition_filtered)"
   ],
   "metadata": {
    "collapsed": false,
    "pycharm": {
     "name": "#%%\n"
    }
   }
  },
  {
   "cell_type": "code",
   "execution_count": 150,
   "outputs": [],
   "source": [
    "attrition_filtered = attrition_filtered.assign(JobRole = attrition_filtered[\"JobRole\"].cat.remove_unused_categories())\n",
    "\n"
   ],
   "metadata": {
    "collapsed": false,
    "pycharm": {
     "name": "#%%\n"
    }
   }
  },
  {
   "cell_type": "code",
   "execution_count": 151,
   "outputs": [
    {
     "data": {
      "text/plain": "Research_Scientist    292\nManager               102\nResearch_Director      80\nHuman_Resources        52\nName: JobRole, dtype: int64"
     },
     "execution_count": 151,
     "metadata": {},
     "output_type": "execute_result"
    }
   ],
   "source": [
    "attrition_filtered.JobRole.value_counts()"
   ],
   "metadata": {
    "collapsed": false,
    "pycharm": {
     "name": "#%%\n"
    }
   }
  },
  {
   "cell_type": "code",
   "execution_count": 152,
   "outputs": [
    {
     "name": "stdout",
     "output_type": "stream",
     "text": [
      "      Age  Attrition     BusinessTravel  DailyRate            Department  \\\n",
      "1348   44        1.0      Travel_Rarely       1376       Human_Resources   \n",
      "886    41        0.0         Non-Travel        552       Human_Resources   \n",
      "983    39        0.0      Travel_Rarely        141       Human_Resources   \n",
      "88     27        1.0  Travel_Frequently       1337       Human_Resources   \n",
      "189    34        0.0      Travel_Rarely        829       Human_Resources   \n",
      "160    24        0.0  Travel_Frequently        897       Human_Resources   \n",
      "839    46        0.0      Travel_Rarely        991       Human_Resources   \n",
      "966    30        0.0      Travel_Rarely       1240       Human_Resources   \n",
      "162    28        0.0         Non-Travel        280       Human_Resources   \n",
      "1231   37        0.0      Travel_Rarely       1239       Human_Resources   \n",
      "1375   44        0.0      Travel_Rarely       1315  Research_Development   \n",
      "1462   54        0.0      Travel_Rarely        584  Research_Development   \n",
      "1316   45        0.0  Travel_Frequently        364  Research_Development   \n",
      "1356   48        0.0  Travel_Frequently        117  Research_Development   \n",
      "1387   48        0.0         Non-Travel       1262  Research_Development   \n",
      "1321   54        0.0         Non-Travel        142       Human_Resources   \n",
      "1266   50        0.0      Travel_Rarely       1452  Research_Development   \n",
      "1330   46        0.0      Travel_Rarely        406                 Sales   \n",
      "1052   59        0.0      Travel_Rarely       1089                 Sales   \n",
      "1449   52        0.0      Travel_Rarely        699  Research_Development   \n",
      "1439   58        0.0      Travel_Rarely       1055  Research_Development   \n",
      "1339   58        0.0  Travel_Frequently       1216  Research_Development   \n",
      "1426   49        0.0      Travel_Rarely       1245  Research_Development   \n",
      "1415   48        0.0      Travel_Rarely       1224  Research_Development   \n",
      "1322   51        0.0      Travel_Rarely        684  Research_Development   \n",
      "1284   40        0.0      Travel_Rarely       1308  Research_Development   \n",
      "1149   37        0.0      Travel_Rarely        161  Research_Development   \n",
      "1126   42        0.0      Travel_Rarely        810  Research_Development   \n",
      "1374   46        0.0      Travel_Rarely       1009  Research_Development   \n",
      "1050   33        0.0      Travel_Rarely        213  Research_Development   \n",
      "86     26        0.0      Travel_Rarely        482  Research_Development   \n",
      "930    52        1.0      Travel_Rarely        723  Research_Development   \n",
      "860    37        0.0      Travel_Rarely        674  Research_Development   \n",
      "36     20        1.0      Travel_Rarely       1362  Research_Development   \n",
      "997    32        0.0      Travel_Rarely        824  Research_Development   \n",
      "1358   45        0.0      Travel_Rarely       1339  Research_Development   \n",
      "993    41        0.0  Travel_Frequently       1200  Research_Development   \n",
      "421    34        0.0      Travel_Rarely        181  Research_Development   \n",
      "789    28        1.0      Travel_Rarely        654  Research_Development   \n",
      "94     36        1.0      Travel_Rarely        318  Research_Development   \n",
      "\n",
      "      DistanceFromHome      Education    EducationField  \\\n",
      "1348                 1        College           Medical   \n",
      "886                  4       Bachelor   Human_Resources   \n",
      "983                  3       Bachelor   Human_Resources   \n",
      "88                  22       Bachelor   Human_Resources   \n",
      "189                  3        College   Human_Resources   \n",
      "160                 10       Bachelor           Medical   \n",
      "839                  1        College     Life_Sciences   \n",
      "966                  9       Bachelor   Human_Resources   \n",
      "162                  1        College     Life_Sciences   \n",
      "1231                 8        College             Other   \n",
      "1375                 3         Master             Other   \n",
      "1462                22         Doctor           Medical   \n",
      "1316                25       Bachelor           Medical   \n",
      "1356                22       Bachelor           Medical   \n",
      "1387                 1         Master           Medical   \n",
      "1321                26       Bachelor   Human_Resources   \n",
      "1266                11       Bachelor     Life_Sciences   \n",
      "1330                 3  Below_College         Marketing   \n",
      "1052                 1        College  Technical_Degree   \n",
      "1449                 1         Master     Life_Sciences   \n",
      "1439                 1       Bachelor           Medical   \n",
      "1339                15         Master     Life_Sciences   \n",
      "1426                18         Master     Life_Sciences   \n",
      "1415                10       Bachelor     Life_Sciences   \n",
      "1322                 6       Bachelor     Life_Sciences   \n",
      "1284                14       Bachelor           Medical   \n",
      "1149                10       Bachelor     Life_Sciences   \n",
      "1126                23         Doctor     Life_Sciences   \n",
      "1374                 2       Bachelor     Life_Sciences   \n",
      "1050                 7       Bachelor           Medical   \n",
      "86                   1        College     Life_Sciences   \n",
      "930                  8         Master           Medical   \n",
      "860                 13       Bachelor           Medical   \n",
      "36                  10  Below_College           Medical   \n",
      "997                  5        College     Life_Sciences   \n",
      "1358                 7       Bachelor     Life_Sciences   \n",
      "993                 22       Bachelor     Life_Sciences   \n",
      "421                  2         Master           Medical   \n",
      "789                  1        College     Life_Sciences   \n",
      "94                   9       Bachelor           Medical   \n",
      "\n",
      "     EnvironmentSatisfaction  Gender  ...  PerformanceRating  \\\n",
      "1348                  Medium    Male  ...          Excellent   \n",
      "886                     High    Male  ...          Excellent   \n",
      "983                     High  Female  ...          Excellent   \n",
      "88                       Low  Female  ...          Excellent   \n",
      "189                     High    Male  ...          Excellent   \n",
      "160                      Low    Male  ...          Excellent   \n",
      "839                Very_High  Female  ...          Excellent   \n",
      "966                     High    Male  ...          Excellent   \n",
      "162                     High    Male  ...          Excellent   \n",
      "1231                    High    Male  ...          Excellent   \n",
      "1375               Very_High    Male  ...          Excellent   \n",
      "1462                  Medium  Female  ...        Outstanding   \n",
      "1316                  Medium  Female  ...        Outstanding   \n",
      "1356               Very_High  Female  ...          Excellent   \n",
      "1387                     Low    Male  ...        Outstanding   \n",
      "1321               Very_High  Female  ...          Excellent   \n",
      "1266                    High  Female  ...          Excellent   \n",
      "1330                     Low    Male  ...          Excellent   \n",
      "1052                  Medium    Male  ...          Excellent   \n",
      "1449                    High    Male  ...          Excellent   \n",
      "1439               Very_High  Female  ...        Outstanding   \n",
      "1339                     Low    Male  ...          Excellent   \n",
      "1426               Very_High    Male  ...          Excellent   \n",
      "1415               Very_High    Male  ...          Excellent   \n",
      "1322                     Low    Male  ...          Excellent   \n",
      "1284                    High    Male  ...          Excellent   \n",
      "1149                    High  Female  ...        Outstanding   \n",
      "1126                     Low  Female  ...          Excellent   \n",
      "1374                     Low    Male  ...          Excellent   \n",
      "1050                    High    Male  ...          Excellent   \n",
      "86                    Medium  Female  ...          Excellent   \n",
      "930                     High    Male  ...          Excellent   \n",
      "860                      Low    Male  ...          Excellent   \n",
      "36                 Very_High    Male  ...          Excellent   \n",
      "997                Very_High  Female  ...          Excellent   \n",
      "1358                  Medium    Male  ...          Excellent   \n",
      "993                Very_High  Female  ...          Excellent   \n",
      "421                Very_High    Male  ...          Excellent   \n",
      "789                      Low  Female  ...          Excellent   \n",
      "94                 Very_High    Male  ...          Excellent   \n",
      "\n",
      "     RelationshipSatisfaction  StockOptionLevel TotalWorkingYears  \\\n",
      "1348                Very_High                 1                24   \n",
      "886                    Medium                 1                10   \n",
      "983                      High                 1                12   \n",
      "88                        Low                 0                 1   \n",
      "189                      High                 1                 4   \n",
      "160                 Very_High                 1                 3   \n",
      "839                      High                 0                10   \n",
      "966                 Very_High                 0                12   \n",
      "162                    Medium                 1                 3   \n",
      "1231                     High                 0                19   \n",
      "1375                      Low                 1                26   \n",
      "1462                     High                 1                36   \n",
      "1316                     High                 0                22   \n",
      "1356                   Medium                 1                24   \n",
      "1387                     High                 0                27   \n",
      "1321                     High                 0                23   \n",
      "1266                   Medium                 0                21   \n",
      "1330                Very_High                 1                23   \n",
      "1052                     High                 1                14   \n",
      "1449                      Low                 1                34   \n",
      "1439                     High                 1                32   \n",
      "1339                   Medium                 0                23   \n",
      "1426                     High                 1                31   \n",
      "1415                Very_High                 0                29   \n",
      "1322                     High                 0                23   \n",
      "1284                      Low                 0                21   \n",
      "1149                      Low                 1                16   \n",
      "1126                   Medium                 0                16   \n",
      "1374                     High                 0                26   \n",
      "1050                Very_High                 0                14   \n",
      "86                       High                 1                 1   \n",
      "930                       Low                 0                11   \n",
      "860                       Low                 0                10   \n",
      "36                  Very_High                 0                 1   \n",
      "997                       Low                 1                12   \n",
      "1358                     High                 1                25   \n",
      "993                       Low                 2                12   \n",
      "421                       Low                 3                 6   \n",
      "789                 Very_High                 0                10   \n",
      "94                        Low                 1                 2   \n",
      "\n",
      "     TrainingTimesLastYear WorkLifeBalance  YearsAtCompany  \\\n",
      "1348                     1          Better              20   \n",
      "886                      4          Better               3   \n",
      "983                      3             Bad               8   \n",
      "88                       2          Better               1   \n",
      "189                      1             Bad               3   \n",
      "160                      2          Better               2   \n",
      "839                      3            Best               7   \n",
      "966                      2             Bad              11   \n",
      "162                      2          Better               3   \n",
      "1231                     4            Good              10   \n",
      "1375                     2            Best               2   \n",
      "1462                     6          Better              10   \n",
      "1316                     4          Better               0   \n",
      "1356                     3          Better              22   \n",
      "1387                     3            Good               5   \n",
      "1321                     3          Better               5   \n",
      "1266                     5          Better               5   \n",
      "1330                     3          Better              12   \n",
      "1052                     1             Bad               6   \n",
      "1449                     5          Better              33   \n",
      "1439                     3          Better               9   \n",
      "1339                     3          Better               2   \n",
      "1426                     5          Better              31   \n",
      "1415                     3          Better              22   \n",
      "1322                     5          Better              20   \n",
      "1284                     2            Best              20   \n",
      "1149                     2          Better              16   \n",
      "1126                     2          Better               1   \n",
      "1374                     2             Bad               3   \n",
      "1050                     3            Best              13   \n",
      "86                       3            Good               1   \n",
      "930                      3            Good               8   \n",
      "860                      2          Better              10   \n",
      "36                       5          Better               1   \n",
      "997                      2          Better               7   \n",
      "1358                     2          Better               1   \n",
      "993                      4            Good               6   \n",
      "421                      3          Better               5   \n",
      "789                      4          Better               7   \n",
      "94                       0            Good               1   \n",
      "\n",
      "      YearsInCurrentRole  YearsSinceLastPromotion YearsWithCurrManager  \n",
      "1348                   6                        3                    6  \n",
      "886                    2                        1                    2  \n",
      "983                    3                        3                    6  \n",
      "88                     0                        0                    0  \n",
      "189                    2                        0                    2  \n",
      "160                    2                        2                    1  \n",
      "839                    6                        5                    7  \n",
      "966                    9                        4                    7  \n",
      "162                    2                        2                    2  \n",
      "1231                   0                        4                    7  \n",
      "1375                   2                        0                    1  \n",
      "1462                   8                        4                    7  \n",
      "1316                   0                        0                    0  \n",
      "1356                  17                        4                    7  \n",
      "1387                   4                        2                    1  \n",
      "1321                   3                        4                    4  \n",
      "1266                   4                        4                    4  \n",
      "1330                   9                        4                    9  \n",
      "1052                   4                        0                    4  \n",
      "1449                  18                       11                    9  \n",
      "1439                   8                        1                    5  \n",
      "1339                   2                        2                    2  \n",
      "1426                   9                        0                    9  \n",
      "1415                  10                       12                    9  \n",
      "1322                  18                       15                   15  \n",
      "1284                   7                        4                    9  \n",
      "1149                  11                        6                    8  \n",
      "1126                   0                        0                    0  \n",
      "1374                   2                        0                    1  \n",
      "1050                   9                        3                    7  \n",
      "86                     0                        1                    0  \n",
      "930                    2                        7                    7  \n",
      "860                    8                        3                    7  \n",
      "36                     0                        1                    1  \n",
      "997                    1                        2                    5  \n",
      "1358                   0                        0                    0  \n",
      "993                    2                        3                    3  \n",
      "421                    0                        1                    2  \n",
      "789                    7                        3                    7  \n",
      "94                     0                        0                    0  \n",
      "\n",
      "[40 rows x 31 columns]\n"
     ]
    }
   ],
   "source": [
    "\n",
    "# Randomly sample 10 employees from each sampled job role\n",
    "attrition_clust = attrition_filtered.groupby(\"JobRole\").sample(n=10,random_state=2022)\n",
    "\n",
    "\n",
    "# Print the sample\n",
    "print(attrition_clust)"
   ],
   "metadata": {
    "collapsed": false,
    "pycharm": {
     "name": "#%%\n"
    }
   }
  },
  {
   "metadata": {
    "pycharm": {
     "name": "#%% md\n"
    }
   },
   "outputs": [],
   "source": [
    "## Straight to the point (estimate)"
   ],
   "execution_count": null,
   "cell_type": "markdown"
  },
  {
   "metadata": {
    "pycharm": {
     "name": "#%% md\n"
    }
   },
   "outputs": [],
   "source": [
    "### 1. Straight to the point (estimate)\n",
    "\n",
    "Let's review the various sampling techniques we learned about."
   ],
   "execution_count": null,
   "cell_type": "markdown"
  },
  {
   "metadata": {
    "pycharm": {
     "name": "#%% md\n"
    }
   },
   "outputs": [],
   "source": [
    "### 2. Review of sampling techniques - setup\n",
    "\n",
    "For convenience, we'll stick to the six countries with the most coffee varieties that we used before. This corresponds to eight hundred and eighty rows and eight columns, retrieved using the dot-shape attribute."
   ],
   "execution_count": null,
   "cell_type": "markdown"
  },
  {
   "cell_type": "code",
   "execution_count": 167,
   "outputs": [
    {
     "name": "stdout",
     "output_type": "stream",
     "text": [
      "['Mexico', 'Colombia', 'Guatemala', 'Brazil', 'Taiwan', 'United States (Hawaii)']\n"
     ]
    }
   ],
   "source": [
    "top_counted_countries = list(top_counts.index.values[:6])\n",
    "print(top_counted_countries)"
   ],
   "metadata": {
    "collapsed": false,
    "pycharm": {
     "name": "#%%\n"
    }
   }
  },
  {
   "cell_type": "code",
   "execution_count": 155,
   "outputs": [
    {
     "data": {
      "text/plain": "(880, 43)"
     },
     "execution_count": 155,
     "metadata": {},
     "output_type": "execute_result"
    }
   ],
   "source": [
    "coffee_rating_top.shape"
   ],
   "metadata": {
    "collapsed": false,
    "pycharm": {
     "name": "#%%\n"
    }
   }
  },
  {
   "metadata": {
    "pycharm": {
     "name": "#%% md\n"
    }
   },
   "outputs": [],
   "source": [
    "### 3. Review of simple random sampling\n",
    "\n",
    "Simple random sampling uses dot-sample with either n or frac set to determine how many rows to pseudo-randomly choose, given a seed value set with random_state. The simple random sample returns two hundred and ninety-three rows because we specified frac as one-third, and one-third of eight hundred and eighty is just over two hundred and ninety-three."
   ],
   "execution_count": null,
   "cell_type": "markdown"
  },
  {
   "cell_type": "code",
   "execution_count": 156,
   "outputs": [
    {
     "data": {
      "text/plain": "(293, 43)"
     },
     "execution_count": 156,
     "metadata": {},
     "output_type": "execute_result"
    }
   ],
   "source": [
    "coffee_rating_srs  = coffee_rating_top.sample(frac=1/3,random_state=2021)\n",
    "coffee_rating_srs.shape"
   ],
   "metadata": {
    "collapsed": false,
    "pycharm": {
     "name": "#%%\n"
    }
   }
  },
  {
   "metadata": {
    "pycharm": {
     "name": "#%% md\n"
    }
   },
   "outputs": [],
   "source": [
    "### 4. Review of stratified sampling\n",
    "\n",
    "Stratified sampling groups by the country subgroup before performing simple random sampling on each subgroup. Given each of these top countries have quite a few rows, stratifying produces the same number of rows as the simple random sample."
   ],
   "execution_count": null,
   "cell_type": "markdown"
  },
  {
   "cell_type": "code",
   "execution_count": 157,
   "outputs": [
    {
     "data": {
      "text/plain": "(293, 43)"
     },
     "execution_count": 157,
     "metadata": {},
     "output_type": "execute_result"
    }
   ],
   "source": [
    "coffee_rating_strat = coffee_rating_top.groupby(\"country_of_origin\").sample(frac=1/3,random_state=2021)\n",
    "coffee_rating_strat.shape"
   ],
   "metadata": {
    "collapsed": false,
    "pycharm": {
     "name": "#%%\n"
    }
   }
  },
  {
   "metadata": {
    "pycharm": {
     "name": "#%% md\n"
    }
   },
   "outputs": [],
   "source": [
    "### 5. Review of cluster sampling\n",
    "\n",
    "In the cluster sample, we've used two out of six countries to roughly mimic frac equals one-third from the other sample types. Setting n equal to one-sixth of the total number of rows gives roughly equal sample sizes in each of the two subgroups. Using dot-shape again, we see that this cluster sample has close to the same number of rows: two-hundred-ninety-two compared to two-hundred-ninety-three for the other sample types."
   ],
   "execution_count": null,
   "cell_type": "markdown"
  },
  {
   "cell_type": "code",
   "execution_count": 174,
   "outputs": [],
   "source": [
    "top_countries_sample = random.sample(top_counted_countries,k=2)\n",
    "top_condition = coffee_rating_top[\"country_of_origin\"].isin(top_countries_sample)\n",
    "coffee_rating_cluster = coffee_rating_top[top_condition]\n",
    "coffee_rating_cluster = coffee_rating_cluster.groupby(\"country_of_origin\").sample(n=len(coffee_rating_top) // 6)"
   ],
   "metadata": {
    "collapsed": false,
    "pycharm": {
     "name": "#%%\n"
    }
   }
  },
  {
   "cell_type": "code",
   "execution_count": 176,
   "outputs": [
    {
     "data": {
      "text/plain": "(292, 43)"
     },
     "execution_count": 176,
     "metadata": {},
     "output_type": "execute_result"
    }
   ],
   "source": [
    "coffee_rating_cluster.shape"
   ],
   "metadata": {
    "collapsed": false,
    "pycharm": {
     "name": "#%%\n"
    }
   }
  },
  {
   "metadata": {
    "pycharm": {
     "name": "#%% md\n"
    }
   },
   "outputs": [],
   "source": [
    "### 6. Calculating mean cup points\n",
    "\n",
    "Let's calculate a population parameter, the mean of the total cup points. When the population parameter is the mean of a field, it's often called the population mean. Remember that in real-life scenarios, we typically wouldn't know what the population mean is. Since we have it here, though, we can use this value of eighty-one-point-nine as a gold standard to measure against. Now we'll calculate the same value using each of the sampling techniques we've discussed. These are point estimates of the mean, often called sample means. The simple and stratified sample means are really close to the population mean. Cluster sampling isn't quite as close, but that's typical. Cluster sampling is designed to give us an answer that's almost as good while using less data."
   ],
   "execution_count": null,
   "cell_type": "markdown"
  },
  {
   "cell_type": "code",
   "execution_count": 181,
   "outputs": [
    {
     "data": {
      "text/plain": "                            0\nPopulation          81.947000\nSimpleRandomSample  81.913311\nStratifiedSample    81.925666\nClusterSample       82.389692",
      "text/html": "<div>\n<style scoped>\n    .dataframe tbody tr th:only-of-type {\n        vertical-align: middle;\n    }\n\n    .dataframe tbody tr th {\n        vertical-align: top;\n    }\n\n    .dataframe thead th {\n        text-align: right;\n    }\n</style>\n<table border=\"1\" class=\"dataframe\">\n  <thead>\n    <tr style=\"text-align: right;\">\n      <th></th>\n      <th>0</th>\n    </tr>\n  </thead>\n  <tbody>\n    <tr>\n      <th>Population</th>\n      <td>81.947000</td>\n    </tr>\n    <tr>\n      <th>SimpleRandomSample</th>\n      <td>81.913311</td>\n    </tr>\n    <tr>\n      <th>StratifiedSample</th>\n      <td>81.925666</td>\n    </tr>\n    <tr>\n      <th>ClusterSample</th>\n      <td>82.389692</td>\n    </tr>\n  </tbody>\n</table>\n</div>"
     },
     "execution_count": 181,
     "metadata": {},
     "output_type": "execute_result"
    }
   ],
   "source": [
    "mean_cup_points = pd.DataFrame()\n",
    "mean_cup_points = mean_cup_points.assign(Population = [coffee_rating_top[\"total_cup_points\"].mean()],\n",
    "                                         SimpleRandomSample = [coffee_rating_srs[\"total_cup_points\"].mean()],\n",
    "                                         StratifiedSample = [coffee_rating_strat[\"total_cup_points\"].mean()],\n",
    "                                         ClusterSample = [coffee_rating_cluster[\"total_cup_points\"].mean()])\n",
    "mean_cup_points.T"
   ],
   "metadata": {
    "collapsed": false,
    "pycharm": {
     "name": "#%%\n"
    }
   }
  },
  {
   "metadata": {
    "pycharm": {
     "name": "#%% md\n"
    }
   },
   "outputs": [],
   "source": [
    "### 7. Mean cup points by country: simple random\n",
    "\n",
    "Here's a slightly more complicated calculation of the mean total cup points for each country. We group by country before calculating the mean to return six numbers. So how do the numbers from the simple random sample compare? The sample means are pretty close to the population means."
   ],
   "execution_count": null,
   "cell_type": "markdown"
  },
  {
   "cell_type": "code",
   "execution_count": 192,
   "outputs": [
    {
     "data": {
      "text/plain": "                        Population  SimpleRandomSample  StratifiedSample  \\\ncountry_of_origin                                                          \nBrazil                   82.405909           82.251875         82.499773   \nColombia                 83.106557           82.961014         83.288197   \nGuatemala                81.846575           81.392917         81.727667   \nMexico                   80.890085           81.152000         80.994684   \nTaiwan                   82.001333           81.957391         81.846800   \nUnited States (Hawaii)   81.820411           81.766400         81.051667   \n\n                        ClusterSample  \ncountry_of_origin                      \nBrazil                            NaN  \nColombia                    83.110137  \nGuatemala                   81.669247  \nMexico                            NaN  \nTaiwan                            NaN  \nUnited States (Hawaii)            NaN  ",
      "text/html": "<div>\n<style scoped>\n    .dataframe tbody tr th:only-of-type {\n        vertical-align: middle;\n    }\n\n    .dataframe tbody tr th {\n        vertical-align: top;\n    }\n\n    .dataframe thead th {\n        text-align: right;\n    }\n</style>\n<table border=\"1\" class=\"dataframe\">\n  <thead>\n    <tr style=\"text-align: right;\">\n      <th></th>\n      <th>Population</th>\n      <th>SimpleRandomSample</th>\n      <th>StratifiedSample</th>\n      <th>ClusterSample</th>\n    </tr>\n    <tr>\n      <th>country_of_origin</th>\n      <th></th>\n      <th></th>\n      <th></th>\n      <th></th>\n    </tr>\n  </thead>\n  <tbody>\n    <tr>\n      <th>Brazil</th>\n      <td>82.405909</td>\n      <td>82.251875</td>\n      <td>82.499773</td>\n      <td>NaN</td>\n    </tr>\n    <tr>\n      <th>Colombia</th>\n      <td>83.106557</td>\n      <td>82.961014</td>\n      <td>83.288197</td>\n      <td>83.110137</td>\n    </tr>\n    <tr>\n      <th>Guatemala</th>\n      <td>81.846575</td>\n      <td>81.392917</td>\n      <td>81.727667</td>\n      <td>81.669247</td>\n    </tr>\n    <tr>\n      <th>Mexico</th>\n      <td>80.890085</td>\n      <td>81.152000</td>\n      <td>80.994684</td>\n      <td>NaN</td>\n    </tr>\n    <tr>\n      <th>Taiwan</th>\n      <td>82.001333</td>\n      <td>81.957391</td>\n      <td>81.846800</td>\n      <td>NaN</td>\n    </tr>\n    <tr>\n      <th>United States (Hawaii)</th>\n      <td>81.820411</td>\n      <td>81.766400</td>\n      <td>81.051667</td>\n      <td>NaN</td>\n    </tr>\n  </tbody>\n</table>\n</div>"
     },
     "execution_count": 192,
     "metadata": {},
     "output_type": "execute_result"
    }
   ],
   "source": [
    "mean_cup_points_by_country = pd.DataFrame()\n",
    "mean_cup_points_by_country = mean_cup_points_by_country.assign(Population = coffee_rating_top.groupby(\"country_of_origin\")[\"total_cup_points\"].mean(),\n",
    "                                         SimpleRandomSample = coffee_rating_srs.groupby(\"country_of_origin\")[\"total_cup_points\"].mean(),\n",
    "                                         StratifiedSample = coffee_rating_strat.groupby(\"country_of_origin\")[\"total_cup_points\"].mean(),\n",
    "                                         ClusterSample = coffee_rating_cluster.groupby(\"country_of_origin\")[\"total_cup_points\"].mean())\n",
    "mean_cup_points_by_country"
   ],
   "metadata": {
    "collapsed": false,
    "pycharm": {
     "name": "#%%\n"
    }
   }
  },
  {
   "metadata": {
    "pycharm": {
     "name": "#%% md\n"
    }
   },
   "outputs": [],
   "source": [
    "### 8. Mean cup points by country: stratified\n",
    "\n",
    "The same is true of the sample means from the stratified technique. Each sample mean is relatively close to the population mean."
   ],
   "execution_count": null,
   "cell_type": "markdown"
  },
  {
   "metadata": {
    "pycharm": {
     "name": "#%% md\n"
    }
   },
   "outputs": [],
   "source": [
    "### 9. Mean cup points by country: cluster\n",
    "\n",
    "With cluster sampling, while the sample means are pretty close to the population means, the obvious limitation is that we only get values for the two countries that were included in the sample. If the mean cup points for each country is an important metric in our analysis, cluster sampling would be a bad idea."
   ],
   "execution_count": null,
   "cell_type": "markdown"
  },
  {
   "metadata": {
    "pycharm": {
     "name": "#%% md\n"
    }
   },
   "outputs": [],
   "source": [
    "### 10. Let's practice!\n",
    "\n",
    "Let's calculate some summary statistics."
   ],
   "execution_count": null,
   "cell_type": "markdown"
  },
  {
   "metadata": {
    "pycharm": {
     "name": "#%% md\n"
    }
   },
   "outputs": [],
   "source": [
    "## 3 kinds of sampling\n",
    "\n",
    "<p>You're going to compare the performance of point estimates using simple, stratified, and cluster sampling. Before doing that, you'll have to set up the samples.</p>\n",
    "<p>You'll use the <code>RelationshipSatisfaction</code> column of the <code>attrition_pop</code> dataset, which categorizes the employee's relationship with the company. It has four levels: <code>Low</code>, <code>Medium</code>, <code>High</code>, and <code>Very_High</code>. <code>pandas</code> has been loaded with its usual alias, and the <code>random</code> package has been loaded.</p>"
   ],
   "execution_count": null,
   "cell_type": "markdown"
  },
  {
   "metadata": {
    "pycharm": {
     "name": "#%% md\n"
    }
   },
   "outputs": [],
   "source": [
    "Perform simple random sampling on <code>attrition_pop</code> to get one-quarter of the population, setting the seed to <code>2022</code>."
   ],
   "execution_count": null,
   "cell_type": "markdown"
  },
  {
   "cell_type": "code",
   "execution_count": 205,
   "outputs": [
    {
     "data": {
      "text/plain": "Index(['Age', 'Attrition', 'BusinessTravel', 'DailyRate', 'Department',\n       'DistanceFromHome', 'Education', 'EducationField',\n       'EnvironmentSatisfaction', 'Gender', 'HourlyRate', 'JobInvolvement',\n       'JobLevel', 'JobRole', 'JobSatisfaction', 'MaritalStatus',\n       'MonthlyIncome', 'MonthlyRate', 'NumCompaniesWorked', 'OverTime',\n       'PercentSalaryHike', 'PerformanceRating', 'RelationshipSatisfaction',\n       'StockOptionLevel', 'TotalWorkingYears', 'TrainingTimesLastYear',\n       'WorkLifeBalance', 'YearsAtCompany', 'YearsInCurrentRole',\n       'YearsSinceLastPromotion', 'YearsWithCurrManager'],\n      dtype='object')"
     },
     "execution_count": 205,
     "metadata": {},
     "output_type": "execute_result"
    }
   ],
   "source": [
    "attrition_pop.columns\n"
   ],
   "metadata": {
    "collapsed": false,
    "pycharm": {
     "name": "#%%\n"
    }
   }
  },
  {
   "cell_type": "code",
   "execution_count": 193,
   "outputs": [],
   "source": [
    "# Perform simple random sampling to get 0.25 of the population\n",
    "attrition_srs = attrition_pop.sample(frac=0.25,random_state =2022)"
   ],
   "metadata": {
    "collapsed": false,
    "pycharm": {
     "name": "#%%\n"
    }
   }
  },
  {
   "metadata": {
    "pycharm": {
     "name": "#%% md\n"
    }
   },
   "outputs": [],
   "source": [
    "Perform stratified sampling on <code>attrition_pop</code> to sample one-quarter of each <code>RelationshipSatisfaction</code> group, setting the seed to <code>2022</code>."
   ],
   "execution_count": null,
   "cell_type": "markdown"
  },
  {
   "cell_type": "code",
   "execution_count": 196,
   "outputs": [],
   "source": [
    "# Perform stratified sampling to get 0.25 of each relationship group\n",
    "attrition_strat = attrition_pop.groupby(\"RelationshipSatisfaction\").sample(frac=0.25)"
   ],
   "metadata": {
    "collapsed": false,
    "pycharm": {
     "name": "#%%\n"
    }
   }
  },
  {
   "metadata": {
    "pycharm": {
     "name": "#%% md\n"
    }
   },
   "outputs": [],
   "source": [
    "Create a list of unique values from <code>attrition_pop</code>'s <code>RelationshipSatisfaction</code> column."
   ],
   "execution_count": null,
   "cell_type": "markdown"
  },
  {
   "metadata": {
    "pycharm": {
     "name": "#%% md\n"
    }
   },
   "outputs": [],
   "source": [
    "Randomly sample <code>satisfaction_unique</code> to get two values."
   ],
   "execution_count": null,
   "cell_type": "markdown"
  },
  {
   "metadata": {
    "pycharm": {
     "name": "#%% md\n"
    }
   },
   "outputs": [],
   "source": [
    "Subset the population for rows where <code>RelationshipSatisfaction</code> is in <code>satisfaction_samp</code> and clear any unused categories from <code>RelationshipSatisfaction</code>; assign to <code>attrition_clust_prep</code>."
   ],
   "execution_count": null,
   "cell_type": "markdown"
  },
  {
   "metadata": {
    "pycharm": {
     "name": "#%% md\n"
    }
   },
   "outputs": [],
   "source": [
    "Perform cluster sampling on the selected satisfaction groups, sampling one quarter of the <em>population</em> and setting the seed to <code>2022</code>."
   ],
   "execution_count": null,
   "cell_type": "markdown"
  },
  {
   "cell_type": "code",
   "execution_count": 204,
   "outputs": [
    {
     "name": "stderr",
     "output_type": "stream",
     "text": [
      "C:\\Users\\Lenovo\\AppData\\Local\\Temp\\ipykernel_64152\\2395592764.py:10: SettingWithCopyWarning: \n",
      "A value is trying to be set on a copy of a slice from a DataFrame.\n",
      "Try using .loc[row_indexer,col_indexer] = value instead\n",
      "\n",
      "See the caveats in the documentation: https://pandas.pydata.org/pandas-docs/stable/user_guide/indexing.html#returning-a-view-versus-a-copy\n",
      "  attrition_clust_prep['RelationshipSatisfaction'] = attrition_clust_prep[\"RelationshipSatisfaction\"].cat.remove_unused_categories()\n"
     ]
    }
   ],
   "source": [
    "# Create a list of unique RelationshipSatisfaction values\n",
    "satisfaction_unique = list(attrition_pop[\"RelationshipSatisfaction\"].unique())\n",
    "\n",
    "# Randomly sample 2 unique satisfaction values\n",
    "satisfaction_samp = random.sample(satisfaction_unique,k=2)\n",
    "\n",
    "# Filter for satisfaction_samp and clear unused categories from RelationshipSatisfaction\n",
    "satis_condition = attrition_pop[\"RelationshipSatisfaction\"].isin(satisfaction_samp)\n",
    "attrition_clust_prep = attrition_pop[satis_condition]\n",
    "attrition_clust_prep['RelationshipSatisfaction'] = attrition_clust_prep[\"RelationshipSatisfaction\"].cat.remove_unused_categories()\n",
    "\n",
    "\n",
    "# Perform cluster sampling on the selected group, getting 0.25 of attrition_pop\n",
    "attrition_clust = attrition_clust_prep.groupby(\"RelationshipSatisfaction\").sample(n = len(attrition_pop) // 4 ,random_state=2022)\n"
   ],
   "metadata": {
    "collapsed": false,
    "pycharm": {
     "name": "#%%\n"
    }
   }
  },
  {
   "metadata": {
    "pycharm": {
     "name": "#%% md\n"
    }
   },
   "outputs": [],
   "source": [
    "## Comparing point estimates\n",
    "\n",
    "<p>Now that you have three types of sample (simple, stratified, and cluster), you can compare point estimates from each sample to the population parameter. That is, you can calculate the same summary statistic on each sample and see how it compares to the summary statistic for the population.</p>\n",
    "<p>Here, we'll look at how satisfaction with the company affects whether or not the employee leaves the company. That is, you'll calculate the proportion of employees who left the company (they have an <code>Attrition</code> value of <code>1</code>) for each value of <code>RelationshipSatisfaction</code>.</p>\n",
    "<p><code>attrition_pop</code>, <code>attrition_srs</code>, <code>attrition_strat</code>, and <code>attrition_clust</code> are available; <code>pandas</code> is loaded with its usual alias.</p>"
   ],
   "execution_count": null,
   "cell_type": "markdown"
  },
  {
   "cell_type": "code",
   "execution_count": 206,
   "outputs": [
    {
     "name": "stdout",
     "output_type": "stream",
     "text": [
      "RelationshipSatisfaction\n",
      "Low          0.206522\n",
      "Medium       0.148515\n",
      "High         0.154684\n",
      "Very_High    0.148148\n",
      "Name: Attrition, dtype: float64\n"
     ]
    }
   ],
   "source": [
    "# Mean Attrition by RelationshipSatisfaction group\n",
    "mean_attrition_pop = attrition_pop.groupby(\"RelationshipSatisfaction\")[\"Attrition\"].mean()\n",
    "\n",
    "# Print the result\n",
    "print(mean_attrition_pop)"
   ],
   "metadata": {
    "collapsed": false,
    "pycharm": {
     "name": "#%%\n"
    }
   }
  },
  {
   "cell_type": "code",
   "execution_count": 207,
   "outputs": [
    {
     "name": "stdout",
     "output_type": "stream",
     "text": [
      "RelationshipSatisfaction\n",
      "Low          0.134328\n",
      "Medium       0.164179\n",
      "High         0.160000\n",
      "Very_High    0.155963\n",
      "Name: Attrition, dtype: float64\n"
     ]
    }
   ],
   "source": [
    "# Calculate the same thing for the simple random sample\n",
    "mean_attrition_srs = attrition_srs.groupby(\"RelationshipSatisfaction\")[\"Attrition\"].mean()\n",
    "\n",
    "# Print the result\n",
    "print(mean_attrition_srs)"
   ],
   "metadata": {
    "collapsed": false,
    "pycharm": {
     "name": "#%%\n"
    }
   }
  },
  {
   "cell_type": "code",
   "execution_count": 209,
   "outputs": [
    {
     "name": "stdout",
     "output_type": "stream",
     "text": [
      "RelationshipSatisfaction\n",
      "Low          0.202899\n",
      "Medium       0.157895\n",
      "High         0.173913\n",
      "Very_High    0.101852\n",
      "Name: Attrition, dtype: float64\n"
     ]
    }
   ],
   "source": [
    "# Calculate the same thing for the stratified sample\n",
    "mean_attrition_strat = attrition_strat.groupby(\"RelationshipSatisfaction\")[\"Attrition\"].mean()\n",
    "\n",
    "# Print the result\n",
    "print(mean_attrition_strat)"
   ],
   "metadata": {
    "collapsed": false,
    "pycharm": {
     "name": "#%%\n"
    }
   }
  },
  {
   "cell_type": "code",
   "execution_count": 208,
   "outputs": [
    {
     "name": "stdout",
     "output_type": "stream",
     "text": [
      "RelationshipSatisfaction\n",
      "High         0.149864\n",
      "Very_High    0.160763\n",
      "Name: Attrition, dtype: float64\n"
     ]
    }
   ],
   "source": [
    "# Calculate the same thing for the cluster sample\n",
    "mean_attrition_clust = attrition_clust.groupby(\"RelationshipSatisfaction\")[\"Attrition\"].mean()\n",
    "\n",
    "# Print the result\n",
    "print(mean_attrition_clust)"
   ],
   "metadata": {
    "collapsed": false,
    "pycharm": {
     "name": "#%%\n"
    }
   }
  },
  {
   "metadata": {
    "pycharm": {
     "name": "#%% md\n"
    }
   },
   "outputs": [],
   "source": [
    "# The n's justify the means"
   ],
   "execution_count": null,
   "cell_type": "markdown"
  },
  {
   "metadata": {
    "pycharm": {
     "name": "#%% md\n"
    }
   },
   "outputs": [],
   "source": [
    "## An ample sample"
   ],
   "execution_count": null,
   "cell_type": "markdown"
  },
  {
   "metadata": {
    "pycharm": {
     "name": "#%% md\n"
    }
   },
   "outputs": [],
   "source": [
    "### 1. An ample sample\n",
    "\n",
    "Let's see how the size of the sample affects the accuracy of the point estimates we calculate."
   ],
   "execution_count": null,
   "cell_type": "markdown"
  },
  {
   "metadata": {
    "pycharm": {
     "name": "#%% md\n"
    }
   },
   "outputs": [],
   "source": [
    "### 2. Sample size is number of rows\n",
    "\n",
    "The sample size, calculated here with the len function, is the number of observations, that is, the number of rows in the sample. That's true whichever method we use to create the sample. We'll stick to looking at simple random sampling since it works well in most cases and it's easier to reason about."
   ],
   "execution_count": null,
   "cell_type": "markdown"
  },
  {
   "cell_type": "code",
   "execution_count": 210,
   "outputs": [
    {
     "data": {
      "text/plain": "300"
     },
     "execution_count": 210,
     "metadata": {},
     "output_type": "execute_result"
    }
   ],
   "source": [
    "len(coffee_rating.sample(n=300))"
   ],
   "metadata": {
    "collapsed": false,
    "pycharm": {
     "name": "#%%\n"
    }
   }
  },
  {
   "cell_type": "code",
   "execution_count": 211,
   "outputs": [
    {
     "data": {
      "text/plain": "334"
     },
     "execution_count": 211,
     "metadata": {},
     "output_type": "execute_result"
    }
   ],
   "source": [
    "len(coffee_rating.sample(frac=0.25))"
   ],
   "metadata": {
    "collapsed": false,
    "pycharm": {
     "name": "#%%\n"
    }
   }
  },
  {
   "metadata": {
    "pycharm": {
     "name": "#%% md\n"
    }
   },
   "outputs": [],
   "source": [
    "### 3. Various sample sizes\n",
    "\n",
    "Let's calculate a population parameter, the mean cup points of the coffees. It's around eighty-two-point-one-five. This is our gold standard to compare against. If we take a sample size of ten, the point estimate of this parameter is wrong by about point-eight-eight. Increasing the sample size to one hundred gets us closer; the estimate is only wrong by about point-three-four. Increasing the sample size further to one thousand brings the estimate to about point-zero-three away from the population parameter. In general, larger sample sizes will give us more accurate results."
   ],
   "execution_count": null,
   "cell_type": "markdown"
  },
  {
   "cell_type": "code",
   "execution_count": 212,
   "outputs": [
    {
     "data": {
      "text/plain": "82.15120328849018"
     },
     "execution_count": 212,
     "metadata": {},
     "output_type": "execute_result"
    }
   ],
   "source": [
    "coffee_rating[\"total_cup_points\"].mean()"
   ],
   "metadata": {
    "collapsed": false,
    "pycharm": {
     "name": "#%%\n"
    }
   }
  },
  {
   "cell_type": "code",
   "execution_count": 213,
   "outputs": [
    {
     "data": {
      "text/plain": "82.574"
     },
     "execution_count": 213,
     "metadata": {},
     "output_type": "execute_result"
    }
   ],
   "source": [
    "coffee_rating.sample(n=10)[\"total_cup_points\"].mean()"
   ],
   "metadata": {
    "collapsed": false,
    "pycharm": {
     "name": "#%%\n"
    }
   }
  },
  {
   "cell_type": "code",
   "execution_count": 214,
   "outputs": [
    {
     "data": {
      "text/plain": "82.36220000000002"
     },
     "execution_count": 214,
     "metadata": {},
     "output_type": "execute_result"
    }
   ],
   "source": [
    "coffee_rating.sample(n=100)[\"total_cup_points\"].mean()"
   ],
   "metadata": {
    "collapsed": false,
    "pycharm": {
     "name": "#%%\n"
    }
   }
  },
  {
   "cell_type": "code",
   "execution_count": 215,
   "outputs": [
    {
     "data": {
      "text/plain": "82.20348999999993"
     },
     "execution_count": 215,
     "metadata": {},
     "output_type": "execute_result"
    }
   ],
   "source": [
    "coffee_rating.sample(n=1000)[\"total_cup_points\"].mean()"
   ],
   "metadata": {
    "collapsed": false,
    "pycharm": {
     "name": "#%%\n"
    }
   }
  },
  {
   "metadata": {
    "pycharm": {
     "name": "#%% md\n"
    }
   },
   "outputs": [],
   "source": [
    "### 4. Relative errors\n",
    "\n",
    "For any of these sample sizes, we want to compare the population mean to the sample mean. This is the same code we just saw, but with the numerical sample size replaced with a variable named sample_size. The most common metric for assessing the difference between the population and a sample mean is the relative error. The relative error is the absolute difference between the two numbers; that is, we ignore any minus signs, divided by the population mean. Here, we also multiply by one hundred to make it a percentage."
   ],
   "execution_count": null,
   "cell_type": "markdown"
  },
  {
   "cell_type": "code",
   "execution_count": 220,
   "outputs": [
    {
     "data": {
      "text/plain": "82.15120328849018"
     },
     "execution_count": 220,
     "metadata": {},
     "output_type": "execute_result"
    }
   ],
   "source": [
    "population_mean = coffee_rating[\"total_cup_points\"].mean()\n",
    "population_mean"
   ],
   "metadata": {
    "collapsed": false,
    "pycharm": {
     "name": "#%%\n"
    }
   }
  },
  {
   "cell_type": "code",
   "execution_count": 222,
   "outputs": [
    {
     "data": {
      "text/plain": "82.4596"
     },
     "execution_count": 222,
     "metadata": {},
     "output_type": "execute_result"
    }
   ],
   "source": [
    "sample_size =100\n",
    "sample_mean = coffee_rating.sample(n=sample_size)[\"total_cup_points\"].mean()\n",
    "sample_mean"
   ],
   "metadata": {
    "collapsed": false,
    "pycharm": {
     "name": "#%%\n"
    }
   }
  },
  {
   "cell_type": "code",
   "execution_count": 226,
   "outputs": [],
   "source": [
    "rel_error_pct = 100 * (abs(population_mean - sample_mean) / population_mean)"
   ],
   "metadata": {
    "collapsed": false,
    "pycharm": {
     "name": "#%%\n"
    }
   }
  },
  {
   "cell_type": "code",
   "execution_count": 224,
   "outputs": [
    {
     "data": {
      "text/plain": "0.3754013321348669"
     },
     "execution_count": 224,
     "metadata": {},
     "output_type": "execute_result"
    }
   ],
   "source": [
    "rel_error_pct"
   ],
   "metadata": {
    "collapsed": false,
    "pycharm": {
     "name": "#%%\n"
    }
   }
  },
  {
   "metadata": {
    "pycharm": {
     "name": "#%% md\n"
    }
   },
   "outputs": [],
   "source": [
    "### 5. Relative error vs. sample size\n",
    "\n",
    "Here's a line plot of relative error versus sample size. We see that the relative error decreases as the sample size increases, and beyond that, the plot has other important properties. Firstly, the blue line is really noisy, particularly for small sample sizes. If our sample size is small, the sample mean we calculate can be wildly different by adding one or two more random rows to the sample. Secondly, the amplitude of the line is quite steep, to begin with. When we have a small sample size, adding just a few more samples can give us much better accuracy. Further to the right of the plot, the line is less steep. If we already have a large sample size, adding a few more rows to the sample doesn't bring as much benefit. Finally, at the far right of the plot, where the sample size is the whole population, the relative error decreases to zero."
   ],
   "execution_count": null,
   "cell_type": "markdown"
  },
  {
   "cell_type": "code",
   "execution_count": 256,
   "outputs": [],
   "source": [
    "def cal_sample_mean(x):\n",
    "    return coffee_rating.sample(n=x)[\"total_cup_points\"].mean()\n"
   ],
   "metadata": {
    "collapsed": false,
    "pycharm": {
     "name": "#%%\n"
    }
   }
  },
  {
   "cell_type": "code",
   "execution_count": 261,
   "outputs": [],
   "source": [
    "errors = pd.DataFrame({\"sample_size\" : np.arange(1,len(coffee_rating),1)})\n",
    "errors = errors.assign(sample_mean = errors[\"sample_size\"].map(cal_sample_mean))\n",
    "errors = errors.assign(relative_error = lambda x : 100 * abs(population_mean -x.sample_mean ) /population_mean)"
   ],
   "metadata": {
    "collapsed": false,
    "pycharm": {
     "name": "#%%\n"
    }
   }
  },
  {
   "cell_type": "code",
   "execution_count": 262,
   "outputs": [
    {
     "data": {
      "text/plain": "<Figure size 432x288 with 1 Axes>",
      "image/png": "[encoded data removed]"
     },
     "metadata": {
      "needs_background": "light"
     },
     "output_type": "display_data"
    }
   ],
   "source": [
    "errors.plot(x=\"sample_size\",y=\"relative_error\",kind=\"line\")\n",
    "plt.show()"
   ],
   "metadata": {
    "collapsed": false,
    "pycharm": {
     "name": "#%%\n"
    }
   }
  },
  {
   "metadata": {
    "pycharm": {
     "name": "#%% md\n"
    }
   },
   "outputs": [],
   "source": [
    "### 6. Let's practice!\n",
    "\n",
    "Let's explore sample sizes."
   ],
   "execution_count": null,
   "cell_type": "markdown"
  },
  {
   "metadata": {
    "pycharm": {
     "name": "#%% md\n"
    }
   },
   "outputs": [],
   "source": [
    "## Calculating relative errors\n",
    "\n",
    "<p>The size of the sample you take affects how accurately the point estimates reflect the corresponding population parameter. For example, when you calculate a sample mean, you want it to be close to the population mean. However, if your sample is too small, this might not be the case.</p>\n",
    "<p>The most common metric for assessing accuracy is <em>relative error</em>. This is the absolute difference between the population parameter and the point estimate, all divided by the population parameter. It is sometimes expressed as a percentage.</p>\n",
    "<p><code>attrition_pop</code> and <code>mean_attrition_pop</code> (the mean of the <code>Attrition</code> column of <code>attrition_pop</code>) are available; <code>pandas</code> is loaded as <code>pd</code>.</p>"
   ],
   "execution_count": null,
   "cell_type": "markdown"
  },
  {
   "cell_type": "code",
   "execution_count": 270,
   "outputs": [],
   "source": [
    "mean_attrition_pop = attrition_pop[\"Attrition\"].mean()"
   ],
   "metadata": {
    "collapsed": false,
    "pycharm": {
     "name": "#%%\n"
    }
   }
  },
  {
   "metadata": {
    "pycharm": {
     "name": "#%% md\n"
    }
   },
   "outputs": [],
   "source": [
    "Generate a simple random sample from <code>attrition_pop</code> of fifty rows, setting the seed to <code>2022</code>."
   ],
   "execution_count": null,
   "cell_type": "markdown"
  },
  {
   "cell_type": "code",
   "execution_count": 271,
   "outputs": [],
   "source": [
    "# Generate a simple random sample of 50 rows, with seed 2022\n",
    "attrition_srs50 = attrition_pop.sample(n=50,random_state=2022)"
   ],
   "metadata": {
    "collapsed": false,
    "pycharm": {
     "name": "#%%\n"
    }
   }
  },
  {
   "cell_type": "markdown",
   "source": [
    "Calculate the mean employee <code>Attrition</code> in the sample."
   ],
   "metadata": {
    "collapsed": false,
    "pycharm": {
     "name": "#%% md\n"
    }
   }
  },
  {
   "cell_type": "code",
   "execution_count": 272,
   "outputs": [],
   "source": [
    "\n",
    "# Calculate the mean employee attrition in the sample\n",
    "mean_attrition_srs50 = attrition_srs50[\"Attrition\"].mean()"
   ],
   "metadata": {
    "collapsed": false,
    "pycharm": {
     "name": "#%%\n"
    }
   }
  },
  {
   "cell_type": "markdown",
   "source": [
    "Calculate the relative error between <code>mean_attrition_srs50</code> and <code>mean_attrition_pop</code> as a <em>percentage</em>."
   ],
   "metadata": {
    "collapsed": false,
    "pycharm": {
     "name": "#%% md\n"
    }
   }
  },
  {
   "cell_type": "code",
   "execution_count": 273,
   "outputs": [
    {
     "name": "stdout",
     "output_type": "stream",
     "text": [
      "62.78481012658227\n"
     ]
    }
   ],
   "source": [
    "\n",
    "# Calculate the relative error percentage\n",
    "rel_error_pct50 = 100 * abs(mean_attrition_pop - mean_attrition_srs50) / mean_attrition_pop\n",
    "\n",
    "# Print rel_error_pct50\n",
    "print(rel_error_pct50)"
   ],
   "metadata": {
    "collapsed": false,
    "pycharm": {
     "name": "#%%\n"
    }
   }
  },
  {
   "metadata": {
    "pycharm": {
     "name": "#%% md\n"
    }
   },
   "outputs": [],
   "source": [
    "Calculate the <em>relative error percentage</em> again. This time, use a simple random sample of one hundred rows of <code>attrition_pop</code>."
   ],
   "execution_count": null,
   "cell_type": "markdown"
  },
  {
   "cell_type": "code",
   "execution_count": 274,
   "outputs": [
    {
     "name": "stdout",
     "output_type": "stream",
     "text": [
      "6.962025316455695\n"
     ]
    }
   ],
   "source": [
    "# Generate a simple random sample of 100 rows, with seed 2022\n",
    "attrition_srs100 = attrition_pop.sample(n=100,random_state=2022)\n",
    "\n",
    "# Calculate the mean employee attrition in the sample\n",
    "mean_attrition_srs100 = attrition_srs100[\"Attrition\"].mean()\n",
    "\n",
    "# Calculate the relative error percentage\n",
    "rel_error_pct100 = 100 * abs(mean_attrition_pop -mean_attrition_srs100) /mean_attrition_pop\n",
    "\n",
    "# Print rel_error_pct100\n",
    "print(rel_error_pct100)"
   ],
   "metadata": {
    "collapsed": false,
    "pycharm": {
     "name": "#%%\n"
    }
   }
  },
  {
   "metadata": {
    "pycharm": {
     "name": "#%% md\n"
    }
   },
   "outputs": [],
   "source": [
    "## Baby back dist-rib-ution"
   ],
   "execution_count": null,
   "cell_type": "markdown"
  },
  {
   "metadata": {
    "pycharm": {
     "name": "#%% md\n"
    }
   },
   "outputs": [],
   "source": [
    "### 1. Baby back dist-rib-ution\n",
    "\n",
    "We just saw how point estimates like the sample mean will vary depending on which rows end up in the sample."
   ],
   "execution_count": null,
   "cell_type": "markdown"
  },
  {
   "metadata": {
    "pycharm": {
     "name": "#%% md\n"
    }
   },
   "outputs": [],
   "source": [
    "### 2. Same code, different answer\n",
    "\n",
    "For example, this same code to calculate the mean cup points from a simple random sample of thirty coffees gives a slightly different answer each time. Let's try to visualize and quantify this variation."
   ],
   "execution_count": null,
   "cell_type": "markdown"
  },
  {
   "cell_type": "code",
   "execution_count": 275,
   "outputs": [
    {
     "data": {
      "text/plain": "81.26033333333334"
     },
     "execution_count": 275,
     "metadata": {},
     "output_type": "execute_result"
    }
   ],
   "source": [
    "coffee_rating.sample(n=30)[\"total_cup_points\"].mean()"
   ],
   "metadata": {
    "collapsed": false,
    "pycharm": {
     "name": "#%%\n"
    }
   }
  },
  {
   "cell_type": "code",
   "execution_count": 276,
   "outputs": [
    {
     "data": {
      "text/plain": "82.06133333333334"
     },
     "execution_count": 276,
     "metadata": {},
     "output_type": "execute_result"
    }
   ],
   "source": [
    "coffee_rating.sample(n=30)[\"total_cup_points\"].mean()"
   ],
   "metadata": {
    "collapsed": false,
    "pycharm": {
     "name": "#%%\n"
    }
   }
  },
  {
   "cell_type": "code",
   "execution_count": 277,
   "outputs": [
    {
     "data": {
      "text/plain": "81.569"
     },
     "execution_count": 277,
     "metadata": {},
     "output_type": "execute_result"
    }
   ],
   "source": [
    "coffee_rating.sample(n=30)[\"total_cup_points\"].mean()"
   ],
   "metadata": {
    "collapsed": false,
    "pycharm": {
     "name": "#%%\n"
    }
   }
  },
  {
   "metadata": {
    "pycharm": {
     "name": "#%% md\n"
    }
   },
   "outputs": [],
   "source": [
    "### 3. Same code, 1000 times\n",
    "\n",
    "A for loop lets us run the same code many times. It's especially useful for situations like this where the result contains some randomness. We start by creating an empty list to store the means. Then, we set up the for loop to repeatedly sample 30 coffees from coffee_ratings a total of 1000 times, calculating the mean cup points each time. After each calculation, we append the result, also called a replicate, to the list. Each time the code is run, we get one sample mean, so running the code a thousand times generates a list of one thousand sample means."
   ],
   "execution_count": null,
   "cell_type": "markdown"
  },
  {
   "cell_type": "code",
   "execution_count": null,
   "outputs": [],
   "source": [
    "mean_cup_points_1000 = []\n",
    "for i in range(1000):\n",
    "    mean_cup_points_1000.append(\n",
    "        coffee_rating.sample(n=30)[\"total_cup_points\"].mean()\n",
    "    )"
   ],
   "metadata": {
    "collapsed": false,
    "pycharm": {
     "name": "#%%\n"
    }
   }
  },
  {
   "metadata": {
    "pycharm": {
     "name": "#%% md\n"
    }
   },
   "outputs": [],
   "source": [
    "### 4. Distribution of sample means for size 30\n",
    "\n",
    "The one thousand sample means form a distribution of sample means. To visualize a distribution, the best plot is often a histogram. Here we can see that most of the results lie between eighty-one and eighty-three, and they roughly follow a bell-shaped curve, like a normal distribution. There's an important piece of jargon we need to know here. A distribution of replicates of sample means, or other point estimates, is known as a sampling distribution."
   ],
   "execution_count": null,
   "cell_type": "markdown"
  },
  {
   "cell_type": "code",
   "execution_count": 280,
   "outputs": [
    {
     "data": {
      "text/plain": "<Figure size 432x288 with 1 Axes>",
      "image/png": "[encoded data removed]"
     },
     "metadata": {
      "needs_background": "light"
     },
     "output_type": "display_data"
    }
   ],
   "source": [
    "plt.hist(mean_cup_points_1000,bins=30)\n",
    "plt.show()"
   ],
   "metadata": {
    "collapsed": false,
    "pycharm": {
     "name": "#%%\n"
    }
   }
  },
  {
   "metadata": {
    "pycharm": {
     "name": "#%% md\n"
    }
   },
   "outputs": [],
   "source": [
    "### 5. Different sample sizes\n",
    "\n",
    "Here are histograms from running the same code again with different sample sizes. When we decrease the original sample size of thirty to six, we can see from the x-values that the range of the results is broader. The bulk of the results now lie between eighty and eighty-four. On the other hand, increasing the sample size to one hundred and fifty results in a much narrower range. Now most of the results are between eighty-one-point-eight and eighty-two-point-six. As we saw previously, bigger sample sizes give us more accurate results. By replicating the sampling many times, as we've done here, we can quantify that accuracy."
   ],
   "execution_count": null,
   "cell_type": "markdown"
  },
  {
   "cell_type": "code",
   "execution_count": 284,
   "outputs": [],
   "source": [
    "def mean_cup_point(size):\n",
    "    mean_cup_points_1000 = []\n",
    "    for i in range(1000):\n",
    "        mean_cup_points_1000.append(\n",
    "            coffee_rating.sample(n=size)[\"total_cup_points\"].mean()\n",
    "        )\n",
    "    return mean_cup_points_1000"
   ],
   "metadata": {
    "collapsed": false,
    "pycharm": {
     "name": "#%%\n"
    }
   }
  },
  {
   "cell_type": "code",
   "execution_count": 287,
   "outputs": [
    {
     "data": {
      "text/plain": "<Figure size 1080x432 with 2 Axes>",
      "image/png": "[encoded data removed]"
     },
     "metadata": {
      "needs_background": "light"
     },
     "output_type": "display_data"
    }
   ],
   "source": [
    "fig,(ax1,ax2) = plt.subplots(nrows=1,ncols=2,figsize=(15,6))\n",
    "ax1.hist(mean_cup_point(6),bins=30)\n",
    "ax2.hist(mean_cup_point(150),bins=30)\n",
    "ax1.set_title(\"Sample Size =6\")\n",
    "ax2.set_title(\"Sample Size = 150\")\n",
    "plt.show()"
   ],
   "metadata": {
    "collapsed": false,
    "pycharm": {
     "name": "#%%\n"
    }
   }
  },
  {
   "cell_type": "markdown",
   "source": [
    " As sample size increases, on average each sample mean has a lower relative error compared to the population mean, thus reducing the range of the distribution"
   ],
   "metadata": {
    "collapsed": false,
    "pycharm": {
     "name": "#%% md\n"
    }
   }
  },
  {
   "metadata": {
    "pycharm": {
     "name": "#%% md\n"
    }
   },
   "outputs": [],
   "source": [
    "### 6. Let's practice!\n",
    "\n",
    "Ready to replicate?"
   ],
   "execution_count": null,
   "cell_type": "markdown"
  },
  {
   "metadata": {
    "pycharm": {
     "name": "#%% md\n"
    }
   },
   "outputs": [],
   "source": [
    "## Replicating samples\n",
    "\n",
    "<p>When you calculate a point estimate such as a sample mean, the value you calculate depends on the rows that were included in the sample. That means that there is some randomness in the answer. In order to quantify the variation caused by this randomness, you can create many samples and calculate the sample mean (or another statistic) for each sample.</p>\n",
    "<p><code>attrition_pop</code> is available; <code>pandas</code> and <code>matplotlib.pyplot</code> are loaded with their usual aliases.</p>"
   ],
   "execution_count": null,
   "cell_type": "markdown"
  },
  {
   "metadata": {
    "pycharm": {
     "name": "#%% md\n"
    }
   },
   "outputs": [],
   "source": [
    "Replicate the provided code so that it runs <code>500</code> times. Assign the resulting list of sample means to <code>mean_attritions</code>."
   ],
   "execution_count": null,
   "cell_type": "markdown"
  },
  {
   "cell_type": "code",
   "execution_count": 288,
   "outputs": [
    {
     "data": {
      "text/plain": "<Figure size 432x288 with 1 Axes>",
      "image/png": "[encoded data removed]"
     },
     "metadata": {
      "needs_background": "light"
     },
     "output_type": "display_data"
    }
   ],
   "source": [
    "# Create an empty list\n",
    "mean_attritions = []\n",
    "# Loop 500 times to create 500 sample means\n",
    "for i in range(500):\n",
    "    mean_attritions.append(\n",
    "        attrition_pop.sample(n=60)['Attrition'].mean()\n",
    "    )\n",
    "\n",
    "# Create a histogram of the 500 sample means\n",
    "plt.hist(mean_attritions,bins=16)\n",
    "plt.show()"
   ],
   "metadata": {
    "collapsed": false,
    "pycharm": {
     "name": "#%%\n"
    }
   }
  },
  {
   "cell_type": "markdown",
   "source": [
    " As sample size increases, on average each sample mean has a lower relative error compared to the population mean, thus reducing the range of the distribution"
   ],
   "metadata": {
    "collapsed": false,
    "pycharm": {
     "name": "#%% md\n"
    }
   }
  },
  {
   "metadata": {
    "pycharm": {
     "name": "#%% md\n"
    }
   },
   "outputs": [],
   "source": [
    "## Be our guess, put our samples to the test"
   ],
   "execution_count": null,
   "cell_type": "markdown"
  },
  {
   "metadata": {
    "pycharm": {
     "name": "#%% md\n"
    }
   },
   "outputs": [],
   "source": [
    "### 1. Be our guess, put our samples to the test\n",
    "\n",
    "In the last exercise, we saw that while increasing the number of replicates didn't affect the relative error of the sample means; it did result in a more consistent shape to the distribution."
   ],
   "execution_count": null,
   "cell_type": "markdown"
  },
  {
   "metadata": {
    "pycharm": {
     "name": "#%% md\n"
    }
   },
   "outputs": [],
   "source": [
    "### 2. 4 dice\n",
    "\n",
    "Let's consider the case of four six-sided dice rolls. We can generate all possible combinations of rolls using the expand_grid function, which is defined in the pandas documentation, and uses the itertools package. There are six to the power four, or one-thousand-two-hundred-ninety-six possible dice roll combinations."
   ],
   "execution_count": null,
   "cell_type": "markdown"
  },
  {
   "cell_type": "code",
   "execution_count": 292,
   "outputs": [],
   "source": [
    "import itertools"
   ],
   "metadata": {
    "collapsed": false,
    "pycharm": {
     "name": "#%%\n"
    }
   }
  },
  {
   "cell_type": "code",
   "execution_count": 293,
   "outputs": [],
   "source": [
    "def expand_grid(data_dict):\n",
    "    rows = itertools.product(*data_dict.values())\n",
    "    return pd.DataFrame.from_records(rows,columns=data_dict.keys())\n",
    "\n",
    "dice = expand_grid({\n",
    "    \"die1\" : [1,2,3,4,5,6],\n",
    "    \"die2\" : [1,2,3,4,5,6],\n",
    "    \"die3\" : [1,2,3,4,5,6],\n",
    "    \"die4\" : [1,2,3,4,5,6],\n",
    "})"
   ],
   "metadata": {
    "collapsed": false,
    "pycharm": {
     "name": "#%%\n"
    }
   }
  },
  {
   "cell_type": "code",
   "execution_count": 294,
   "outputs": [
    {
     "data": {
      "text/plain": "(1296, 4)"
     },
     "execution_count": 294,
     "metadata": {},
     "output_type": "execute_result"
    }
   ],
   "source": [
    "dice.shape"
   ],
   "metadata": {
    "collapsed": false,
    "pycharm": {
     "name": "#%%\n"
    }
   }
  },
  {
   "metadata": {
    "pycharm": {
     "name": "#%% md\n"
    }
   },
   "outputs": [],
   "source": [
    "### 3. Mean roll\n",
    "\n",
    "Let's consider the mean of the four rolls by adding a column to our DataFrame called mean_roll. mean_roll ranges from 1, when four ones are rolled, to 6, when four sixes are rolled."
   ],
   "execution_count": null,
   "cell_type": "markdown"
  },
  {
   "cell_type": "code",
   "execution_count": 295,
   "outputs": [
    {
     "data": {
      "text/plain": "      die1  die2  die3  die4  mean_roll\n0        1     1     1     1       1.00\n1        1     1     1     2       1.25\n2        1     1     1     3       1.50\n3        1     1     1     4       1.75\n4        1     1     1     5       2.00\n...    ...   ...   ...   ...        ...\n1291     6     6     6     2       5.00\n1292     6     6     6     3       5.25\n1293     6     6     6     4       5.50\n1294     6     6     6     5       5.75\n1295     6     6     6     6       6.00\n\n[1296 rows x 5 columns]",
      "text/html": "<div>\n<style scoped>\n    .dataframe tbody tr th:only-of-type {\n        vertical-align: middle;\n    }\n\n    .dataframe tbody tr th {\n        vertical-align: top;\n    }\n\n    .dataframe thead th {\n        text-align: right;\n    }\n</style>\n<table border=\"1\" class=\"dataframe\">\n  <thead>\n    <tr style=\"text-align: right;\">\n      <th></th>\n      <th>die1</th>\n      <th>die2</th>\n      <th>die3</th>\n      <th>die4</th>\n      <th>mean_roll</th>\n    </tr>\n  </thead>\n  <tbody>\n    <tr>\n      <th>0</th>\n      <td>1</td>\n      <td>1</td>\n      <td>1</td>\n      <td>1</td>\n      <td>1.00</td>\n    </tr>\n    <tr>\n      <th>1</th>\n      <td>1</td>\n      <td>1</td>\n      <td>1</td>\n      <td>2</td>\n      <td>1.25</td>\n    </tr>\n    <tr>\n      <th>2</th>\n      <td>1</td>\n      <td>1</td>\n      <td>1</td>\n      <td>3</td>\n      <td>1.50</td>\n    </tr>\n    <tr>\n      <th>3</th>\n      <td>1</td>\n      <td>1</td>\n      <td>1</td>\n      <td>4</td>\n      <td>1.75</td>\n    </tr>\n    <tr>\n      <th>4</th>\n      <td>1</td>\n      <td>1</td>\n      <td>1</td>\n      <td>5</td>\n      <td>2.00</td>\n    </tr>\n    <tr>\n      <th>...</th>\n      <td>...</td>\n      <td>...</td>\n      <td>...</td>\n      <td>...</td>\n      <td>...</td>\n    </tr>\n    <tr>\n      <th>1291</th>\n      <td>6</td>\n      <td>6</td>\n      <td>6</td>\n      <td>2</td>\n      <td>5.00</td>\n    </tr>\n    <tr>\n      <th>1292</th>\n      <td>6</td>\n      <td>6</td>\n      <td>6</td>\n      <td>3</td>\n      <td>5.25</td>\n    </tr>\n    <tr>\n      <th>1293</th>\n      <td>6</td>\n      <td>6</td>\n      <td>6</td>\n      <td>4</td>\n      <td>5.50</td>\n    </tr>\n    <tr>\n      <th>1294</th>\n      <td>6</td>\n      <td>6</td>\n      <td>6</td>\n      <td>5</td>\n      <td>5.75</td>\n    </tr>\n    <tr>\n      <th>1295</th>\n      <td>6</td>\n      <td>6</td>\n      <td>6</td>\n      <td>6</td>\n      <td>6.00</td>\n    </tr>\n  </tbody>\n</table>\n<p>1296 rows × 5 columns</p>\n</div>"
     },
     "execution_count": 295,
     "metadata": {},
     "output_type": "execute_result"
    }
   ],
   "source": [
    "dice = dice.assign(mean_roll = lambda x : x.sum(axis=1) / 4)\n",
    "dice"
   ],
   "metadata": {
    "collapsed": false,
    "pycharm": {
     "name": "#%%\n"
    }
   }
  },
  {
   "metadata": {
    "pycharm": {
     "name": "#%% md\n"
    }
   },
   "outputs": [],
   "source": [
    "### 4. Exact sampling distribution\n",
    "\n",
    "Since the mean roll takes discrete values instead of continuous values, the best way to see the distribution of mean_roll is to draw a bar plot. First, we convert mean_roll to a categorical by setting its type to category. We are interested in the counts of each value, so we use dot-value_counts, passing the sort equals False argument. This ensures the x-axis ranges from one to six instead of sorting the bars by frequency. Chaining dot-plot to value_counts, and setting kind to \"bar\", produces a bar plot of the mean roll distribution. This is the exact sampling distribution of the mean roll because it contains every single combination of die rolls."
   ],
   "execution_count": null,
   "cell_type": "markdown"
  },
  {
   "cell_type": "code",
   "execution_count": 297,
   "outputs": [
    {
     "data": {
      "text/plain": "<AxesSubplot:>"
     },
     "execution_count": 297,
     "metadata": {},
     "output_type": "execute_result"
    },
    {
     "data": {
      "text/plain": "<Figure size 432x288 with 1 Axes>",
      "image/png": "[encoded data removed]"
     },
     "metadata": {
      "needs_background": "light"
     },
     "output_type": "display_data"
    }
   ],
   "source": [
    "dice[\"mean_roll\"] =dice[\"mean_roll\"].astype(\"category\")\n",
    "dice[\"mean_roll\"].value_counts(sort=False).plot(kind=\"bar\")"
   ],
   "metadata": {
    "collapsed": false,
    "pycharm": {
     "name": "#%%\n"
    }
   }
  },
  {
   "metadata": {
    "pycharm": {
     "name": "#%% md\n"
    }
   },
   "outputs": [],
   "source": [
    "### 5. The number of outcomes increases fast\n",
    "\n",
    "If we increase the number of dice in our scenario, the number of possible outcomes increases by a factor of six each time. These values can be shown by creating a DataFrame with two columns: n_dice, ranging from 1 to 100, and n_outcomes, which is the number of possible outcomes, calculated using six to the power of the number of dice. With just one hundred dice, the number of outcomes is about the same as the number of atoms in the universe: six-point-five times ten to the seventy-seventh power. Long before you start dealing with big datasets, it becomes computationally impossible to calculate the exact sampling distribution. That means we need to rely on approximations."
   ],
   "execution_count": null,
   "cell_type": "markdown"
  },
  {
   "cell_type": "code",
   "execution_count": 298,
   "outputs": [],
   "source": [
    "n_dice = list(range(1,101))\n",
    "n_outcomes = []\n",
    "for n in n_dice:\n",
    "    n_outcomes.append(6**n)\n",
    "\n"
   ],
   "metadata": {
    "collapsed": false,
    "pycharm": {
     "name": "#%%\n"
    }
   }
  },
  {
   "cell_type": "code",
   "execution_count": 300,
   "outputs": [
    {
     "data": {
      "text/plain": "<Figure size 432x288 with 1 Axes>",
      "image/png": "[encoded data removed]"
     },
     "metadata": {
      "needs_background": "light"
     },
     "output_type": "display_data"
    }
   ],
   "source": [
    "plt.scatter(x=n_dice,y=n_outcomes)\n",
    "plt.xlabel(\"n_dices\")\n",
    "plt.ylabel(\"n_outcomes\")\n",
    "plt.show()"
   ],
   "metadata": {
    "collapsed": false,
    "pycharm": {
     "name": "#%%\n"
    }
   }
  },
  {
   "metadata": {
    "pycharm": {
     "name": "#%% md\n"
    }
   },
   "outputs": [],
   "source": [
    "### 6. Simulating the mean of four dice rolls\n",
    "\n",
    "We can generate a sample mean of four dice rolls using NumPy's random-dot-choice method, specifying size as four. This will randomly choose values from a specified list, in this case, four values from the numbers one to six, which is created using a range from one to seven wrapped in the list function. Notice that we set replace equals True because we can roll the same number several times."
   ],
   "execution_count": null,
   "cell_type": "markdown"
  },
  {
   "cell_type": "code",
   "execution_count": 303,
   "outputs": [
    {
     "name": "stdout",
     "output_type": "stream",
     "text": [
      "[3 3 6 6]\n"
     ]
    }
   ],
   "source": [
    "print(np.random.choice(list(range(1,7)),size=4,replace=True))"
   ],
   "metadata": {
    "collapsed": false,
    "pycharm": {
     "name": "#%%\n"
    }
   }
  },
  {
   "metadata": {
    "pycharm": {
     "name": "#%% md\n"
    }
   },
   "outputs": [],
   "source": [
    "### 7. Simulating the mean of four dice rolls\n",
    "\n",
    "Then we use a for loop to generate lots of sample means, in this case, one thousand. We again use the dot-append method to populate the sample means list with our simulated sample means. The output contains a sampling of many of the same values we saw with the exact sampling distribution."
   ],
   "execution_count": null,
   "cell_type": "markdown"
  },
  {
   "cell_type": "code",
   "execution_count": 305,
   "outputs": [],
   "source": [
    "sample_means_1000 = []\n",
    "for i in range(1000):\n",
    "    sample_means_1000.append(\n",
    "        np.random.choice(list(range(1,7)),size=4,replace=True).mean()\n",
    "    )"
   ],
   "metadata": {
    "collapsed": false,
    "pycharm": {
     "name": "#%%\n"
    }
   }
  },
  {
   "metadata": {
    "pycharm": {
     "name": "#%% md\n"
    }
   },
   "outputs": [],
   "source": [
    "### 8. Approximate sampling distribution\n",
    "\n",
    "Here's a histogram of the approximate sampling distribution of mean rolls. This time, it uses the simulated rather than the exact values. It's known as an approximate sampling distribution. Notice that although it isn't perfect, it's pretty close to the exact sampling distribution. Usually, we don't have access to the whole population, so we can't calculate the exact sampling distribution. However, we can feel relatively confident that using an approximation will provide a good guess as to how the sampling distribution will behave."
   ],
   "execution_count": null,
   "cell_type": "markdown"
  },
  {
   "cell_type": "code",
   "execution_count": 307,
   "outputs": [
    {
     "data": {
      "text/plain": "<Figure size 432x288 with 1 Axes>",
      "image/png": "[encoded data removed]"
     },
     "metadata": {
      "needs_background": "light"
     },
     "output_type": "display_data"
    }
   ],
   "source": [
    "plt.hist(sample_means_1000,bins=20)\n",
    "plt.show()"
   ],
   "metadata": {
    "collapsed": false,
    "pycharm": {
     "name": "#%%\n"
    }
   }
  },
  {
   "metadata": {
    "pycharm": {
     "name": "#%% md\n"
    }
   },
   "outputs": [],
   "source": [
    "### 9. Let's practice!\n",
    "\n",
    "Let's sample some distributions!"
   ],
   "execution_count": null,
   "cell_type": "markdown"
  },
  {
   "metadata": {
    "pycharm": {
     "name": "#%% md\n"
    }
   },
   "outputs": [],
   "source": [
    "## Exact sampling distribution\n",
    "\n",
    "<p>To quantify how the point estimate (sample statistic) you are interested in varies, you need to know all the possible values it can take and how often. That is, you need to know its distribution.</p>\n",
    "<p>The distribution of a sample statistic is called the <em>sampling distribution</em>. When we can calculate this exactly, rather than using an approximation, it is known as the <em>exact sampling distribution</em>.</p>\n",
    "<p>Let's take another look at the sampling distribution of dice rolls. This time, we'll look at five eight-sided dice. (These have the numbers one to eight.)</p>\n",
    "<p><img src=\"https://assets.datacamp.com/production/repositories/5975/datasets/001ee1102f4838b0806d9b3592ce76ce454c3892/shutterstock_231673213_8_sided_die.jpeg\" alt=\"8 sided die\"></p>\n",
    "<p><code>pandas</code>, <code>numpy</code>, and <code>matplotlib.pyplot</code> are loaded with their usual aliases. The <code>expand_grid()</code> function is also available, which expects a dictionary of key-value pairs as its argument. The definition of the <code>expand_grid()</code> function is provided in the <a href=\"https://pandas.pydata.org/pandas-docs/version/0.17.1/cookbook.html#creating-example-data\" target=\"_blank\" rel=\"noopener noreferrer\">pandas documentation</a>.</p>"
   ],
   "execution_count": null,
   "cell_type": "markdown"
  },
  {
   "metadata": {
    "pycharm": {
     "name": "#%% md\n"
    }
   },
   "outputs": [],
   "source": [
    "Expand a grid representing 5 8-sided dice. That is, create a DataFrame with five columns from a dictionary, named <code>die1</code> to <code>die5</code>. The rows should contain all possibilities for throwing five dice, each numbered <code>1</code> to <code>8</code>."
   ],
   "execution_count": null,
   "cell_type": "markdown"
  },
  {
   "cell_type": "code",
   "execution_count": 308,
   "outputs": [
    {
     "data": {
      "text/plain": "<Figure size 432x288 with 1 Axes>",
      "image/png": "[encoded data removed]"
     },
     "metadata": {
      "needs_background": "light"
     },
     "output_type": "display_data"
    }
   ],
   "source": [
    "# Expand a grid representing 5 8-sided dice\n",
    "dice = expand_grid(\n",
    "    {'die1': [1, 2, 3, 4, 5, 6, 7, 8],\n",
    "     'die2': [1, 2, 3, 4, 5, 6, 7, 8],\n",
    "     'die3': [1, 2, 3, 4, 5, 6, 7, 8],\n",
    "     'die4': [1, 2, 3, 4, 5, 6, 7, 8],\n",
    "     'die5': [1, 2, 3, 4, 5, 6, 7, 8]\n",
    "     })\n",
    "\n",
    "# Add a column of mean rolls and convert to a categorical\n",
    "dice['mean_roll'] = (dice['die1'] + dice['die2'] +\n",
    "                     dice['die3'] + dice['die4'] +\n",
    "                     dice['die5']) / 5\n",
    "dice['mean_roll'] = dice['mean_roll'].astype('category')\n",
    "\n",
    "# Draw a bar plot of mean_roll\n",
    "dice[\"mean_roll\"].value_counts(sort=False).plot(kind =\"bar\")\n",
    "plt.show()"
   ],
   "metadata": {
    "collapsed": false,
    "pycharm": {
     "name": "#%%\n"
    }
   }
  },
  {
   "metadata": {
    "pycharm": {
     "name": "#%% md\n"
    }
   },
   "outputs": [],
   "source": [
    "## Approximate sampling distribution\n",
    "\n",
    "<p>Calculating the exact sampling distribution is only possible in very simple situations. With just five eight-sided dice, the number of possible rolls is <code>8**5</code>, which is over thirty thousand. When the dataset is more complicated, for example, where a variable has hundreds or thousands of categories, the number of possible outcomes becomes too difficult to compute exactly.</p>\n",
    "<p>In this situation, you can calculate an <em>approximate sampling distribution</em> by simulating the exact sampling distribution. That is, you can repeat a procedure over and over again to simulate both the sampling process and the sample statistic calculation process.</p>\n",
    "<p><code>pandas</code>, <code>numpy</code>, and <code>matplotlib.pyplot</code> are loaded with their usual aliases.</p>"
   ],
   "execution_count": null,
   "cell_type": "markdown"
  },
  {
   "metadata": {
    "pycharm": {
     "name": "#%% md\n"
    }
   },
   "outputs": [],
   "source": [
    "Sample one to eight, five times, with replacement. Assign to <code>five_rolls</code>."
   ],
   "execution_count": null,
   "cell_type": "markdown"
  },
  {
   "metadata": {
    "pycharm": {
     "name": "#%% md\n"
    }
   },
   "outputs": [],
   "source": [
    "Calculate the mean of <code>five_rolls</code>."
   ],
   "execution_count": null,
   "cell_type": "markdown"
  },
  {
   "cell_type": "code",
   "execution_count": 309,
   "outputs": [
    {
     "name": "stdout",
     "output_type": "stream",
     "text": [
      "4.6\n"
     ]
    }
   ],
   "source": [
    "# Sample one to eight, five times, with replacement\n",
    "five_rolls = np.random.choice(list(range(1,9)),size=5,replace=True)\n",
    "\n",
    "# Print the mean of five_rolls\n",
    "print(five_rolls.mean())"
   ],
   "metadata": {
    "collapsed": false,
    "pycharm": {
     "name": "#%%\n"
    }
   }
  },
  {
   "cell_type": "code",
   "execution_count": 310,
   "outputs": [
    {
     "data": {
      "text/plain": "<Figure size 432x288 with 1 Axes>",
      "image/png": "[encoded data removed]"
     },
     "metadata": {
      "needs_background": "light"
     },
     "output_type": "display_data"
    }
   ],
   "source": [
    "# Replicate the sampling code 1000 times\n",
    "sample_means_1000 = []\n",
    "for i in range(1000):\n",
    "    sample_means_1000.append(\n",
    "        np.random.choice(list(range(1, 9)), size=5, replace=True).mean()\n",
    "    )\n",
    "\n",
    "# Draw a histogram of sample_means_1000 with 20 bins\n",
    "plt.hist(sample_means_1000,bins=20)\n",
    "plt.show()"
   ],
   "metadata": {
    "collapsed": false,
    "pycharm": {
     "name": "#%%\n"
    }
   }
  },
  {
   "cell_type": "markdown",
   "source": [
    " The exact sampling distribution can only be calculated if you know what the population is and if the problems are small and simple enough to compute. Otherwise, the approximate sampling distribution must be used"
   ],
   "metadata": {
    "collapsed": false,
    "pycharm": {
     "name": "#%% md\n"
    }
   }
  },
  {
   "metadata": {
    "pycharm": {
     "name": "#%% md\n"
    }
   },
   "outputs": [],
   "source": [
    "## Err on the side of Gaussian"
   ],
   "execution_count": null,
   "cell_type": "markdown"
  },
  {
   "metadata": {
    "pycharm": {
     "name": "#%% md\n"
    }
   },
   "outputs": [],
   "source": [
    "### 1. Err on the side of Gaussian\n",
    "\n",
    "The Gaussian distribution (also known as the normal distribution) plays an important role in statistics. Its distinctive bell-shaped curve has been cropping up throughout this course."
   ],
   "execution_count": null,
   "cell_type": "markdown"
  },
  {
   "metadata": {
    "pycharm": {
     "name": "#%% md\n"
    }
   },
   "outputs": [],
   "source": [
    "### 2. Sampling distribution of mean cup points\n",
    "\n",
    "Here are approximate sampling distributions of the mean cup points from the coffee dataset. Each histogram shows five thousand replicates, with different sample sizes in each case. Look at the x-axis labels. We already saw how increasing the sample size results in greater accuracy in our estimates of the population parameter, so the width of the distribution shrinks as the sample size increases. When the sample size is five, the x-axis ranges from seventy-six to eighty-six, whereas, for a sample size of three hundred and twenty, the range is from eighty-one-point-six to eighty-two-point-six. Now, look at the shape of each distribution. As the sample size increases, we can see that the shape of the curve gets closer and closer to being a normal distribution. At sample size five, the curve is only a very loose approximation since it isn't very symmetric. By sample size eighty, it is a very reasonable approximation."
   ],
   "execution_count": null,
   "cell_type": "markdown"
  },
  {
   "cell_type": "code",
   "execution_count": 312,
   "outputs": [
    {
     "data": {
      "text/plain": "<Figure size 1080x432 with 4 Axes>",
      "image/png": "[encoded data removed]"
     },
     "metadata": {
      "needs_background": "light"
     },
     "output_type": "display_data"
    }
   ],
   "source": [
    "fig,((ax1,ax2),(ax3,ax4)) = plt.subplots(nrows=2,ncols=2,figsize=(15,6))\n",
    "ax1.hist(mean_cup_point(5),bins=30)\n",
    "ax2.hist(mean_cup_point(20),bins=30)\n",
    "ax3.hist(mean_cup_point(80),bins=30)\n",
    "ax4.hist(mean_cup_point(320),bins=30)\n",
    "ax1.set_title(\"Sample Size =5\")\n",
    "ax2.set_title(\"Sample Size = 20\")\n",
    "ax3.set_title(\"Sample Size =80\")\n",
    "ax4.set_title(\"Sample Size = 320\")\n",
    "plt.show()"
   ],
   "metadata": {
    "collapsed": false,
    "pycharm": {
     "name": "#%%\n"
    }
   }
  },
  {
   "metadata": {
    "pycharm": {
     "name": "#%% md\n"
    }
   },
   "outputs": [],
   "source": [
    "### 3. Consequences of the central limit theorem\n",
    "\n",
    "What we just saw is, in essence, what the central limit theorem tells us. The means of independent samples have normal distributions. Then, as the sample size increases, we see two things. The distribution of these averages gets closer to being normal, and the width of this sampling distribution gets narrower."
   ],
   "execution_count": null,
   "cell_type": "markdown"
  },
  {
   "metadata": {
    "pycharm": {
     "name": "#%% md\n"
    }
   },
   "outputs": [],
   "source": [
    "### 4. Population & sampling distribution means\n",
    "\n",
    "Recall the population parameter of the mean cup points. We've seen this calculation before, and its value is eighty-two-point-one-five. We can also calculate summary statistics on our sampling distributions to see how they compare. For each of our four sampling distributions, if we take the mean of our sample means, we can see that we get values that are pretty close to the population parameter that the sampling distributions are trying to estimate."
   ],
   "execution_count": null,
   "cell_type": "markdown"
  },
  {
   "cell_type": "code",
   "execution_count": 313,
   "outputs": [
    {
     "data": {
      "text/plain": "82.15120328849018"
     },
     "execution_count": 313,
     "metadata": {},
     "output_type": "execute_result"
    }
   ],
   "source": [
    "coffee_rating[\"total_cup_points\"].mean()"
   ],
   "metadata": {
    "collapsed": false,
    "pycharm": {
     "name": "#%%\n"
    }
   }
  },
  {
   "cell_type": "code",
   "execution_count": 315,
   "outputs": [
    {
     "data": {
      "text/plain": "5      82.138622\n20     82.129815\n80     82.141731\n320    82.155355\ndtype: float64"
     },
     "execution_count": 315,
     "metadata": {},
     "output_type": "execute_result"
    }
   ],
   "source": [
    "pd.Series([np.mean(mean_cup_point(5)),np.mean(mean_cup_point(20)),np.mean(mean_cup_point(80)),np.mean(mean_cup_point(320))],index=[5,20,80,320])"
   ],
   "metadata": {
    "collapsed": false,
    "pycharm": {
     "name": "#%%\n"
    }
   }
  },
  {
   "metadata": {
    "pycharm": {
     "name": "#%% md\n"
    }
   },
   "outputs": [],
   "source": [
    "### 5. Population & sampling distribution standard deviations\n",
    "\n",
    "Now let's consider the standard deviation of the population cup points. It's about two-point-seven. By comparison, if we take the standard deviation of the sample means from each of the sampling distributions using NumPy, we get much smaller numbers, and they decrease as the sample size increases. Note that when we are calculating a population standard deviation with pandas dot-std, we must specify ddof equals zero, as dot-std calculates a sample standard deviation by default. When we are calculating a standard deviation on a sample of the population using NumPy's std function, like in these calculations on the sampling distribution, we must specify a ddof of one. So what are these smaller standard deviation values?"
   ],
   "execution_count": null,
   "cell_type": "markdown"
  },
  {
   "cell_type": "code",
   "execution_count": 316,
   "outputs": [
    {
     "data": {
      "text/plain": "2.685858187306436"
     },
     "execution_count": 316,
     "metadata": {},
     "output_type": "execute_result"
    }
   ],
   "source": [
    "coffee_rating[\"total_cup_points\"].std(ddof=0)"
   ],
   "metadata": {
    "collapsed": false,
    "pycharm": {
     "name": "#%%\n"
    }
   }
  },
  {
   "cell_type": "code",
   "execution_count": 317,
   "outputs": [
    {
     "data": {
      "text/plain": "5      1.211435\n20     0.569298\n80     0.288041\n320    0.132555\ndtype: float64"
     },
     "execution_count": 317,
     "metadata": {},
     "output_type": "execute_result"
    }
   ],
   "source": [
    "pd.Series([np.std(mean_cup_point(5),ddof=1),np.std(mean_cup_point(20),ddof=1),np.std(mean_cup_point(80),ddof=1),np.std(mean_cup_point(320),ddof=1)],index=[5,20,80,320])"
   ],
   "metadata": {
    "collapsed": false,
    "pycharm": {
     "name": "#%%\n"
    }
   }
  },
  {
   "metadata": {
    "pycharm": {
     "name": "#%% md\n"
    }
   },
   "outputs": [],
   "source": [
    "### 6. Population mean over square root sample size\n",
    "\n",
    "One other consequence of the central limit theorem is that if we divide the population standard deviation, in this case around 2-point-7, by the square root of the sample size, we get an estimate of the standard deviation of the sampling distribution for that sample size. It isn't exact because of the randomness involved in the sampling process, but it's pretty close.<br>\n",
    "<img src=\"image/img_4.png\">"
   ],
   "execution_count": null,
   "cell_type": "markdown"
  },
  {
   "metadata": {
    "pycharm": {
     "name": "#%% md\n"
    }
   },
   "outputs": [],
   "source": [
    "### 7. Standard error\n",
    "\n",
    "We just saw the impact of the sample size on the standard deviation of the sampling distribution. This standard deviation of the sampling distribution has a special name: the standard error. It is useful in a variety of contexts, from estimating population standard deviation to setting expectations on what level of variability we would expect from the sampling process."
   ],
   "execution_count": null,
   "cell_type": "markdown"
  },
  {
   "metadata": {
    "pycharm": {
     "name": "#%% md\n"
    }
   },
   "outputs": [],
   "source": [
    "### 8. Let's practice!\n",
    "\n",
    "Let's explore some sampling distributions."
   ],
   "execution_count": null,
   "cell_type": "markdown"
  },
  {
   "metadata": {
    "pycharm": {
     "name": "#%% md\n"
    }
   },
   "outputs": [],
   "source": [
    "## Population & sampling distribution means\n",
    "\n",
    "<p>One of the useful features of sampling distributions is that you can quantify them. Specifically, you can calculate summary statistics on them. Here, you'll look at the relationship between the mean of the sampling distribution and the population parameter's mean.</p>\n",
    "<p>Three sampling distributions are provided. For each, the employee attrition dataset was sampled using simple random sampling, then the mean attrition was calculated. This was done 1000 times to get a sampling distribution of mean attritions. One sampling distribution used a sample size of 5 for each replicate, one used 50, and one used 500.</p>\n",
    "<p><code>attrition_pop</code>, <code>sampling_distribution_5</code>, <code>sampling_distribution_50</code>, and <code>sampling_distribution_500</code> are available; <code>numpy</code> as <code>np</code> is loaded.</p>"
   ],
   "execution_count": null,
   "cell_type": "markdown"
  },
  {
   "metadata": {
    "pycharm": {
     "name": "#%% md\n"
    }
   },
   "outputs": [],
   "source": [
    "Calculate the mean of <code>sampling_distribution_5</code>, <code>sampling_distribution_50</code>, and <code>sampling_distribution_500</code> (a mean of sample means)."
   ],
   "execution_count": null,
   "cell_type": "markdown"
  },
  {
   "metadata": {
    "pycharm": {
     "name": "#%% md\n"
    }
   },
   "outputs": [],
   "source": [
    "## Population & sampling distribution variation\n",
    "\n",
    "<p>You just calculated the mean of the sampling distribution and saw how it is an estimate of the corresponding population parameter. Similarly, as a result of the central limit theorem, the standard deviation of the sampling distribution has an interesting relationship with the population parameter's standard deviation and the sample size.</p>\n",
    "<p><code>attrition_pop</code>, <code>sampling_distribution_5</code>, <code>sampling_distribution_50</code>, and <code>sampling_distribution_500</code> are available; <code>numpy</code> is loaded with its usual alias.</p>"
   ],
   "execution_count": null,
   "cell_type": "markdown"
  },
  {
   "metadata": {
    "pycharm": {
     "name": "#%% md\n"
    }
   },
   "outputs": [],
   "source": [
    "Calculate the standard deviation of <code>sampling_distribution_5</code>, <code>sampling_distribution_50</code>, and <code>sampling_distribution_500</code> (a standard deviation of sample means)."
   ],
   "execution_count": null,
   "cell_type": "markdown"
  },
  {
   "metadata": {
    "pycharm": {
     "name": "#%% md\n"
    }
   },
   "outputs": [],
   "source": [
    "# Pull Your Data Up By Its Bootstraps"
   ],
   "execution_count": null,
   "cell_type": "markdown"
  },
  {
   "metadata": {
    "pycharm": {
     "name": "#%% md\n"
    }
   },
   "outputs": [],
   "source": [
    "## This bears a striking resample-lance"
   ],
   "execution_count": null,
   "cell_type": "markdown"
  },
  {
   "metadata": {
    "pycharm": {
     "name": "#%% md\n"
    }
   },
   "outputs": [],
   "source": [
    "### 1. This bears a striking resample-lance\n",
    "\n",
    "So far, we've mostly focused on the idea of sampling without replacement."
   ],
   "execution_count": null,
   "cell_type": "markdown"
  },
  {
   "metadata": {
    "pycharm": {
     "name": "#%% md\n"
    }
   },
   "outputs": [],
   "source": [
    "### 2. With or without\n",
    "\n",
    "Sampling without replacement is like dealing a pack of cards. When we deal the ace of spades to one player, we can't then deal the ace of spades to another player. Sampling with replacement is like rolling dice. If we roll a six, we can still get a six on the next roll. Sampling with replacement is sometimes called resampling. We'll use the terms interchangeably."
   ],
   "execution_count": null,
   "cell_type": "markdown"
  },
  {
   "metadata": {
    "pycharm": {
     "name": "#%% md\n"
    }
   },
   "outputs": [],
   "source": [
    "### 3. Simple random sampling without replacement\n",
    "\n",
    "If we take a simple random sample without replacement, each row of the dataset, or each type of coffee, can only appear once in the sample."
   ],
   "execution_count": null,
   "cell_type": "markdown"
  },
  {
   "metadata": {
    "pycharm": {
     "name": "#%% md\n"
    }
   },
   "outputs": [],
   "source": [
    "### 4. Simple random sampling with replacement\n",
    "\n",
    "If we sample with replacement, it means that each row of the dataset, or each coffee, can be sampled multiple times."
   ],
   "execution_count": null,
   "cell_type": "markdown"
  },
  {
   "metadata": {
    "pycharm": {
     "name": "#%% md\n"
    }
   },
   "outputs": [],
   "source": [
    "### 5. Why sample with replacement?\n",
    "\n",
    "So far, we've been treating the coffee_ratings dataset as the population of all coffees. Of course, it doesn't include every coffee in the world, so we could treat the coffee dataset as just being a big sample of coffees. To imagine what the whole population is like, we need to approximate the other coffees that aren't in the dataset. Each of the coffees in the sample dataset will have properties that are representative of the coffees that we don't have. Resampling lets us use the existing coffees to approximate those other theoretical coffees."
   ],
   "execution_count": null,
   "cell_type": "markdown"
  },
  {
   "metadata": {
    "pycharm": {
     "name": "#%% md\n"
    }
   },
   "outputs": [],
   "source": [
    "### 6. Coffee data preparation\n",
    "\n",
    "To keep it simple, let's focus on three columns of the coffee dataset. To make it easier to see which rows ended up in the sample, we'll add a row index column called index using the reset_index method."
   ],
   "execution_count": null,
   "cell_type": "markdown"
  },
  {
   "cell_type": "code",
   "execution_count": 318,
   "outputs": [
    {
     "data": {
      "text/plain": "      index  variety country_of_origin  flavor\n0         0     None          Ethiopia    8.83\n1         1    Other          Ethiopia    8.67\n2         2  Bourbon         Guatemala    8.50\n3         3     None          Ethiopia    8.58\n4         4    Other          Ethiopia    8.50\n...     ...      ...               ...     ...\n1333   1333     None           Ecuador    7.58\n1334   1334     None           Ecuador    7.67\n1335   1335     None     United States    7.33\n1336   1336     None             India    6.83\n1337   1337     None           Vietnam    6.67\n\n[1338 rows x 4 columns]",
      "text/html": "<div>\n<style scoped>\n    .dataframe tbody tr th:only-of-type {\n        vertical-align: middle;\n    }\n\n    .dataframe tbody tr th {\n        vertical-align: top;\n    }\n\n    .dataframe thead th {\n        text-align: right;\n    }\n</style>\n<table border=\"1\" class=\"dataframe\">\n  <thead>\n    <tr style=\"text-align: right;\">\n      <th></th>\n      <th>index</th>\n      <th>variety</th>\n      <th>country_of_origin</th>\n      <th>flavor</th>\n    </tr>\n  </thead>\n  <tbody>\n    <tr>\n      <th>0</th>\n      <td>0</td>\n      <td>None</td>\n      <td>Ethiopia</td>\n      <td>8.83</td>\n    </tr>\n    <tr>\n      <th>1</th>\n      <td>1</td>\n      <td>Other</td>\n      <td>Ethiopia</td>\n      <td>8.67</td>\n    </tr>\n    <tr>\n      <th>2</th>\n      <td>2</td>\n      <td>Bourbon</td>\n      <td>Guatemala</td>\n      <td>8.50</td>\n    </tr>\n    <tr>\n      <th>3</th>\n      <td>3</td>\n      <td>None</td>\n      <td>Ethiopia</td>\n      <td>8.58</td>\n    </tr>\n    <tr>\n      <th>4</th>\n      <td>4</td>\n      <td>Other</td>\n      <td>Ethiopia</td>\n      <td>8.50</td>\n    </tr>\n    <tr>\n      <th>...</th>\n      <td>...</td>\n      <td>...</td>\n      <td>...</td>\n      <td>...</td>\n    </tr>\n    <tr>\n      <th>1333</th>\n      <td>1333</td>\n      <td>None</td>\n      <td>Ecuador</td>\n      <td>7.58</td>\n    </tr>\n    <tr>\n      <th>1334</th>\n      <td>1334</td>\n      <td>None</td>\n      <td>Ecuador</td>\n      <td>7.67</td>\n    </tr>\n    <tr>\n      <th>1335</th>\n      <td>1335</td>\n      <td>None</td>\n      <td>United States</td>\n      <td>7.33</td>\n    </tr>\n    <tr>\n      <th>1336</th>\n      <td>1336</td>\n      <td>None</td>\n      <td>India</td>\n      <td>6.83</td>\n    </tr>\n    <tr>\n      <th>1337</th>\n      <td>1337</td>\n      <td>None</td>\n      <td>Vietnam</td>\n      <td>6.67</td>\n    </tr>\n  </tbody>\n</table>\n<p>1338 rows × 4 columns</p>\n</div>"
     },
     "execution_count": 318,
     "metadata": {},
     "output_type": "execute_result"
    }
   ],
   "source": [
    "coffee_focus = coffee_rating[[\"variety\",\"country_of_origin\",\"flavor\"]]\n",
    "coffee_focus = coffee_focus.reset_index()\n",
    "coffee_focus"
   ],
   "metadata": {
    "collapsed": false,
    "pycharm": {
     "name": "#%%\n"
    }
   }
  },
  {
   "metadata": {
    "pycharm": {
     "name": "#%% md\n"
    }
   },
   "outputs": [],
   "source": [
    "### 7. Resampling with .sample()\n",
    "\n",
    "To sample with replacement, we call sample as usual but set the replace argument to True. Setting frac to 1 produces a sample of the same size as the original dataset."
   ],
   "execution_count": null,
   "cell_type": "markdown"
  },
  {
   "cell_type": "code",
   "execution_count": 319,
   "outputs": [
    {
     "data": {
      "text/plain": "     index         variety       country_of_origin  flavor\n483    483      Mundo Novo                  Brazil    7.67\n189    189            None                Ethiopia    7.75\n696    696          Typica                  Mexico    7.58\n662    662  Yellow Bourbon                  Brazil    7.50\n322    322         Caturra                Colombia    7.75\n..     ...             ...                     ...     ...\n393    393            None  United States (Hawaii)    7.92\n881    881         Sumatra               Indonesia    7.42\n533    533         Bourbon                  Brazil    7.58\n423    423          Typica                  Mexico    7.75\n893    893         Caturra                  Mexico    7.58\n\n[1338 rows x 4 columns]",
      "text/html": "<div>\n<style scoped>\n    .dataframe tbody tr th:only-of-type {\n        vertical-align: middle;\n    }\n\n    .dataframe tbody tr th {\n        vertical-align: top;\n    }\n\n    .dataframe thead th {\n        text-align: right;\n    }\n</style>\n<table border=\"1\" class=\"dataframe\">\n  <thead>\n    <tr style=\"text-align: right;\">\n      <th></th>\n      <th>index</th>\n      <th>variety</th>\n      <th>country_of_origin</th>\n      <th>flavor</th>\n    </tr>\n  </thead>\n  <tbody>\n    <tr>\n      <th>483</th>\n      <td>483</td>\n      <td>Mundo Novo</td>\n      <td>Brazil</td>\n      <td>7.67</td>\n    </tr>\n    <tr>\n      <th>189</th>\n      <td>189</td>\n      <td>None</td>\n      <td>Ethiopia</td>\n      <td>7.75</td>\n    </tr>\n    <tr>\n      <th>696</th>\n      <td>696</td>\n      <td>Typica</td>\n      <td>Mexico</td>\n      <td>7.58</td>\n    </tr>\n    <tr>\n      <th>662</th>\n      <td>662</td>\n      <td>Yellow Bourbon</td>\n      <td>Brazil</td>\n      <td>7.50</td>\n    </tr>\n    <tr>\n      <th>322</th>\n      <td>322</td>\n      <td>Caturra</td>\n      <td>Colombia</td>\n      <td>7.75</td>\n    </tr>\n    <tr>\n      <th>...</th>\n      <td>...</td>\n      <td>...</td>\n      <td>...</td>\n      <td>...</td>\n    </tr>\n    <tr>\n      <th>393</th>\n      <td>393</td>\n      <td>None</td>\n      <td>United States (Hawaii)</td>\n      <td>7.92</td>\n    </tr>\n    <tr>\n      <th>881</th>\n      <td>881</td>\n      <td>Sumatra</td>\n      <td>Indonesia</td>\n      <td>7.42</td>\n    </tr>\n    <tr>\n      <th>533</th>\n      <td>533</td>\n      <td>Bourbon</td>\n      <td>Brazil</td>\n      <td>7.58</td>\n    </tr>\n    <tr>\n      <th>423</th>\n      <td>423</td>\n      <td>Typica</td>\n      <td>Mexico</td>\n      <td>7.75</td>\n    </tr>\n    <tr>\n      <th>893</th>\n      <td>893</td>\n      <td>Caturra</td>\n      <td>Mexico</td>\n      <td>7.58</td>\n    </tr>\n  </tbody>\n</table>\n<p>1338 rows × 4 columns</p>\n</div>"
     },
     "execution_count": 319,
     "metadata": {},
     "output_type": "execute_result"
    }
   ],
   "source": [
    "coffee_resamp = coffee_focus.sample(frac=1,replace=True)\n",
    "coffee_resamp"
   ],
   "metadata": {
    "collapsed": false,
    "pycharm": {
     "name": "#%%\n"
    }
   }
  },
  {
   "metadata": {
    "pycharm": {
     "name": "#%% md\n"
    }
   },
   "outputs": [],
   "source": [
    "### 8. Repeated coffees\n",
    "\n",
    "Counting the values of the index column shows how many times each coffee ended up in the resampled dataset. Some coffees were sampled four or five times."
   ],
   "execution_count": null,
   "cell_type": "markdown"
  },
  {
   "cell_type": "code",
   "execution_count": 320,
   "outputs": [
    {
     "data": {
      "text/plain": "189     5\n869     5\n36      5\n289     5\n1221    4\n       ..\n96      1\n61      1\n124     1\n625     1\n423     1\nName: index, Length: 846, dtype: int64"
     },
     "execution_count": 320,
     "metadata": {},
     "output_type": "execute_result"
    }
   ],
   "source": [
    "coffee_resamp[\"index\"].value_counts()"
   ],
   "metadata": {
    "collapsed": false,
    "pycharm": {
     "name": "#%%\n"
    }
   }
  },
  {
   "metadata": {
    "pycharm": {
     "name": "#%% md\n"
    }
   },
   "outputs": [],
   "source": [
    "### 9. Missing coffees\n",
    "\n",
    "That means that some coffees didn't end up in the resample. By taking the number of distinct index values in the resampled dataset, using len on drop_duplicates, we see that eight hundred and sixty-eight different coffees were included. By comparing this number with the total number of coffees, we can see that four hundred and seventy coffees weren't included in the resample."
   ],
   "execution_count": null,
   "cell_type": "markdown"
  },
  {
   "cell_type": "code",
   "execution_count": 321,
   "outputs": [
    {
     "data": {
      "text/plain": "846"
     },
     "execution_count": 321,
     "metadata": {},
     "output_type": "execute_result"
    }
   ],
   "source": [
    "num_unique_coffees = len(coffee_resamp[\"index\"].drop_duplicates())\n",
    "num_unique_coffees"
   ],
   "metadata": {
    "collapsed": false,
    "pycharm": {
     "name": "#%%\n"
    }
   }
  },
  {
   "cell_type": "code",
   "execution_count": 322,
   "outputs": [
    {
     "data": {
      "text/plain": "492"
     },
     "execution_count": 322,
     "metadata": {},
     "output_type": "execute_result"
    }
   ],
   "source": [
    "len(coffee_rating) - num_unique_coffees"
   ],
   "metadata": {
    "collapsed": false,
    "pycharm": {
     "name": "#%%\n"
    }
   }
  },
  {
   "metadata": {
    "pycharm": {
     "name": "#%% md\n"
    }
   },
   "outputs": [],
   "source": [
    "### 10. Bootstrapping\n",
    "\n",
    "We're going to use resampling for a technique called bootstrapping. In some sense, bootstrapping is the opposite of sampling from a population. With sampling, we treat the dataset as the population and move to a smaller sample. With bootstrapping, we treat the dataset as a sample and use it to build up a theoretical population. A use case of bootstrapping is to try to understand the variability due to sampling. This is important in cases where we aren't able to sample the population multiple times to create a sampling distribution."
   ],
   "execution_count": null,
   "cell_type": "markdown"
  },
  {
   "metadata": {
    "pycharm": {
     "name": "#%% md\n"
    }
   },
   "outputs": [],
   "source": [
    "### 11. Bootstrapping process\n",
    "\n",
    "The bootstrapping process has three steps.\n",
    "1. First, randomly sample with replacement to get a resample the same size as the original dataset.\n",
    "2. Then, calculate a statistic, such as a mean of one of the columns. Note that the mean isn't always the choice here and bootstrapping allows for complex statistics to be computed, too.\n",
    "3. Then, replicate this many times to get lots of these bootstrap statistics. Earlier in the course, we did something similar. We took a simple random sample, then calculated a summary statistic, then repeated those two steps to form a sampling distribution.\n",
    "8. This time, when we've used resampling instead of sampling, we get a bootstrap distribution."
   ],
   "execution_count": null,
   "cell_type": "markdown"
  },
  {
   "metadata": {
    "pycharm": {
     "name": "#%% md\n"
    }
   },
   "outputs": [],
   "source": [
    "### 12. Bootstrapping coffee mean flavor\n",
    "\n",
    "The resampling step uses the code we just saw: calling sample with frac set to one and replace set to True. Calculating a bootstrap statistic can be done with mean from NumPy. In this case, we're calculating the mean flavor score. To repeat steps one and two one thousand times, we can wrap the code in a for loop and append the statistics to a list."
   ],
   "execution_count": null,
   "cell_type": "markdown"
  },
  {
   "metadata": {
    "pycharm": {
     "name": "#%% md\n"
    }
   },
   "outputs": [],
   "source": [
    "### 13. Bootstrap distribution histogram\n",
    "\n",
    "Here's a histogram of the bootstrap distribution of the sample mean. Notice that it is close to following a normal distribution."
   ],
   "execution_count": null,
   "cell_type": "markdown"
  },
  {
   "cell_type": "code",
   "execution_count": 323,
   "outputs": [],
   "source": [
    "mean_flavor_1000 = []\n",
    "for i in range(1000):\n",
    "    mean_flavor_1000.append(\n",
    "        np.mean(coffee_focus.sample(frac=1 ,replace=True)[\"flavor\"])\n",
    "    )"
   ],
   "metadata": {
    "collapsed": false,
    "pycharm": {
     "name": "#%%\n"
    }
   }
  },
  {
   "cell_type": "code",
   "execution_count": 324,
   "outputs": [
    {
     "data": {
      "text/plain": "<Figure size 432x288 with 1 Axes>",
      "image/png": "[encoded data removed]"
     },
     "metadata": {
      "needs_background": "light"
     },
     "output_type": "display_data"
    }
   ],
   "source": [
    "plt.hist(mean_flavor_1000)\n",
    "plt.show()"
   ],
   "metadata": {
    "collapsed": false,
    "pycharm": {
     "name": "#%%\n"
    }
   }
  },
  {
   "metadata": {
    "pycharm": {
     "name": "#%% md\n"
    }
   },
   "outputs": [],
   "source": [
    "### 14. Let's practice!\n",
    "\n",
    "Best get bootstrapping."
   ],
   "execution_count": null,
   "cell_type": "markdown"
  },
  {
   "metadata": {
    "pycharm": {
     "name": "#%% md\n"
    }
   },
   "outputs": [],
   "source": [
    "## Generating a bootstrap distribution\n",
    "\n",
    "<p>The process for generating a bootstrap distribution is similar to the process for generating a sampling distribution; only the first step is different.</p>\n",
    "<p>To make a sampling distribution, you start with the population and sample without replacement. To make a bootstrap distribution, you start with a sample and sample that with replacement. After that, the steps are the same: calculate the summary statistic that you are interested in on that sample/resample, then replicate the process many times. In each case, you can visualize the distribution with a histogram.</p>\n",
    "<p>Here, <code>spotify_sample</code> is a subset of the <code>spotify_population</code> dataset. To make it easier to see how resampling works, a row index column called <code>'index'</code> has been added, and only the artist name, song name, and <code>danceability</code> columns have been included.</p>\n",
    "<p><code>spotify_sample</code> is available; <code>pandas</code>, <code>numpy</code>, and <code>matplotlib.pyplot</code> are loaded with their usual aliases.</p>"
   ],
   "execution_count": null,
   "cell_type": "markdown"
  },
  {
   "cell_type": "code",
   "execution_count": 328,
   "outputs": [],
   "source": [
    "spotify_sample = spotify_population[['artists', 'name', 'danceability']]\n",
    "spotify_sample = spotify_sample.reset_index()\n"
   ],
   "metadata": {
    "collapsed": false,
    "pycharm": {
     "name": "#%%\n"
    }
   }
  },
  {
   "metadata": {
    "pycharm": {
     "name": "#%% md\n"
    }
   },
   "outputs": [],
   "source": [
    "Generate a single bootstrap resample from <code>spotify_sample</code>."
   ],
   "execution_count": null,
   "cell_type": "markdown"
  },
  {
   "cell_type": "code",
   "execution_count": 331,
   "outputs": [
    {
     "data": {
      "text/plain": "<Figure size 432x288 with 1 Axes>",
      "image/png": "[encoded data removed]"
     },
     "metadata": {
      "needs_background": "light"
     },
     "output_type": "display_data"
    }
   ],
   "source": [
    "# Replicate this 1000 times\n",
    "mean_danceability_1000 = []\n",
    "for i in range(1000):\n",
    "    mean_danceability_1000.append(\n",
    "        np.mean(spotify_sample.sample(frac=1, replace=True)['danceability'])\n",
    "    )\n",
    "\n",
    "# Draw a histogram of the resample means\n",
    "plt.hist(mean_danceability_1000)\n",
    "plt.show()"
   ],
   "metadata": {
    "collapsed": false,
    "pycharm": {
     "name": "#%%\n"
    }
   }
  },
  {
   "metadata": {
    "pycharm": {
     "name": "#%% md\n"
    }
   },
   "outputs": [],
   "source": [
    "## A breath of fresh error"
   ],
   "execution_count": null,
   "cell_type": "markdown"
  },
  {
   "metadata": {
    "pycharm": {
     "name": "#%% md\n"
    }
   },
   "outputs": [],
   "source": [
    "### 1. A breath of fresh error\n",
    "\n",
    "In the last video,"
   ],
   "execution_count": null,
   "cell_type": "markdown"
  },
  {
   "metadata": {
    "pycharm": {
     "name": "#%% md\n"
    }
   },
   "outputs": [],
   "source": [
    "### 2. Coffee focused subset\n",
    "\n",
    "we took a focused subset of the coffee dataset. Here's a five hundred row sample from it."
   ],
   "execution_count": null,
   "cell_type": "markdown"
  },
  {
   "cell_type": "code",
   "execution_count": 332,
   "outputs": [],
   "source": [
    "coffee_sample = coffee_rating[[\"variety\",\"country_of_origin\",\"flavor\"]].reset_index().sample(n=500)\n"
   ],
   "metadata": {
    "collapsed": false,
    "pycharm": {
     "name": "#%%\n"
    }
   }
  },
  {
   "metadata": {
    "pycharm": {
     "name": "#%% md\n"
    }
   },
   "outputs": [],
   "source": [
    "### 3. The bootstrap of mean coffee flavors\n",
    "\n",
    "Here, we generate a bootstrap distribution of the mean coffee flavor scores from that sample. dot-sample generates a resample, np-dot-mean calculates the statistic, and the for loop with dot-append repeats these steps to produce a distribution of bootstrap statistics."
   ],
   "execution_count": null,
   "cell_type": "markdown"
  },
  {
   "cell_type": "code",
   "execution_count": 333,
   "outputs": [],
   "source": [
    "mean_flavor_5000 =[]\n",
    "for i in range(5000):\n",
    "    mean_flavor_5000.append(\n",
    "        np.mean(coffee_sample.sample(frac=1,replace=True)[\"flavor\"])\n",
    "    )\n",
    "\n",
    "bootstrap_dist = mean_flavor_5000"
   ],
   "metadata": {
    "collapsed": false,
    "pycharm": {
     "name": "#%%\n"
    }
   }
  },
  {
   "metadata": {
    "pycharm": {
     "name": "#%% md\n"
    }
   },
   "outputs": [],
   "source": [
    "### 4. Mean flavor bootstrap distribution\n",
    "\n",
    "Here's the histogram of the bootstrap distribution, which is close to a normal distribution."
   ],
   "execution_count": null,
   "cell_type": "markdown"
  },
  {
   "cell_type": "code",
   "execution_count": 335,
   "outputs": [
    {
     "data": {
      "text/plain": "<Figure size 432x288 with 1 Axes>",
      "image/png": "[encoded data removed]"
     },
     "metadata": {
      "needs_background": "light"
     },
     "output_type": "display_data"
    }
   ],
   "source": [
    "plt.hist(mean_flavor_5000,bins=15)\n",
    "plt.show()"
   ],
   "metadata": {
    "collapsed": false,
    "pycharm": {
     "name": "#%%\n"
    }
   }
  },
  {
   "metadata": {
    "pycharm": {
     "name": "#%% md\n"
    }
   },
   "outputs": [],
   "source": [
    "### 5. Sample, bootstrap distribution, population means\n",
    "\n",
    "Here's the mean flavor score from the original sample. In the bootstrap distribution, each value is an estimate of the mean flavor score. Recall that each of these values corresponds to one potential sample mean from the theoretical population. If we take the mean of those means, we get our best guess of the population mean. The two values are really close. However, there's a problem. The true population mean is actually a little different."
   ],
   "execution_count": null,
   "cell_type": "markdown"
  },
  {
   "cell_type": "code",
   "execution_count": 336,
   "outputs": [
    {
     "data": {
      "text/plain": "7.530979999999997"
     },
     "execution_count": 336,
     "metadata": {},
     "output_type": "execute_result"
    }
   ],
   "source": [
    "coffee_sample[\"flavor\"].mean()"
   ],
   "metadata": {
    "collapsed": false,
    "pycharm": {
     "name": "#%%\n"
    }
   }
  },
  {
   "cell_type": "code",
   "execution_count": 337,
   "outputs": [
    {
     "data": {
      "text/plain": "7.530902272"
     },
     "execution_count": 337,
     "metadata": {},
     "output_type": "execute_result"
    }
   ],
   "source": [
    "np.mean(bootstrap_dist)"
   ],
   "metadata": {
    "collapsed": false,
    "pycharm": {
     "name": "#%%\n"
    }
   }
  },
  {
   "cell_type": "code",
   "execution_count": 338,
   "outputs": [
    {
     "data": {
      "text/plain": "7.526046337817636"
     },
     "execution_count": 338,
     "metadata": {},
     "output_type": "execute_result"
    }
   ],
   "source": [
    "coffee_rating[\"flavor\"].mean()"
   ],
   "metadata": {
    "collapsed": false,
    "pycharm": {
     "name": "#%%\n"
    }
   }
  },
  {
   "metadata": {
    "pycharm": {
     "name": "#%% md\n"
    }
   },
   "outputs": [],
   "source": [
    " ### 6. Interpreting the means\n",
    "\n",
    "The behavior that you just saw is typical. The bootstrap distribution mean is usually almost identical to the original sample mean. However, that is not often a good thing. If the original sample wasn't closely representative of the population, then the bootstrap distribution mean won't be a good estimate of the population mean. **Bootstrapping cannot correct any potential biases due to differences between the sample and the population.**"
   ],
   "execution_count": null,
   "cell_type": "markdown"
  },
  {
   "metadata": {
    "pycharm": {
     "name": "#%% md\n"
    }
   },
   "outputs": [],
   "source": [
    "### 7. Sample sd vs. bootstrap distribution sd\n",
    "\n",
    "While we do have that limitation in estimating the population mean, one great thing about distributions is that we can also quantify variation. The standard deviation of the sample flavors is around zero-point-three-five-four. Recall that pandas dot-std calculates a sample standard deviation by default. If we calculate the standard deviation of the bootstrap distribution, specifying a ddof of one, then we get a completely different number. So what's going on here?"
   ],
   "execution_count": null,
   "cell_type": "markdown"
  },
  {
   "cell_type": "code",
   "execution_count": 339,
   "outputs": [
    {
     "data": {
      "text/plain": "0.33219624967267974"
     },
     "execution_count": 339,
     "metadata": {},
     "output_type": "execute_result"
    }
   ],
   "source": [
    "coffee_sample[\"flavor\"].std()"
   ],
   "metadata": {
    "collapsed": false,
    "pycharm": {
     "name": "#%%\n"
    }
   }
  },
  {
   "cell_type": "code",
   "execution_count": 340,
   "outputs": [
    {
     "data": {
      "text/plain": "0.014924024684399803"
     },
     "execution_count": 340,
     "metadata": {},
     "output_type": "execute_result"
    }
   ],
   "source": [
    "np.std(bootstrap_dist,ddof=1)"
   ],
   "metadata": {
    "collapsed": false,
    "pycharm": {
     "name": "#%%\n"
    }
   }
  },
  {
   "metadata": {
    "pycharm": {
     "name": "#%% md\n"
    }
   },
   "outputs": [],
   "source": [
    "### 8. Sample, bootstrap dist'n, pop'n standard deviations\n",
    "\n",
    "Remember that one goal of bootstrapping is to quantify what variability we might expect in our sample statistic as we go from one sample to another. Recall that this quantity is called the standard error as measured by the standard deviation of the sampling distribution of that statistic. The standard deviation of the bootstrap means can be used as a way to estimate this measure of uncertainty. If we multiply that standard error by the square root of the sample size, we get an estimate of the standard deviation in the original population. Our estimate of the standard deviation is around point-three-five-three. The true standard deviation is around point-three-four-one, so our estimate is pretty close. In fact, it is closer than just using the sample standard deviation alone."
   ],
   "execution_count": null,
   "cell_type": "markdown"
  },
  {
   "cell_type": "code",
   "execution_count": 341,
   "outputs": [
    {
     "data": {
      "text/plain": "0.33219624967267974"
     },
     "execution_count": 341,
     "metadata": {},
     "output_type": "execute_result"
    }
   ],
   "source": [
    "coffee_sample['flavor'].std()"
   ],
   "metadata": {
    "collapsed": false,
    "pycharm": {
     "name": "#%%\n"
    }
   }
  },
  {
   "cell_type": "code",
   "execution_count": 342,
   "outputs": [],
   "source": [
    "standand_error = np.std(bootstrap_dist,ddof=1)\n"
   ],
   "metadata": {
    "collapsed": false,
    "pycharm": {
     "name": "#%%\n"
    }
   }
  },
  {
   "cell_type": "code",
   "execution_count": 343,
   "outputs": [
    {
     "data": {
      "text/plain": "0.3412548122462262"
     },
     "execution_count": 343,
     "metadata": {},
     "output_type": "execute_result"
    }
   ],
   "source": [
    "coffee_rating[\"flavor\"].std(ddof=0)"
   ],
   "metadata": {
    "collapsed": false,
    "pycharm": {
     "name": "#%%\n"
    }
   }
  },
  {
   "cell_type": "code",
   "execution_count": 344,
   "outputs": [
    {
     "data": {
      "text/plain": "0.3337113369220281"
     },
     "execution_count": 344,
     "metadata": {},
     "output_type": "execute_result"
    }
   ],
   "source": [
    "standand_error * np.sqrt(500)"
   ],
   "metadata": {
    "collapsed": false,
    "pycharm": {
     "name": "#%%\n"
    }
   }
  },
  {
   "metadata": {
    "pycharm": {
     "name": "#%% md\n"
    }
   },
   "outputs": [],
   "source": [
    "### 9. Interpreting the standard errors\n",
    "\n",
    "To recap, the estimated standard error is the standard deviation of the bootstrap distribution values for our statistic of interest. This estimated standard error times the square root of the sample size gives a really good estimate of the standard deviation of the population. That is, although bootstrapping was poor at estimating the population mean, it is generally great for estimating the population standard deviation."
   ],
   "execution_count": null,
   "cell_type": "markdown"
  },
  {
   "metadata": {
    "pycharm": {
     "name": "#%% md\n"
    }
   },
   "outputs": [],
   "source": [
    "### 10. Let's practice!\n",
    "\n",
    "Let's play with some standard errors."
   ],
   "execution_count": null,
   "cell_type": "markdown"
  },
  {
   "metadata": {
    "pycharm": {
     "name": "#%% md\n"
    }
   },
   "outputs": [],
   "source": [
    "## Sampling distribution vs. bootstrap distribution\n",
    "\n",
    "<p>The sampling distribution and bootstrap distribution are closely linked. In situations where you can repeatedly sample from a population (these occasions are rare), it's helpful to generate both the sampling distribution and the bootstrap distribution, one after the other, to see how they are related.</p>\n",
    "<p>Here, the statistic you are interested in is the mean <code>popularity</code> score of the songs.</p>\n",
    "<p><code>spotify_population</code> (the whole dataset) and <code>spotify_sample</code> (<code>500</code> randomly sampled rows from <code>spotify_population</code>) are available; <code>pandas</code> and <code>numpy</code> are loaded with their usual aliases.</p>"
   ],
   "execution_count": null,
   "cell_type": "markdown"
  },
  {
   "metadata": {
    "pycharm": {
     "name": "#%% md\n"
    }
   },
   "outputs": [],
   "source": [
    "Generate a sampling distribution of 2000 replicates."
   ],
   "execution_count": null,
   "cell_type": "markdown"
  },
  {
   "metadata": {
    "pycharm": {
     "name": "#%% md\n"
    }
   },
   "outputs": [],
   "source": [
    "Sample 500 rows of the population without replacement and calculate the mean <code>popularity</code>."
   ],
   "execution_count": null,
   "cell_type": "markdown"
  },
  {
   "metadata": {
    "pycharm": {
     "name": "#%% md\n"
    }
   },
   "outputs": [],
   "source": [
    "Generate a bootstrap distribution of 2000 replicates."
   ],
   "execution_count": null,
   "cell_type": "markdown"
  },
  {
   "metadata": {
    "pycharm": {
     "name": "#%% md\n"
    }
   },
   "outputs": [],
   "source": [
    "Sample 500 rows of the sample with replacement and calculate the mean <code>popularity</code>."
   ],
   "execution_count": null,
   "cell_type": "markdown"
  },
  {
   "metadata": {
    "pycharm": {
     "name": "#%% md\n"
    }
   },
   "outputs": [],
   "source": [
    "## Compare sampling and bootstrap means\n",
    "\n",
    "<p>To make calculation easier, distributions similar to those calculated from the previous exercise have been included, this time using a sample size of <code>5000</code>.</p>\n",
    "<p><code>spotify_population</code>, <code>spotify_sample</code>, <code>sampling_distribution</code>, and <code>bootstrap_distribution</code> are available; <code>pandas</code> and <code>numpy</code> are loaded with their usual aliases.</p>"
   ],
   "execution_count": null,
   "cell_type": "markdown"
  },
  {
   "metadata": {
    "pycharm": {
     "name": "#%% md\n"
    }
   },
   "outputs": [],
   "source": [
    "Population: from <code>spotify_population</code>, take the mean of <code>popularity</code>."
   ],
   "execution_count": null,
   "cell_type": "markdown"
  },
  {
   "metadata": {
    "pycharm": {
     "name": "#%% md\n"
    }
   },
   "outputs": [],
   "source": [
    "Sample: from <code>spotify_sample</code>, take the mean of <code>popularity</code>."
   ],
   "execution_count": null,
   "cell_type": "markdown"
  },
  {
   "metadata": {
    "pycharm": {
     "name": "#%% md\n"
    }
   },
   "outputs": [],
   "source": [
    "Sampling distribution: from <code>sampling_distribution</code>, take its mean."
   ],
   "execution_count": null,
   "cell_type": "markdown"
  },
  {
   "metadata": {
    "pycharm": {
     "name": "#%% md\n"
    }
   },
   "outputs": [],
   "source": [
    "Bootstrap distribution: from <code>bootstrap_distribution</code>, take its mean."
   ],
   "execution_count": null,
   "cell_type": "markdown"
  },
  {
   "metadata": {
    "pycharm": {
     "name": "#%% md\n"
    }
   },
   "outputs": [],
   "source": [
    "## Compare sampling and bootstrap standard deviations\n",
    "\n",
    "<p>In the same way that you looked at how the sampling distribution and bootstrap distribution could be used to estimate the population mean, you'll now take a look at how they can be used to estimate variation, or more specifically, the standard deviation, in the population. </p>\n",
    "<p>Recall that the sample size is <code>5000</code>.</p>\n",
    "<p><code>spotify_population</code>, <code>spotify_sample</code>, <code>sampling_distribution</code>, and <code>bootstrap_distribution</code> are available; <code>pandas</code> and <code>numpy</code> are loaded with their usual aliases.</p>"
   ],
   "execution_count": null,
   "cell_type": "markdown"
  },
  {
   "metadata": {
    "pycharm": {
     "name": "#%% md\n"
    }
   },
   "outputs": [],
   "source": [
    "Population: from <code>spotify_population</code>, take the standard deviation of <code>popularity</code>."
   ],
   "execution_count": null,
   "cell_type": "markdown"
  },
  {
   "metadata": {
    "pycharm": {
     "name": "#%% md\n"
    }
   },
   "outputs": [],
   "source": [
    "Original sample: from <code>spotify_sample</code>, take the standard deviation of <code>popularity</code>."
   ],
   "execution_count": null,
   "cell_type": "markdown"
  },
  {
   "metadata": {
    "pycharm": {
     "name": "#%% md\n"
    }
   },
   "outputs": [],
   "source": [
    "Sampling distribution: from <code>sampling_distribution</code>, take its standard deviation and multiply by the square root of the sample size (<code>5000</code>)."
   ],
   "execution_count": null,
   "cell_type": "markdown"
  },
  {
   "metadata": {
    "pycharm": {
     "name": "#%% md\n"
    }
   },
   "outputs": [],
   "source": [
    "Bootstrap distribution: from <code>bootstrap_distribution</code>, take its standard deviation and multiply by the square root of the sample size."
   ],
   "execution_count": null,
   "cell_type": "markdown"
  },
  {
   "metadata": {
    "pycharm": {
     "name": "#%% md\n"
    }
   },
   "outputs": [],
   "source": [
    "## Venus infers"
   ],
   "execution_count": null,
   "cell_type": "markdown"
  },
  {
   "metadata": {
    "pycharm": {
     "name": "#%% md\n"
    }
   },
   "outputs": [],
   "source": [
    "### 1. Venus infers\n",
    "\n",
    "In the last few exercises, you looked at relationships between the sampling distribution and the bootstrap distribution."
   ],
   "execution_count": null,
   "cell_type": "markdown"
  },
  {
   "metadata": {
    "pycharm": {
     "name": "#%% md\n"
    }
   },
   "outputs": [],
   "source": [
    "### 2. Confidence intervals\n",
    "\n",
    "One way to quantify these distributions is the idea of \"values within one standard deviation of the mean\", which gives a good sense of where most of the values in a distribution lie. In this final lesson, we'll formalize the idea of values close to a statistic by defining the term \"confidence interval\"."
   ],
   "execution_count": null,
   "cell_type": "markdown"
  },
  {
   "metadata": {
    "pycharm": {
     "name": "#%% md\n"
    }
   },
   "outputs": [],
   "source": [
    "### 3. Predicting the weather\n",
    "\n",
    "Consider meteorologists predicting weather in one of the world's most unpredictable regions - the northern Great Plains of the US and Canada. Rapid City, South Dakota was ranked as the least predictable of the 120 US cities with a National Weather Service forecast office. Suppose we've taken a job as a meteorologist at a news station in Rapid City. Our job is to predict tomorrow's high temperature."
   ],
   "execution_count": null,
   "cell_type": "markdown"
  },
  {
   "metadata": {
    "pycharm": {
     "name": "#%% md\n"
    }
   },
   "outputs": [],
   "source": [
    "### 4. Our weather prediction\n",
    "\n",
    "We analyze the weather data using the best forecasting tools available to us and predict a high temperature of 47 degrees Fahrenheit. In this case, 47 degrees is our point estimate. Since the weather is variable, and many South Dakotans will plan their day tomorrow based on our forecast, we'd instead like to present a range of plausible values for the high temperature. On our weather show, we report that the high temperature will be between forty and fifty-four degrees tomorrow."
   ],
   "execution_count": null,
   "cell_type": "markdown"
  },
  {
   "metadata": {
    "pycharm": {
     "name": "#%% md\n"
    }
   },
   "outputs": [],
   "source": [
    "### 5. We just reported a confidence interval!\n",
    "\n",
    "This prediction of forty to fifty-four degrees can be thought of as a confidence interval for the unknown quantity of tomorrow's high temperature. Although we can't be sure of the exact temperature, we are confident that it will be in that range. These results are often written as the point estimate followed by the confidence interval's lower and upper bounds in parentheses or square brackets. When the confidence interval is symmetric around the point estimate, we can represent it as the point estimate plus or minus the margin of error, in this case, seven degrees."
   ],
   "execution_count": null,
   "cell_type": "markdown"
  },
  {
   "metadata": {
    "pycharm": {
     "name": "#%% md\n"
    }
   },
   "outputs": [],
   "source": [
    "### 6. Bootstrap distribution of mean flavor\n",
    "\n",
    "Here's the bootstrap distribution of the mean flavor from the coffee dataset."
   ],
   "execution_count": null,
   "cell_type": "markdown"
  },
  {
   "metadata": {
    "pycharm": {
     "name": "#%% md\n"
    }
   },
   "outputs": [],
   "source": [
    "### 7. Mean of the resamples\n",
    "\n",
    "We can calculate the mean of these resampled mean flavors."
   ],
   "execution_count": null,
   "cell_type": "markdown"
  },
  {
   "metadata": {
    "pycharm": {
     "name": "#%% md\n"
    }
   },
   "outputs": [],
   "source": [
    "### 8. Mean plus or minus one standard deviation\n",
    "\n",
    "If we create a confidence interval by adding and subtracting one standard deviation from the mean, we see that there are lots of values in the bootstrap distribution outside of this one standard deviation confidence interval."
   ],
   "execution_count": null,
   "cell_type": "markdown"
  },
  {
   "metadata": {
    "pycharm": {
     "name": "#%% md\n"
    }
   },
   "outputs": [],
   "source": [
    "### 9. Quantile method for confidence intervals\n",
    "\n",
    "If we want to include ninety-five percent of the values in the confidence interval, we can use quantiles. Recall that quantiles split distributions into sections containing a particular proportion of the total data. To get the middle ninety-five percent of values, we go from the point-zero-two-five quantile to the point-nine-seven-five quantile since the difference between those two numbers is point-nine-five. To calculate the lower and upper bounds for this confidence interval, we call quantile from NumPy, passing the distribution values and the quantile values to use. The confidence interval is from around seven-point-four-eight to seven-point-five-four."
   ],
   "execution_count": null,
   "cell_type": "markdown"
  },
  {
   "metadata": {
    "pycharm": {
     "name": "#%% md\n"
    }
   },
   "outputs": [],
   "source": [
    "### 10. Inverse cumulative distribution function\n",
    "\n",
    "There is a second method to calculate confidence intervals. To understand it, we need to be familiar with the normal distribution's inverse cumulative distribution function. The bell curve we've seen before is the probability density function or PDF. Using calculus, if we integrate this, we get the cumulative distribution function or CDF. If we flip the x and y axes, we get the inverse CDF. We can use scipy-dot-stats and call norm-dot-ppf to get the inverse CDF. It takes a quantile between zero and one and returns the values of the normal distribution for that quantile. The parameters of loc and scale are set to 0 and 1 by default, corresponding to the standard normal distribution. Notice that the values corresponding to point-zero-two-five and point-nine-seven-five are about minus and plus two for the standard normal distribution."
   ],
   "execution_count": null,
   "cell_type": "markdown"
  },
  {
   "metadata": {
    "pycharm": {
     "name": "#%% md\n"
    }
   },
   "outputs": [],
   "source": [
    "### 11. Standard error method for confidence interval\n",
    "\n",
    "This second method for calculating a confidence interval is called the standard error method. First, we calculate the point estimate, which is the mean of the bootstrap distribution, and the standard error, which is estimated by the standard deviation of the bootstrap distribution. Then we call norm-dot-ppf to get the inverse CDF of the normal distribution with the same mean and standard deviation as the bootstrap distribution. Again, the confidence interval is from seven-point-four-eight to seven-point-five-four, though the numbers differ slightly from last time since our bootstrap distribution isn't perfectly normal."
   ],
   "execution_count": null,
   "cell_type": "markdown"
  },
  {
   "metadata": {
    "pycharm": {
     "name": "#%% md\n"
    }
   },
   "outputs": [],
   "source": [
    "### 12. Let's practice!\n",
    "\n",
    "Let's calculate some confidence intervals!"
   ],
   "execution_count": null,
   "cell_type": "markdown"
  },
  {
   "metadata": {
    "pycharm": {
     "name": "#%% md\n"
    }
   },
   "outputs": [],
   "source": [
    "## Calculating confidence intervals\n",
    "\n",
    "<p>You have learned about two methods for calculating confidence intervals: the <em>quantile method</em> and the <em>standard error method</em>. The standard error method involves using the inverse cumulative distribution function (inverse CDF) of the normal distribution to calculate confidence intervals. In this exercise, you'll perform these two methods on the Spotify data.</p>\n",
    "<p><code>spotify_population</code>, <code>spotify_sample</code>, and <code>bootstrap_distribution</code> are available; <code>pandas</code> and <code>numpy</code> are loaded with their usual aliases, and <code>norm</code> has been loaded from <code>scipy.stats</code>.</p>"
   ],
   "execution_count": null,
   "cell_type": "markdown"
  },
  {
   "metadata": {
    "pycharm": {
     "name": "#%% md\n"
    }
   },
   "outputs": [],
   "source": [
    "Generate a 95% confidence interval using the quantile method on the bootstrap distribution, setting the <code>0.025</code> quantile as <code>lower_quant</code> and the <code>0.975</code> quantile as <code>upper_quant</code>."
   ],
   "execution_count": null,
   "cell_type": "markdown"
  },
  {
   "metadata": {
    "pycharm": {
     "name": "#%% md\n"
    }
   },
   "outputs": [],
   "source": [
    "Calculate <code>point_estimate</code> as the mean of <code>bootstrap_distribution</code>, and <code>standard_error</code> as the standard deviation of <code>bootstrap_distribution</code>."
   ],
   "execution_count": null,
   "cell_type": "markdown"
  },
  {
   "metadata": {
    "pycharm": {
     "name": "#%% md\n"
    }
   },
   "outputs": [],
   "source": [
    "Calculate <code>lower_se</code> as the <code>0.025</code> quantile of an inv. CDF from a normal distribution with mean <code>point_estimate</code> and standard deviation <code>standard_error</code>."
   ],
   "execution_count": null,
   "cell_type": "markdown"
  },
  {
   "metadata": {
    "pycharm": {
     "name": "#%% md\n"
    }
   },
   "outputs": [],
   "source": [
    "Calculate <code>upper_se</code> as the <code>0.975</code> quantile of that same inv. CDF."
   ],
   "execution_count": null,
   "cell_type": "markdown"
  },
  {
   "metadata": {
    "pycharm": {
     "name": "#%% md\n"
    }
   },
   "outputs": [],
   "source": [
    "## Congratulations"
   ],
   "execution_count": null,
   "cell_type": "markdown"
  },
  {
   "metadata": {
    "pycharm": {
     "name": "#%% md\n"
    }
   },
   "outputs": [],
   "source": [
    "### 1. Congratulations\n",
    "\n",
    "Congratulations on completing the course! We've covered a lot of ground!"
   ],
   "execution_count": null,
   "cell_type": "markdown"
  },
  {
   "metadata": {
    "pycharm": {
     "name": "#%% md\n"
    }
   },
   "outputs": [],
   "source": [
    "### 2. Recap\n",
    "\n",
    "In Chapter 1, you learned about the basic principles of sampling, the problems caused by selection bias, and what pseudo-random numbers are. In Chapter 2, you learned how to perform the four most common methods of sampling: simple random sampling, systematic sampling, stratified sampling, and cluster sampling. In Chapter 3, you learned how sample size affects estimates of population parameters, how to use repeated sampling to generate a sampling distribution, the difference between approximate and exact sampling distributions, and you encountered the central limit theorem. Finally, in Chapter 4, you learned how to perform bootstrapping to estimate population parameters from a single sample, what the standard error of a statistic is, and two ways to calculate confidence intervals."
   ],
   "execution_count": null,
   "cell_type": "markdown"
  },
  {
   "metadata": {
    "pycharm": {
     "name": "#%% md\n"
    }
   },
   "outputs": [],
   "source": [
    "### 3. The most important things\n",
    "\n",
    "There are two results from the last chapter that are really important for hypothesis testing, and it's important to make sure you understand them. Firstly, the standard deviation of a bootstrap distribution statistic is a good approximation for the standard error of the sampling distribution. Secondly, you calculated confidence intervals for statistics using both the quantile method and the standard error method, and they gave very similar answers. That means that the normal distribution tends to be a good approximation for bootstrap distributions."
   ],
   "execution_count": null,
   "cell_type": "markdown"
  },
  {
   "metadata": {
    "pycharm": {
     "name": "#%% md\n"
    }
   },
   "outputs": [],
   "source": [
    "### 4. What's next?\n",
    "\n",
    "Sampling is tremendously important in many areas of data science. It is used heavily in experimental design, such as designing A/B tests. It's a cornerstone of hypothesis testing and inferential statistics. Finally, understanding sampling is crucial to understanding concepts in probability and Bayesian statistics."
   ],
   "execution_count": null,
   "cell_type": "markdown"
  },
  {
   "metadata": {
    "pycharm": {
     "name": "#%% md\n"
    }
   },
   "outputs": [],
   "source": [
    "### 5. Happy learning!\n",
    "\n",
    "Congratulations again! Happy learning!"
   ],
   "execution_count": null,
   "cell_type": "markdown"
  }
 ],
 "metadata": {
  "kernelspec": {
   "display_name": "Python 3 (ipykernel)",
   "language": "python",
   "name": "python3"
  },
  "language_info": {
   "codemirror_mode": {
    "name": "ipython",
    "version": 3
   },
   "file_extension": ".py",
   "mimetype": "text/x-python",
   "name": "python",
   "nbconvert_exporter": "python",
   "pygments_lexer": "ipython3",
   "version": "3.9.12"
  },
  "toc": {
   "base_numbering": 1,
   "nav_menu": {},
   "number_sections": true,
   "sideBar": true,
   "skip_h1_title": false,
   "title_cell": "Table of Contents",
   "title_sidebar": "Contents",
   "toc_cell": false,
   "toc_position": {
    "height": "calc(100% - 180px)",
    "left": "10px",
    "top": "150px",
    "width": "165px"
   },
   "toc_section_display": true,
   "toc_window_display": true
  },
  "varInspector": {
   "cols": {
    "lenName": 16,
    "lenType": 16,
    "lenVar": 40
   },
   "kernels_config": {
    "python": {
     "delete_cmd_postfix": "",
     "delete_cmd_prefix": "del ",
     "library": "var_list.py",
     "varRefreshCmd": "print(var_dic_list())"
    },
    "r": {
     "delete_cmd_postfix": ") ",
     "delete_cmd_prefix": "rm(",
     "library": "var_list.r",
     "varRefreshCmd": "cat(var_dic_list()) "
    }
   },
   "types_to_exclude": [
    "module",
    "function",
    "builtin_function_or_method",
    "instance",
    "_Feature"
   ],
   "window_display": false
  }
 },
 "nbformat": 4,
 "nbformat_minor": 5
}